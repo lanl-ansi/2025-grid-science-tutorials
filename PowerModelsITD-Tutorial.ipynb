{
 "cells": [
  {
   "cell_type": "markdown",
   "id": "c60a0936-4fc5-4307-8f63-613e488e2cc9",
   "metadata": {},
   "source": [
    "# Introduction to PowerModels, PowerModelsDistribution, and PowerModelsITD\n",
    "\n",
    "**Author**:\\\n",
    "Juan Ospina,\\\n",
    "Scientist,\\\n",
    "A-1 Information Systems and Modeling Group,\\\n",
    "jjospina@lanl.gov\n",
    "\n",
    "**Presented by**: David M. Fobes\n",
    "\n",
    "LA-UR-25-20073\n",
    "\n",
    "**Los Alamos National Laboratory Grid Science Winter School 2025**\n",
    "\n",
    "Welcome! This tutorial will introduce you to the basics of the [PowerModels.jl](https://github.com/lanl-ansi/PowerModels.jl) (PM), [PowerModelsDistribution.jl](https://github.com/lanl-ansi/PowerModelsDistribution.jl) (PMD) and [PowerModelsITD.jl](https://github.com/lanl-ansi/PowerModelsITD.jl) (PMITD) packages. These packages are developed using the [Julia](https://julialang.org/) programming language and are based on [JuMP](https://jump.dev/JuMP.jl/stable/), so basic knowledge is assumed.\n",
    "\n",
    "## What are these packages?\n",
    "PM, PMD, and PMTID are Julia/JuMP packages for conducting steady-state power network optimization. This means we can run (or solve) power flow (PF) and optimal power flow (OPFs) optimization problems modeled in the steady-state domain. \n",
    "\n",
    "<img src=\"https://camo.githubusercontent.com/e9dbe9703f789d305a3e0f8006fc64e9474bc19f95439dc01fecd1000e0af86c/68747470733a2f2f6c616e6c2d616e73692e6769746875622e696f2f506f7765724d6f64656c732e6a6c2f6465762f6173736574732f6c6f676f2e737667\" style=\"height:100px\" /> **_PowerModels_ (PM)** : Focuses on **Transmission** systems. Single-phase (Positive sequence), balanced systems.\n",
    "\n",
    "<img src=\"https://camo.githubusercontent.com/35dd704d4c5091e212e462fc7929432eb9e4725796f48c8cda1166243ac189d9/68747470733a2f2f6c616e6c2d616e73692e6769746875622e696f2f506f7765724d6f64656c73446973747269627574696f6e2e6a6c2f6465762f6173736574732f6c6f676f2e737667\" style=\"height:100px\" /> **_PowerModelsDistribution_ (PMD)** : Focuses on **Distribution** systems. Multiconductor (multiphase) unbalanced systems.\n",
    "\n",
    "\n",
    "<img src=\"https://camo.githubusercontent.com/d8f39ffb7e1bb8975b41e0417b9cbede693b8bfd3b731b3a5e64da73af585550/68747470733a2f2f6c616e6c2d616e73692e6769746875622e696f2f506f7765724d6f64656c734954442e6a6c2f6465762f6173736574732f6c6f676f2e737667\" style=\"height:100px\" /> **_PowerModelsITD_ (PMITD)** : Focuses on **Transmission & Distribution** systems. _Single-phase-balanced--to--multiconductor-unbalanced_ systems.\n",
    "\n",
    "## How do these packages distinguish from other tools such as OpenDSS and MATPOWER?\n",
    "\n",
    "1. **Problem Formulations**: They allow users to evaluate multiple problem formulations, for example the _AC polar_ (voltage magnitude and angles), _AC rectangular_ (real and imaginary voltage values), _DC approximation_, _SOC relaxation_, _Current-Voltage (IV) rectangular_, etc. This means that users can solve the same problem, i.e., PF or OPF, using any of these formulations. They can even develop their own formulations and compare them with the state-of-the-art without lengthy rewrites.\n",
    "2. **Problem Specifications**: Using any of these formulations, users can solve different problem specifications such as PF, OPF, Optimal Transmission Switching (ots), and Transmission Network Expansion Planning (tnep). Users can create their problem specifications and use any formulation to solve them.\n",
    "3. The **InfrastructureModels/PowerModels Ecosystem** is designed to be a common platform for evaluating emerging computational power network formulations, specifications, and algorithms.\n",
    "\n",
    "\n",
    "### (Some) Specific Differences\n",
    "\n",
    "1. **PM vs MATPOWER**: MATPOWER does not allow using different formulations (AC rectangular, IV rectangular, approximations, relaxations)\n",
    "2. **PMD vs OpenDSS**: OpenDSS only supports PF by default and is based on one formulation. If users want to run OPFs, they must add a mathematical optimization problem through other means. Also, similar to MATPOWER, OpenDSS does not allow using different formulations.\n",
    "3. **PMITD vs ???**: To the author's knowledge, there is no other (open-source) tool that allows the **co-optimization** of T&D systems (i.e., building and solving large-scale T&D system co-optimization) where distribution systems are modeled using unbalanced multiphase models. Note that there is a difference between _co-optimization and co-simulation_."
   ]
  },
  {
   "cell_type": "markdown",
   "id": "74ffd894-c36a-4320-b229-03a2820da2c6",
   "metadata": {},
   "source": [
    "# Installing **PowerModels/PowerModelsDistribution/PowerModelsITD**\n",
    "\n",
    "1) First, you will need to install Julia.\n",
    "\n",
    "- Follow the instructions shown [here](https://julialang.org/downloads/) to install Julia in your respective operating system.\n",
    "\n",
    "2) Install PowerModels, PowerModelsDistribution, PowerModelsITD\n",
    "\n",
    "- PowerModels installation instructions can be found [here](https://lanl-ansi.github.io/PowerModels.jl/stable/).\n",
    "- PowerModelsDistribution installation instructions can be found [here](https://lanl-ansi.github.io/PowerModelsDistribution.jl/stable/installation.html).\n",
    "- PowerModelsITD installation instructions can be found [here](https://lanl-ansi.github.io/PowerModelsITD.jl/stable/installation.html#Installation-Guide).\n",
    "\n",
    "The easiest way to install all of them is to simply, 1) **start Julia**, 2) enter the **Julia REPL**, and 3) type the following command(s):\n",
    "\n",
    "```\n",
    "]add PowerModels\n",
    "```\n",
    "\n",
    "```\n",
    "]add PowerModelsDistribution\n",
    "```\n",
    "\n",
    "```\n",
    "]add PowerModelsITD\n",
    "```\n"
   ]
  },
  {
   "cell_type": "markdown",
   "id": "82646468",
   "metadata": {},
   "source": [
    "In this notebook, the easiest way is to set the Julia environment to the current folder and install the packages with `Pkg`"
   ]
  },
  {
   "cell_type": "code",
   "execution_count": 2,
   "id": "d919ff96",
   "metadata": {
    "scrolled": true
   },
   "outputs": [
    {
     "name": "stderr",
     "output_type": "stream",
     "text": [
      "\u001b[32m\u001b[1m  Activating\u001b[22m\u001b[39m project at `~/Library/CloudStorage/OneDrive-LosAlamosNationalLaboratory/local/working/winter-school`\n",
      "\u001b[32m\u001b[1m    Updating\u001b[22m\u001b[39m registry at `~/.julia/registries/General.toml`\n",
      "\u001b[32m\u001b[1m   Resolving\u001b[22m\u001b[39m package versions...\n",
      "\u001b[32m\u001b[1m  No Changes\u001b[22m\u001b[39m to `~/Library/CloudStorage/OneDrive-LosAlamosNationalLaboratory/local/working/winter-school/Project.toml`\n",
      "\u001b[32m\u001b[1m  No Changes\u001b[22m\u001b[39m to `~/Library/CloudStorage/OneDrive-LosAlamosNationalLaboratory/local/working/winter-school/Manifest.toml`\n",
      "\u001b[32m\u001b[1m   Resolving\u001b[22m\u001b[39m package versions...\n",
      "\u001b[32m\u001b[1m  No Changes\u001b[22m\u001b[39m to `~/Library/CloudStorage/OneDrive-LosAlamosNationalLaboratory/local/working/winter-school/Project.toml`\n",
      "\u001b[32m\u001b[1m  No Changes\u001b[22m\u001b[39m to `~/Library/CloudStorage/OneDrive-LosAlamosNationalLaboratory/local/working/winter-school/Manifest.toml`\n",
      "\u001b[32m\u001b[1m   Resolving\u001b[22m\u001b[39m package versions...\n",
      "\u001b[32m\u001b[1m  No Changes\u001b[22m\u001b[39m to `~/Library/CloudStorage/OneDrive-LosAlamosNationalLaboratory/local/working/winter-school/Project.toml`\n",
      "\u001b[32m\u001b[1m  No Changes\u001b[22m\u001b[39m to `~/Library/CloudStorage/OneDrive-LosAlamosNationalLaboratory/local/working/winter-school/Manifest.toml`\n",
      "\u001b[32m\u001b[1m   Resolving\u001b[22m\u001b[39m package versions...\n",
      "\u001b[32m\u001b[1m  No Changes\u001b[22m\u001b[39m to `~/Library/CloudStorage/OneDrive-LosAlamosNationalLaboratory/local/working/winter-school/Project.toml`\n",
      "\u001b[32m\u001b[1m  No Changes\u001b[22m\u001b[39m to `~/Library/CloudStorage/OneDrive-LosAlamosNationalLaboratory/local/working/winter-school/Manifest.toml`\n"
     ]
    }
   ],
   "source": [
    "using Pkg\n",
    "\n",
    "Pkg.activate(\".\")\n",
    "\n",
    "Pkg.add(\"PowerModels\")\n",
    "Pkg.add(\"PowerModelsDistribution\")\n",
    "Pkg.add(\"PowerModelsITD\")\n",
    "Pkg.add(\"Ipopt\")"
   ]
  },
  {
   "cell_type": "markdown",
   "id": "3ad7e225-c727-4993-a4ca-f65f035b7665",
   "metadata": {},
   "source": [
    "# Let's start using **PowerModels**\n",
    "\n",
    "## File Formats Supported\n",
    "\n",
    "- Matpower \".m\"\n",
    "- PTI \".raw\" files (PSS(R)E v33 specification)\n",
    "\n",
    "Let's use the `case 5`: PJM 5 Bus **Transmission System** as example. See here the original [MATPOWER file](https://github.com/lanl-ansi/PowerModels.jl/blob/master/test/data/matpower/case5.m) \n",
    "\n",
    "Using this file, let's solve an **optimal power flow (OPF)**."
   ]
  },
  {
   "cell_type": "markdown",
   "id": "7add09bb-b295-49b8-a7ef-341f746e0e94",
   "metadata": {},
   "source": [
    "### Let's import PowerModels and parse the file we want to solve"
   ]
  },
  {
   "cell_type": "code",
   "execution_count": 3,
   "id": "259698ec-cb86-4e8e-95b1-d48f3282a9a3",
   "metadata": {},
   "outputs": [
    {
     "name": "stdout",
     "output_type": "stream",
     "text": [
      "\u001b[35m[warn | PowerModels]: The last 5 generator cost records will be ignored due to too few generator records.\u001b[39m\n",
      "\u001b[35m[warn | PowerModels]: reversing the orientation of branch 6 (4, 3) to be consistent with other parallel branches\u001b[39m\n",
      "\u001b[35m[warn | PowerModels]: bus 3 has an unrecongized bus_type 0, updating to bus_type 2\u001b[39m\n",
      "\u001b[35m[warn | PowerModels]: the voltage setpoint on generator 4 does not match the value at bus 4\u001b[39m\n",
      "\u001b[35m[warn | PowerModels]: the voltage setpoint on generator 1 does not match the value at bus 1\u001b[39m\n",
      "\u001b[35m[warn | PowerModels]: the voltage setpoint on generator 5 does not match the value at bus 10\u001b[39m\n",
      "\u001b[35m[warn | PowerModels]: the voltage setpoint on generator 2 does not match the value at bus 1\u001b[39m\n",
      "\u001b[35m[warn | PowerModels]: the voltage setpoint on generator 3 does not match the value at bus 3\u001b[39m\n",
      "\u001b[32m[info | PowerModels]: removing 1 cost terms from generator 4: [4000.0, 0.0]\u001b[39m\n",
      "\u001b[32m[info | PowerModels]: removing 1 cost terms from generator 1: [1400.0, 0.0]\u001b[39m\n",
      "\u001b[32m[info | PowerModels]: removing 1 cost terms from generator 5: [1000.0, 0.0]\u001b[39m\n",
      "\u001b[32m[info | PowerModels]: removing 1 cost terms from generator 2: [1500.0, 0.0]\u001b[39m\n",
      "\u001b[32m[info | PowerModels]: removing 1 cost terms from generator 3: [3000.0, 0.0]\u001b[39m\n"
     ]
    },
    {
     "data": {
      "text/plain": [
       "Dict{String, Any} with 13 entries:\n",
       "  \"bus\"            => Dict{String, Any}(\"4\"=>Dict{String, Any}(\"zone\"=>1, \"bus_…\n",
       "  \"source_type\"    => \"matpower\"\n",
       "  \"name\"           => \"case5\"\n",
       "  \"dcline\"         => Dict{String, Any}()\n",
       "  \"source_version\" => \"2\"\n",
       "  \"gen\"            => Dict{String, Any}(\"4\"=>Dict{String, Any}(\"pg\"=>0.0, \"mode…\n",
       "  \"branch\"         => Dict{String, Any}(\"4\"=>Dict{String, Any}(\"br_r\"=>0.00108,…\n",
       "  \"storage\"        => Dict{String, Any}()\n",
       "  \"switch\"         => Dict{String, Any}()\n",
       "  \"baseMVA\"        => 100.0\n",
       "  \"per_unit\"       => true\n",
       "  \"shunt\"          => Dict{String, Any}()\n",
       "  \"load\"           => Dict{String, Any}(\"1\"=>Dict{String, Any}(\"source_id\"=>Any…"
      ]
     },
     "execution_count": 3,
     "metadata": {},
     "output_type": "execute_result"
    }
   ],
   "source": [
    "# import package\n",
    "using PowerModels\n",
    "\n",
    "# Define the path to be the PowerModels path (optional)\n",
    "files_path = joinpath(dirname(pathof(PowerModels)), \"..\")\n",
    "pm_file = joinpath(files_path, \"test/data/matpower/case5.m\")\n",
    "\n",
    "# parse the file into dictionary\n",
    "data = parse_file(pm_file)\n"
   ]
  },
  {
   "cell_type": "markdown",
   "id": "2fa33767-c600-4273-a81e-67b45ae249ab",
   "metadata": {},
   "source": [
    "As you can see, the information gets parsed into a **Julia dictionary**. Also, we get some informational messages (i.e., `info` and `warnings`). If we want to **silence** this output we need to use the following line in the code:"
   ]
  },
  {
   "cell_type": "code",
   "execution_count": 4,
   "id": "7af9ac55-a87d-4483-aa21-dcd874eb521f",
   "metadata": {},
   "outputs": [
    {
     "name": "stdout",
     "output_type": "stream",
     "text": [
      "\u001b[32m[info | PowerModels]: Suppressing information and warning messages for the rest of this session.  Use the Memento package for more fine-grained control of logging.\u001b[39m\n"
     ]
    }
   ],
   "source": [
    "PowerModels.silence()"
   ]
  },
  {
   "cell_type": "markdown",
   "id": "acee4a4a-f836-438e-88b4-50e35ef02c06",
   "metadata": {},
   "source": [
    "Now, let's look at some of the data in the network presented in the dictionary.\n",
    "\n",
    "Let's start with the `buses` in the network. "
   ]
  },
  {
   "cell_type": "code",
   "execution_count": 5,
   "id": "8547d288-a387-4f94-8e8d-04d0f62775f4",
   "metadata": {},
   "outputs": [
    {
     "data": {
      "text/plain": [
       "Dict{String, Any} with 5 entries:\n",
       "  \"4\"  => Dict{String, Any}(\"zone\"=>1, \"bus_i\"=>4, \"bus_type\"=>3, \"vmax\"=>1.1, …\n",
       "  \"1\"  => Dict{String, Any}(\"zone\"=>1, \"bus_i\"=>1, \"bus_type\"=>2, \"vmax\"=>1.1, …\n",
       "  \"10\" => Dict{String, Any}(\"zone\"=>1, \"bus_i\"=>10, \"bus_type\"=>2, \"vmax\"=>1.1,…\n",
       "  \"2\"  => Dict{String, Any}(\"zone\"=>1, \"bus_i\"=>2, \"bus_type\"=>1, \"vmax\"=>1.1, …\n",
       "  \"3\"  => Dict{String, Any}(\"zone\"=>1, \"bus_i\"=>3, \"bus_type\"=>2, \"vmax\"=>1.1, …"
      ]
     },
     "execution_count": 5,
     "metadata": {},
     "output_type": "execute_result"
    }
   ],
   "source": [
    "data[\"bus\"]"
   ]
  },
  {
   "cell_type": "markdown",
   "id": "2911bb91-3202-4902-88e6-61ae39fcb53f",
   "metadata": {},
   "source": [
    "Let's look specifically for bus `2` data. Here, we can see the bus type, voltage max in per unit (vmax), voltage min (vmin) in per unit, and other data."
   ]
  },
  {
   "cell_type": "code",
   "execution_count": 6,
   "id": "6bb11618-fb73-4970-9c9f-66c717fc3299",
   "metadata": {},
   "outputs": [
    {
     "data": {
      "text/plain": [
       "Dict{String, Any} with 11 entries:\n",
       "  \"zone\"      => 1\n",
       "  \"bus_i\"     => 2\n",
       "  \"bus_type\"  => 1\n",
       "  \"vmax\"      => 1.1\n",
       "  \"source_id\" => Any[\"bus\", 2]\n",
       "  \"area\"      => 1\n",
       "  \"vmin\"      => 0.9\n",
       "  \"index\"     => 2\n",
       "  \"va\"        => -0.0128221\n",
       "  \"vm\"        => 1.08407\n",
       "  \"base_kv\"   => 230.0"
      ]
     },
     "execution_count": 6,
     "metadata": {},
     "output_type": "execute_result"
    }
   ],
   "source": [
    "data[\"bus\"][\"2\"]"
   ]
  },
  {
   "cell_type": "markdown",
   "id": "68e5df7d-5cdf-4aef-980b-59eb90038d16",
   "metadata": {},
   "source": [
    "Now, let's take a look at branches (i.e., lines) and loads"
   ]
  },
  {
   "cell_type": "code",
   "execution_count": 7,
   "id": "39549134-60af-4acc-858c-8b935f6bc947",
   "metadata": {},
   "outputs": [
    {
     "data": {
      "text/plain": [
       "Dict{String, Any} with 7 entries:\n",
       "  \"4\" => Dict{String, Any}(\"br_r\"=>0.00108, \"rate_a\"=>4.26, \"shift\"=>0.0, \"rate…\n",
       "  \"1\" => Dict{String, Any}(\"br_r\"=>0.00281, \"rate_a\"=>4.0, \"shift\"=>0.0, \"rate_…\n",
       "  \"5\" => Dict{String, Any}(\"br_r\"=>0.00297, \"rate_a\"=>4.26, \"shift\"=>0.0174533,…\n",
       "  \"2\" => Dict{String, Any}(\"br_r\"=>0.00304, \"rate_a\"=>4.26, \"shift\"=>0.0, \"rate…\n",
       "  \"6\" => Dict{String, Any}(\"br_r\"=>0.00327443, \"rate_a\"=>4.26, \"shift\"=>0.01745…\n",
       "  \"7\" => Dict{String, Any}(\"br_r\"=>0.00297, \"rate_a\"=>2.4, \"shift\"=>0.0, \"rate_…\n",
       "  \"3\" => Dict{String, Any}(\"br_r\"=>0.00064, \"rate_a\"=>4.26, \"shift\"=>0.0, \"rate…"
      ]
     },
     "execution_count": 7,
     "metadata": {},
     "output_type": "execute_result"
    }
   ],
   "source": [
    "data[\"branch\"]"
   ]
  },
  {
   "cell_type": "code",
   "execution_count": 8,
   "id": "09f01b7a-e496-4ee4-b762-1768b252e9ab",
   "metadata": {},
   "outputs": [
    {
     "data": {
      "text/plain": [
       "Dict{String, Any} with 19 entries:\n",
       "  \"br_r\"        => 0.00297\n",
       "  \"rate_a\"      => 4.26\n",
       "  \"shift\"       => 0.0174533\n",
       "  \"rate_b\"      => 4.26\n",
       "  \"br_x\"        => 0.0297\n",
       "  \"rate_c\"      => 4.26\n",
       "  \"g_to\"        => 0.0\n",
       "  \"g_fr\"        => 0.0\n",
       "  \"source_id\"   => Any[\"branch\", 5]\n",
       "  \"b_fr\"        => 0.00337\n",
       "  \"f_bus\"       => 3\n",
       "  \"br_status\"   => 1\n",
       "  \"t_bus\"       => 4\n",
       "  \"b_to\"        => 0.00337\n",
       "  \"index\"       => 5\n",
       "  \"angmin\"      => -0.523599\n",
       "  \"angmax\"      => 0.523599\n",
       "  \"transformer\" => true\n",
       "  \"tap\"         => 1.05"
      ]
     },
     "execution_count": 8,
     "metadata": {},
     "output_type": "execute_result"
    }
   ],
   "source": [
    "data[\"branch\"][\"5\"]"
   ]
  },
  {
   "cell_type": "code",
   "execution_count": 9,
   "id": "295c7f6f-b7f3-4e1e-85cd-f18ceaab9341",
   "metadata": {},
   "outputs": [
    {
     "data": {
      "text/plain": [
       "Dict{String, Any} with 3 entries:\n",
       "  \"1\" => Dict{String, Any}(\"source_id\"=>Any[\"bus\", 2], \"load_bus\"=>2, \"status\"=…\n",
       "  \"2\" => Dict{String, Any}(\"source_id\"=>Any[\"bus\", 3], \"load_bus\"=>3, \"status\"=…\n",
       "  \"3\" => Dict{String, Any}(\"source_id\"=>Any[\"bus\", 4], \"load_bus\"=>4, \"status\"=…"
      ]
     },
     "execution_count": 9,
     "metadata": {},
     "output_type": "execute_result"
    }
   ],
   "source": [
    "data[\"load\"]"
   ]
  },
  {
   "cell_type": "code",
   "execution_count": 10,
   "id": "aae1b519-fe72-46c9-a32e-99879f9f63e9",
   "metadata": {},
   "outputs": [
    {
     "data": {
      "text/plain": [
       "Dict{String, Any} with 6 entries:\n",
       "  \"source_id\" => Any[\"bus\", 4]\n",
       "  \"load_bus\"  => 4\n",
       "  \"status\"    => 1\n",
       "  \"qd\"        => 1.3147\n",
       "  \"pd\"        => 4.0\n",
       "  \"index\"     => 3"
      ]
     },
     "execution_count": 10,
     "metadata": {},
     "output_type": "execute_result"
    }
   ],
   "source": [
    "data[\"load\"][\"3\"]"
   ]
  },
  {
   "cell_type": "markdown",
   "id": "4fad3cb2-7269-48de-be56-5b593c335132",
   "metadata": {},
   "source": [
    "We can also use the `print_summary` function (_only available in PowerModels_) to print a table-like summary of the network data."
   ]
  },
  {
   "cell_type": "code",
   "execution_count": 11,
   "id": "293a8105-7932-4d93-8f31-6a4e7ff9c15a",
   "metadata": {},
   "outputs": [
    {
     "name": "stdout",
     "output_type": "stream",
     "text": [
      "\u001b[1mMetadata\u001b[0m\n",
      "  baseMVA: 100.000\n",
      "  name: case5\n",
      "  per_unit: true\n",
      "  source_type: matpower\n",
      "  source_version: 2\n",
      "\n",
      "\u001b[1mTable Counts\u001b[0m\n",
      "  bus: 5\n",
      "  load: 3\n",
      "  shunt: 0\n",
      "  gen: 5\n",
      "  storage: 0\n",
      "  switch: 0\n",
      "  branch: 7\n",
      "  dcline: 0\n",
      "\n",
      "\n",
      "\u001b[1mTable: bus\u001b[0m\n",
      "         bus_i, bus_type,    vm,     va\n",
      "      1:     1,        2, 1.000,  0.049\n",
      "      2:     2,        1, 1.084, -0.013\n",
      "      3:     3,        2, 1.000, -0.010\n",
      "      4:     4,        3, 1.000,  0.000\n",
      "     10:    10,        2, 1.000,  0.063\n",
      "\n",
      "  default values:\n",
      "    base_kv: 230.000\n",
      "    vmin: 0.900\n",
      "    vmax: 1.100\n",
      "    area: 1\n",
      "    source_id: [(2)]\n",
      "    zone: 1\n",
      "\n",
      "\n",
      "\u001b[1mTable: load\u001b[0m\n",
      "         load_bus,    pd,    qd\n",
      "      1:        2, 3.000, 0.986\n",
      "      2:        3, 3.000, 0.986\n",
      "      3:        4, 4.000, 1.315\n",
      "\n",
      "  default values:\n",
      "    status: 1\n",
      "    source_id: [(2)]\n",
      "\n",
      "\n",
      "\u001b[1mTable: gen\u001b[0m\n",
      "         gen_bus,    pg,     qg,    vg,  pmax,   qmin,  qmax\n",
      "      1:       1, 0.400,  0.300, 1.078, 0.400, -0.300, 0.300\n",
      "      2:       1, 1.700,  1.275, 1.078, 1.700, -1.275, 1.275\n",
      "      3:       3, 3.245,  3.900, 1.100, 5.200, -3.900, 3.900\n",
      "      4:       4, 0.000, -0.108, 1.064, 2.000, -1.500, 1.500\n",
      "      5:      10, 4.707, -1.650, 1.069, 6.000, -4.500, 4.500\n",
      "\n",
      "  default values:\n",
      "    mbase: 100.000\n",
      "    pmin: 0.000\n",
      "    gen_status: 1\n",
      "    model: 2\n",
      "    ncost: 2\n",
      "    cost: [(2)]\n",
      "    startup: 0.000\n",
      "    shutdown: 0.000\n",
      "    source_id: [(2)]\n",
      "\n",
      "\n",
      "\u001b[1mTable: branch\u001b[0m\n",
      "         f_bus, t_bus,  br_r,  br_x,  b_fr,  b_to,   tap, shift, rate_a, rate_b, rate_c, transformer\n",
      "      1:     1,     2, 0.003, 0.028, 0.004, 0.004, 1.000, 0.000,  4.000,  4.000,  4.000,       false\n",
      "      2:     1,     4, 0.003, 0.030, 0.003, 0.003, 1.000, 0.000,  4.260,  4.260,  4.260,       false\n",
      "      3:     1,    10, 0.001, 0.006, 0.016, 0.016, 1.000, 0.000,  4.260,  4.260,  4.260,       false\n",
      "      4:     2,     3, 0.001, 0.011, 0.009, 0.009, 1.000, 0.000,  4.260,  4.260,  4.260,       false\n",
      "      5:     3,     4, 0.003, 0.030, 0.003, 0.003, 1.050, 0.017,  4.260,  4.260,  4.260,        true\n",
      "      6:     3,     4, 0.003, 0.033, 0.003, 0.004, 0.952, 0.017,  4.260,  4.260,  4.260,        true\n",
      "      7:     4,    10, 0.003, 0.030, 0.003, 0.003, 1.000, 0.000,  2.400,  2.400,  2.400,       false\n",
      "\n",
      "  default values:\n",
      "    g_fr: 0.000\n",
      "    g_to: 0.000\n",
      "    br_status: 1\n",
      "    angmax: 0.524\n",
      "    angmin: -0.524\n",
      "    source_id: [(2)]\n"
     ]
    }
   ],
   "source": [
    "PowerModels.print_summary(data)"
   ]
  },
  {
   "cell_type": "markdown",
   "id": "7a977319-2d0c-4ffa-a1d8-fe3082c23be7",
   "metadata": {},
   "source": [
    "We can modify the `data` dictionary by just modifying the values inside the dictionary, for example:"
   ]
  },
  {
   "cell_type": "code",
   "execution_count": 12,
   "id": "1ed1f45e-827a-4f28-8925-7123b65f1e46",
   "metadata": {},
   "outputs": [
    {
     "data": {
      "text/plain": [
       "Dict{String, Any} with 6 entries:\n",
       "  \"source_id\" => Any[\"bus\", 4]\n",
       "  \"load_bus\"  => 4\n",
       "  \"status\"    => 1\n",
       "  \"qd\"        => 1.3147\n",
       "  \"pd\"        => 4.0\n",
       "  \"index\"     => 3"
      ]
     },
     "execution_count": 12,
     "metadata": {},
     "output_type": "execute_result"
    }
   ],
   "source": [
    "# Let's see the old value\n",
    "data[\"load\"][\"3\"]"
   ]
  },
  {
   "cell_type": "code",
   "execution_count": 13,
   "id": "70ef9371-0220-4ded-9c2e-5df5581434e6",
   "metadata": {},
   "outputs": [
    {
     "data": {
      "text/plain": [
       "3.5"
      ]
     },
     "execution_count": 13,
     "metadata": {},
     "output_type": "execute_result"
    }
   ],
   "source": [
    "# Modify pd (active power)\n",
    "data[\"load\"][\"3\"][\"pd\"] = 3.5"
   ]
  },
  {
   "cell_type": "code",
   "execution_count": 14,
   "id": "0619af0d-bc5e-4de4-9ff2-6bb67505fb75",
   "metadata": {},
   "outputs": [
    {
     "data": {
      "text/plain": [
       "Dict{String, Any} with 6 entries:\n",
       "  \"source_id\" => Any[\"bus\", 4]\n",
       "  \"load_bus\"  => 4\n",
       "  \"status\"    => 1\n",
       "  \"qd\"        => 1.3147\n",
       "  \"pd\"        => 3.5\n",
       "  \"index\"     => 3"
      ]
     },
     "execution_count": 14,
     "metadata": {},
     "output_type": "execute_result"
    }
   ],
   "source": [
    "# Let's see the new value\n",
    "data[\"load\"][\"3\"]"
   ]
  },
  {
   "cell_type": "markdown",
   "id": "5937d1fc-945b-483a-8a8b-73b721c0b7c6",
   "metadata": {},
   "source": [
    "### Now, let's solve the Optimal Power Flow (OPF) for this problem \n",
    "\n",
    "**But**, before solving this optimization problem, we need to pick a `solver`. The solver you choose will depend on the type of problem you want to solve. For example, solving **mixed integer** problems requires a different solver than solving **continuous nonlinear** problems.\n",
    "\n",
    "In this case, we are interested in solving a Continous **Nonlinear Program (NLP)**, so let's use `Ipopt`."
   ]
  },
  {
   "cell_type": "code",
   "execution_count": 15,
   "id": "535fafed-2e34-48fe-b960-abd7c7f7b0ae",
   "metadata": {},
   "outputs": [
    {
     "data": {
      "text/plain": [
       "MathOptInterface.OptimizerWithAttributes(Ipopt.Optimizer, Pair{MathOptInterface.AbstractOptimizerAttribute, Any}[MathOptInterface.RawOptimizerAttribute(\"print_level\") => 3])"
      ]
     },
     "execution_count": 15,
     "metadata": {},
     "output_type": "execute_result"
    }
   ],
   "source": [
    "# import solver package\n",
    "using Ipopt\n",
    "\n",
    "# define Ipopt solver and options/attributes\n",
    "ipopt_solver = optimizer_with_attributes(Ipopt.Optimizer, \"print_level\" => 3)"
   ]
  },
  {
   "cell_type": "markdown",
   "id": "34e8a5c9-ab8c-4226-b513-3e94777f08f8",
   "metadata": {},
   "source": [
    "We can then use this **solver** and the already **parsed file** to solve the **OPF** problem. We will use the `ACP` (AC Polar) formulation."
   ]
  },
  {
   "cell_type": "code",
   "execution_count": 16,
   "id": "5b14edcb-3829-4a5e-bb28-f32333f9aa00",
   "metadata": {},
   "outputs": [
    {
     "name": "stdout",
     "output_type": "stream",
     "text": [
      "\n",
      "******************************************************************************\n",
      "This program contains Ipopt, a library for large-scale nonlinear optimization.\n",
      " Ipopt is released as open source code under the Eclipse Public License (EPL).\n",
      "         For more information visit https://github.com/coin-or/Ipopt\n",
      "******************************************************************************\n",
      "\n",
      "Total number of variables............................:       48\n",
      "                     variables with only lower bounds:        0\n",
      "                variables with lower and upper bounds:       43\n",
      "                     variables with only upper bounds:        0\n",
      "Total number of equality constraints.................:       39\n",
      "Total number of inequality constraints...............:       20\n",
      "        inequality constraints with only lower bounds:        0\n",
      "   inequality constraints with lower and upper bounds:        6\n",
      "        inequality constraints with only upper bounds:       14\n",
      "\n",
      "\n",
      "Number of Iterations....: 24\n",
      "\n",
      "                                   (scaled)                 (unscaled)\n",
      "Objective...............:   4.1259617215094033e+02    1.6503846886037612e+04\n",
      "Dual infeasibility......:   1.0604012696469439e-11    4.2416050785877754e-10\n",
      "Constraint violation....:   8.4376949871511897e-15    8.4376949871511897e-15\n",
      "Variable bound violation:   1.9635816972396469e-08    1.9635816972396469e-08\n",
      "Complementarity.........:   2.5059410794473296e-09    1.0023764317789317e-07\n",
      "Overall NLP error.......:   2.5059410794473296e-09    1.0023764317789317e-07\n",
      "\n",
      "\n",
      "Number of objective function evaluations             = 25\n",
      "Number of objective gradient evaluations             = 25\n",
      "Number of equality constraint evaluations            = 25\n",
      "Number of inequality constraint evaluations          = 25\n",
      "Number of equality constraint Jacobian evaluations   = 25\n",
      "Number of inequality constraint Jacobian evaluations = 25\n",
      "Number of Lagrangian Hessian evaluations             = 24\n",
      "Total seconds in IPOPT                               = 1.046\n",
      "\n",
      "EXIT: Optimal Solution Found.\n"
     ]
    },
    {
     "data": {
      "text/plain": [
       "Dict{String, Any} with 8 entries:\n",
       "  \"solve_time\"         => 1.13196\n",
       "  \"optimizer\"          => \"Ipopt\"\n",
       "  \"termination_status\" => LOCALLY_SOLVED\n",
       "  \"dual_status\"        => FEASIBLE_POINT\n",
       "  \"primal_status\"      => FEASIBLE_POINT\n",
       "  \"objective\"          => 16503.8\n",
       "  \"solution\"           => Dict{String, Any}(\"baseMVA\"=>100.0, \"branch\"=>Dict{St…\n",
       "  \"objective_lb\"       => -Inf"
      ]
     },
     "execution_count": 16,
     "metadata": {},
     "output_type": "execute_result"
    }
   ],
   "source": [
    "result = solve_opf(data, ACPPowerModel, ipopt_solver)"
   ]
  },
  {
   "cell_type": "markdown",
   "id": "8ec26041-65fa-4007-9dc9-0959faa62902",
   "metadata": {},
   "source": [
    "The result dictionary contains useful information about the optimization problem solved, including the **objective value** and **wall clock solve time**. Detailed documentation of the result dictionary is available [here](https://lanl-ansi.github.io/PowerModels.jl/stable/result-data/).\n",
    "\n",
    "Let's check out the solution data dictionary. This is where the actual result of the OPF is stored."
   ]
  },
  {
   "cell_type": "code",
   "execution_count": 17,
   "id": "1f7a6129-4aaa-46a6-9085-22c600e9444f",
   "metadata": {},
   "outputs": [
    {
     "data": {
      "text/plain": [
       "Dict{String, Any} with 7 entries:\n",
       "  \"baseMVA\"             => 100.0\n",
       "  \"branch\"              => Dict{String, Any}(\"4\"=>Dict{String, Any}(\"qf\"=>-1.22…\n",
       "  \"gen\"                 => Dict{String, Any}(\"4\"=>Dict{String, Any}(\"qg\"=>-0.12…\n",
       "  \"multiinfrastructure\" => false\n",
       "  \"multinetwork\"        => false\n",
       "  \"bus\"                 => Dict{String, Any}(\"4\"=>Dict{String, Any}(\"va\"=>4.279…\n",
       "  \"per_unit\"            => true"
      ]
     },
     "execution_count": 17,
     "metadata": {},
     "output_type": "execute_result"
    }
   ],
   "source": [
    "result[\"solution\"]"
   ]
  },
  {
   "cell_type": "markdown",
   "id": "a3537b32-d2b1-495b-9338-5387142717ae",
   "metadata": {},
   "source": [
    "Let's use the function `print_summary`,"
   ]
  },
  {
   "cell_type": "code",
   "execution_count": 18,
   "id": "f4854770-a64d-486b-b1d7-d2180990b55f",
   "metadata": {},
   "outputs": [
    {
     "name": "stdout",
     "output_type": "stream",
     "text": [
      "\u001b[1mMetadata\u001b[0m\n",
      "  baseMVA: 100.000\n",
      "  multiinfrastructure: false\n",
      "  multinetwork: false\n",
      "  per_unit: true\n",
      "\n",
      "\u001b[1mTable Counts\u001b[0m\n",
      "  bus: 5\n",
      "  gen: 5\n",
      "  branch: 7\n",
      "\n",
      "\n",
      "\u001b[1mTable: bus\u001b[0m\n",
      "            vm,     va\n",
      "      1: 0.913,  0.070\n",
      "      2: 0.911, -0.008\n",
      "      3: 0.926, -0.000\n",
      "      4: 0.900,  0.000\n",
      "     10: 0.905,  0.088\n",
      "\n",
      "\n",
      "\u001b[1mTable: gen\u001b[0m\n",
      "             pg,     qg,  pg_cost\n",
      "      1:  0.400,  0.300,  560.000\n",
      "      2:  1.700,  1.275, 2550.000\n",
      "      3:  2.958,  3.900, 8873.192\n",
      "      4: -0.000, -0.122,   -0.000\n",
      "      5:  4.521, -1.352, 4520.655\n",
      "\n",
      "\n",
      "\u001b[1mTable: branch\u001b[0m\n",
      "             pf,     qf,     pt,     qt\n",
      "      1:  2.295, -0.066, -2.278,  0.238\n",
      "      2:  1.920,  0.259, -1.907, -0.127\n",
      "      3: -2.116,  1.382,  2.121, -1.359\n",
      "      4: -0.722, -1.224,  0.725,  1.234\n",
      "      5: -0.516, -0.489,  0.518,  0.502\n",
      "      6: -0.251,  2.168,  0.267, -2.008\n",
      "      7: -2.379,  0.197,  2.400,  0.007\n"
     ]
    }
   ],
   "source": [
    "PowerModels.print_summary(result[\"solution\"])"
   ]
  },
  {
   "cell_type": "markdown",
   "id": "1c8c0dae-d63e-44b5-9047-b39f41bd403f",
   "metadata": {},
   "source": [
    "\n",
    "\n",
    "You can also see the results manually by just accessing the specific keys in the `solution` dictionary.\n",
    "\n",
    "For example, let's access the solution for the `buses` and the `branches`. All results are in **per-unit**."
   ]
  },
  {
   "cell_type": "code",
   "execution_count": 19,
   "id": "780f9fe4-e2b7-4d91-952e-96a0bec552a8",
   "metadata": {},
   "outputs": [
    {
     "data": {
      "text/plain": [
       "Dict{String, Any} with 5 entries:\n",
       "  \"4\"  => Dict{String, Any}(\"va\"=>4.27964e-37, \"vm\"=>0.9)\n",
       "  \"1\"  => Dict{String, Any}(\"va\"=>0.0701399, \"vm\"=>0.912897)\n",
       "  \"10\" => Dict{String, Any}(\"va\"=>0.0876162, \"vm\"=>0.904738)\n",
       "  \"2\"  => Dict{String, Any}(\"va\"=>-0.00775197, \"vm\"=>0.910533)\n",
       "  \"3\"  => Dict{String, Any}(\"va\"=>-5.65684e-5, \"vm\"=>0.925845)"
      ]
     },
     "execution_count": 19,
     "metadata": {},
     "output_type": "execute_result"
    }
   ],
   "source": [
    "result[\"solution\"][\"bus\"]"
   ]
  },
  {
   "cell_type": "code",
   "execution_count": 20,
   "id": "13150100-9773-49cf-9cc4-f1f20071ef69",
   "metadata": {},
   "outputs": [
    {
     "data": {
      "text/plain": [
       "Dict{String, Any} with 7 entries:\n",
       "  \"4\" => Dict{String, Any}(\"qf\"=>-1.22401, \"qt\"=>1.23447, \"pt\"=>0.724912, \"pf\"=…\n",
       "  \"1\" => Dict{String, Any}(\"qf\"=>-0.06603, \"qt\"=>0.237913, \"pt\"=>-2.27769, \"pf\"…\n",
       "  \"5\" => Dict{String, Any}(\"qf\"=>-0.488503, \"qt\"=>0.502359, \"pt\"=>0.518347, \"pf…\n",
       "  \"2\" => Dict{String, Any}(\"qf\"=>0.258976, \"qt\"=>-0.127376, \"pt\"=>-1.90656, \"pf…\n",
       "  \"6\" => Dict{String, Any}(\"qf\"=>2.16794, \"qt\"=>-2.00838, \"pt\"=>0.267301, \"pf\"=…\n",
       "  \"7\" => Dict{String, Any}(\"qf\"=>0.196768, \"qt\"=>0.00673953, \"pt\"=>2.39999, \"pf…\n",
       "  \"3\" => Dict{String, Any}(\"qf\"=>1.38205, \"qt\"=>-1.35855, \"pt\"=>2.12066, \"pf\"=>…"
      ]
     },
     "execution_count": 20,
     "metadata": {},
     "output_type": "execute_result"
    }
   ],
   "source": [
    "result[\"solution\"][\"branch\"]"
   ]
  },
  {
   "cell_type": "code",
   "execution_count": 21,
   "id": "3bc28b69-e193-4809-b8a7-c702a2aba1bd",
   "metadata": {},
   "outputs": [
    {
     "data": {
      "text/plain": [
       "Dict{String, Any} with 4 entries:\n",
       "  \"qf\" => 2.16794\n",
       "  \"qt\" => -2.00838\n",
       "  \"pt\" => 0.267301\n",
       "  \"pf\" => -0.250755"
      ]
     },
     "execution_count": 21,
     "metadata": {},
     "output_type": "execute_result"
    }
   ],
   "source": [
    "result[\"solution\"][\"branch\"][\"6\"]"
   ]
  },
  {
   "cell_type": "markdown",
   "id": "c4a045f3-8ee5-484d-8b2b-0daa4c1a1d47",
   "metadata": {},
   "source": [
    "In the result `solution` dictionary we can see things like the **active** and **reactive** power flowing through the branches, the **voltage magnitudes and angles** of the buses, and the **active and reactive power dispatch** from each generating unit. \n",
    "\n",
    "Let's us try now to solve the same problem using the **DC polar linear approximation** (`DCPPowerModel`)"
   ]
  },
  {
   "cell_type": "code",
   "execution_count": 22,
   "id": "7d195e8f-f1e8-4131-94be-239041855562",
   "metadata": {},
   "outputs": [
    {
     "name": "stdout",
     "output_type": "stream",
     "text": [
      "Total number of variables............................:       17\n",
      "                     variables with only lower bounds:        0\n",
      "                variables with lower and upper bounds:       12\n",
      "                     variables with only upper bounds:        0\n",
      "Total number of equality constraints.................:       13\n",
      "Total number of inequality constraints...............:        6\n",
      "        inequality constraints with only lower bounds:        0\n",
      "   inequality constraints with lower and upper bounds:        6\n",
      "        inequality constraints with only upper bounds:        0\n",
      "\n",
      "\n",
      "Number of Iterations....: 14\n",
      "\n",
      "                                   (scaled)                 (unscaled)\n",
      "Objective...............:   3.9597181813173097e+02    1.5838872725269239e+04\n",
      "Dual infeasibility......:   1.0540670187408245e-13    4.2162680749632982e-12\n",
      "Constraint violation....:   4.4408920985006262e-16    4.4408920985006262e-16\n",
      "Variable bound violation:   2.3981676200435231e-08    2.3981676200435231e-08\n",
      "Complementarity.........:   2.5076932351238464e-09    1.0030772940495385e-07\n",
      "Overall NLP error.......:   2.5076932351238464e-09    1.0030772940495385e-07\n",
      "\n",
      "\n",
      "Number of objective function evaluations             = 15\n",
      "Number of objective gradient evaluations             = 15\n",
      "Number of equality constraint evaluations            = 15\n",
      "Number of inequality constraint evaluations          = 15\n",
      "Number of equality constraint Jacobian evaluations   = 1\n",
      "Number of inequality constraint Jacobian evaluations = 1\n",
      "Number of Lagrangian Hessian evaluations             = 1\n",
      "Total seconds in IPOPT                               = 0.003\n",
      "\n",
      "EXIT: Optimal Solution Found.\n"
     ]
    },
    {
     "data": {
      "text/plain": [
       "Dict{String, Any} with 8 entries:\n",
       "  \"solve_time\"         => 0.0030179\n",
       "  \"optimizer\"          => \"Ipopt\"\n",
       "  \"termination_status\" => LOCALLY_SOLVED\n",
       "  \"dual_status\"        => FEASIBLE_POINT\n",
       "  \"primal_status\"      => FEASIBLE_POINT\n",
       "  \"objective\"          => 15838.9\n",
       "  \"solution\"           => Dict{String, Any}(\"baseMVA\"=>100.0, \"branch\"=>Dict{St…\n",
       "  \"objective_lb\"       => -Inf"
      ]
     },
     "execution_count": 22,
     "metadata": {},
     "output_type": "execute_result"
    }
   ],
   "source": [
    "result = solve_opf(data, DCPPowerModel, ipopt_solver)"
   ]
  },
  {
   "cell_type": "code",
   "execution_count": 23,
   "id": "435c4605-3df0-40f8-820d-c4be183574ce",
   "metadata": {},
   "outputs": [
    {
     "name": "stdout",
     "output_type": "stream",
     "text": [
      "\u001b[1mMetadata\u001b[0m\n",
      "  baseMVA: 100.000\n",
      "  multiinfrastructure: false\n",
      "  multinetwork: false\n",
      "  per_unit: true\n",
      "\n",
      "\u001b[1mTable Counts\u001b[0m\n",
      "  bus: 5\n",
      "  gen: 5\n",
      "  branch: 7\n",
      "\n",
      "\n",
      "\u001b[1mTable: bus\u001b[0m\n",
      "             va\n",
      "      1:  0.057\n",
      "      2: -0.016\n",
      "      3: -0.012\n",
      "      4:  0.000\n",
      "     10:  0.072\n",
      "\n",
      "  default values:\n",
      "    vm: 1.000\n",
      "\n",
      "\n",
      "\u001b[1mTable: gen\u001b[0m\n",
      "             pg,  pg_cost\n",
      "      1:  0.400,  560.000\n",
      "      2:  1.700, 2550.000\n",
      "      3:  2.664, 7993.309\n",
      "      4: -0.000,   -0.000\n",
      "      5:  4.736, 4735.564\n",
      "\n",
      "  default values:\n",
      "    qg: NaN0000\n",
      "\n",
      "\n",
      "\u001b[1mTable: branch\u001b[0m\n",
      "             pf,     pt\n",
      "      1:  2.583, -2.583\n",
      "      2:  1.853, -1.853\n",
      "      3: -2.336,  2.336\n",
      "      4: -0.417,  0.417\n",
      "      5: -0.395,  0.395\n",
      "      6: -0.358,  0.358\n",
      "      7: -2.400,  2.400\n",
      "\n",
      "  default values:\n",
      "    qf: NaN0000\n",
      "    qt: NaN0000\n"
     ]
    }
   ],
   "source": [
    "PowerModels.print_summary(result[\"solution\"])"
   ]
  },
  {
   "cell_type": "markdown",
   "id": "b1041ebc-fbf3-4bdf-873a-ca0de6868298",
   "metadata": {},
   "source": [
    "As seen, in these results there are no `vm`, `qf` or `qt`. This is because, as you may remember from Power Lectures 101, the DC linear approximation formulation assumes (or approximates) all `vm = 1.0` and do not considers reactive power."
   ]
  },
  {
   "cell_type": "markdown",
   "id": "4d927fc0-08af-4c1d-95c6-ab3d3074597a",
   "metadata": {},
   "source": [
    "### -----------------------------------------------------------------------------------------------------------\n",
    "### QUIZ #1: let's solve the Optimal Power Flow (OPF)  using different formulations and compute optimality gaps.\n",
    "\n",
    "Similar to what we have done, now let's solve the OPF using other formulations:\n",
    "\n",
    "- `ACRPowerModel` (NLP) -- AC rectangular coordinates\n",
    "- `SOCWRPowerModel` (RELAXATION) -- Second-order cone W rectangular coordinates\n",
    "- `NFAPowerModel` (APPROXIMATION) -- Network flow approximation\n",
    "- `DCPPowerModel` (APPROXIMATION) -- DC polar approximation\n",
    "\n",
    "**Definition of _optimality gap_**: the difference between the objective value of the best feasible solution currently found (local optima for NLPs) and the optimal objective value of the problem you are testing.\n",
    "\n",
    "**Note**: the optimality gap is is normally used to compare NLPs with approximations/relaxations. NLPs vs NLPs should give a value close to 0.0%\n",
    "\n",
    "**Note 2**: Make sure that the solver terminates nominally!, i.e., `result[\"termination_status\"] == OPTIMAL` ||  `result[\"termination_status\"] == LOCALLY_SOLVED`\n",
    "\n",
    "To compare the optimality gap using the `AC polar` as baseline, use the following function:"
   ]
  },
  {
   "cell_type": "code",
   "execution_count": 24,
   "id": "578c98aa-09c0-4760-a406-45fcb9033e0a",
   "metadata": {},
   "outputs": [
    {
     "data": {
      "text/plain": [
       "optimality_gap (generic function with 1 method)"
      ]
     },
     "execution_count": 24,
     "metadata": {},
     "output_type": "execute_result"
    }
   ],
   "source": [
    "function optimality_gap(nlp_result, relax_result)\n",
    "    # by convention optimality gaps are given as a percentage\n",
    "    gap = 100*(nlp_result[\"objective\"] - relax_result[\"objective\"])/nlp_result[\"objective\"]\n",
    "    return gap\n",
    "end"
   ]
  },
  {
   "cell_type": "markdown",
   "id": "c9277201-6662-4dd4-bfb7-aaa9f64d4fee",
   "metadata": {},
   "source": [
    "I will provide an example below between **AC Polar vs. AC Rectangular**\n",
    "\n",
    "**Hint**: To compare against other formulations, change the type of formulation in the line `result_relax` to solve for the formulation you want to compare against the `ACPPowerModel` formulation, and _re-run_ the notebook cells."
   ]
  },
  {
   "cell_type": "code",
   "execution_count": 25,
   "id": "c2ef617b-bc00-4175-8940-57ad62cf6e1b",
   "metadata": {},
   "outputs": [
    {
     "name": "stdout",
     "output_type": "stream",
     "text": [
      "Total number of variables............................:       48\n",
      "                     variables with only lower bounds:        0\n",
      "                variables with lower and upper bounds:       43\n",
      "                     variables with only upper bounds:        0\n",
      "Total number of equality constraints.................:       39\n",
      "Total number of inequality constraints...............:       20\n",
      "        inequality constraints with only lower bounds:        0\n",
      "   inequality constraints with lower and upper bounds:        6\n",
      "        inequality constraints with only upper bounds:       14\n",
      "\n",
      "\n",
      "Number of Iterations....: 24\n",
      "\n",
      "                                   (scaled)                 (unscaled)\n",
      "Objective...............:   4.1259617215094033e+02    1.6503846886037612e+04\n",
      "Dual infeasibility......:   1.0604012696469439e-11    4.2416050785877754e-10\n",
      "Constraint violation....:   8.4376949871511897e-15    8.4376949871511897e-15\n",
      "Variable bound violation:   1.9635816972396469e-08    1.9635816972396469e-08\n",
      "Complementarity.........:   2.5059410794473296e-09    1.0023764317789317e-07\n",
      "Overall NLP error.......:   2.5059410794473296e-09    1.0023764317789317e-07\n",
      "\n",
      "\n",
      "Number of objective function evaluations             = 25\n",
      "Number of objective gradient evaluations             = 25\n",
      "Number of equality constraint evaluations            = 25\n",
      "Number of inequality constraint evaluations          = 25\n",
      "Number of equality constraint Jacobian evaluations   = 25\n",
      "Number of inequality constraint Jacobian evaluations = 25\n",
      "Number of Lagrangian Hessian evaluations             = 24\n",
      "Total seconds in IPOPT                               = 0.005\n",
      "\n",
      "EXIT: Optimal Solution Found.\n",
      "----------------------------------------------------------------------------------------\n",
      "----------------------------------------------------------------------------------------\n",
      "Total number of variables............................:       48\n",
      "                     variables with only lower bounds:        0\n",
      "                variables with lower and upper bounds:       48\n",
      "                     variables with only upper bounds:        0\n",
      "Total number of equality constraints.................:       39\n",
      "Total number of inequality constraints...............:       31\n",
      "        inequality constraints with only lower bounds:        6\n",
      "   inequality constraints with lower and upper bounds:        5\n",
      "        inequality constraints with only upper bounds:       20\n",
      "\n",
      "\n",
      "Number of Iterations....: 21\n",
      "\n",
      "                                   (scaled)                 (unscaled)\n",
      "Objective...............:   4.1259617224913086e+02    1.6503846889965233e+04\n",
      "Dual infeasibility......:   1.0608287236644614e-11    4.2433148946578457e-10\n",
      "Constraint violation....:   1.2301440189066962e-14    2.3647750424515834e-14\n",
      "Variable bound violation:   1.9635816528307259e-08    1.9635816528307259e-08\n",
      "Complementarity.........:   2.5059410879254664e-09    1.0023764351701866e-07\n",
      "Overall NLP error.......:   2.5059410879254664e-09    1.0023764351701866e-07\n",
      "\n",
      "\n",
      "Number of objective function evaluations             = 22\n",
      "Number of objective gradient evaluations             = 22\n",
      "Number of equality constraint evaluations            = 22\n",
      "Number of inequality constraint evaluations          = 22\n",
      "Number of equality constraint Jacobian evaluations   = 22\n",
      "Number of inequality constraint Jacobian evaluations = 22\n",
      "Number of Lagrangian Hessian evaluations             = 21\n",
      "Total seconds in IPOPT                               = 0.005\n",
      "\n",
      "EXIT: Optimal Solution Found.\n",
      "----------------------------------------------------------------------------------------\n",
      "----------------------------------------------------------------------------------------\n"
     ]
    },
    {
     "data": {
      "text/plain": [
       "-2.3798209925953233e-8"
      ]
     },
     "execution_count": 25,
     "metadata": {},
     "output_type": "execute_result"
    }
   ],
   "source": [
    "# Baseline nlp to compare\n",
    "result_nlp = solve_opf(data, ACPPowerModel, ipopt_solver)\n",
    "\n",
    "println(\"----------------------------------------------------------------------------------------\")\n",
    "println(\"----------------------------------------------------------------------------------------\")\n",
    "\n",
    "# Approx. or Relax. to compare (in this case is another nlp formulation)\n",
    "result_relax = solve_opf(data, ACRPowerModel, ipopt_solver)\n",
    "\n",
    "println(\"----------------------------------------------------------------------------------------\")\n",
    "println(\"----------------------------------------------------------------------------------------\")\n",
    "\n",
    "# Calculate optimality gap\n",
    "op_gap = optimality_gap(result_nlp, result_relax) # result is in %\n"
   ]
  },
  {
   "cell_type": "code",
   "execution_count": 26,
   "id": "2e93c9be-1b0b-4357-99cc-d09e203e173c",
   "metadata": {},
   "outputs": [
    {
     "name": "stderr",
     "output_type": "stream",
     "text": [
      "\u001b[36m\u001b[1m[ \u001b[22m\u001b[39m\u001b[36m\u001b[1mInfo: \u001b[22m\u001b[39mNLP: 16503.846886037612\n",
      "\u001b[36m\u001b[1m[ \u001b[22m\u001b[39m\u001b[36m\u001b[1mInfo: \u001b[22m\u001b[39mNLP: LOCALLY_SOLVED\n",
      "\u001b[36m\u001b[1m[ \u001b[22m\u001b[39m\u001b[36m\u001b[1mInfo: \u001b[22m\u001b[39mRELAX: 16503.846889965233\n",
      "\u001b[36m\u001b[1m[ \u001b[22m\u001b[39m\u001b[36m\u001b[1mInfo: \u001b[22m\u001b[39mRELAX: LOCALLY_SOLVED\n",
      "\u001b[36m\u001b[1m[ \u001b[22m\u001b[39m\u001b[36m\u001b[1mInfo: \u001b[22m\u001b[39mOptimality Gap = -2.3798209925953233e-8 %\n"
     ]
    }
   ],
   "source": [
    "@info \"NLP: $(result_nlp[\"objective\"])\"\n",
    "@info \"NLP: $(result_nlp[\"termination_status\"])\"\n",
    "\n",
    "@info \"RELAX: $(result_relax[\"objective\"])\"\n",
    "@info \"RELAX: $(result_relax[\"termination_status\"])\"\n",
    "\n",
    "@info \"Optimality Gap = $(op_gap) %\""
   ]
  },
  {
   "cell_type": "markdown",
   "id": "cdca7e37-1047-4c95-a205-7cd658507f2b",
   "metadata": {},
   "source": [
    "# Tutorial **PowerModelsDistribution**"
   ]
  },
  {
   "cell_type": "markdown",
   "id": "e9964fd0-f447-44ac-a52d-b3c82094d941",
   "metadata": {},
   "source": [
    "`PowerModelsDistribution` is designed to do the same 'thing' that `PowerModels` does but for **multiconductor unbalanced distribution systems**.\n",
    "\n",
    "Due to requiring more details for modeling multiconductor unbalanced systems, PMD makes use of an [**ENGINEERING MODEL**](https://lanl-ansi.github.io/PowerModelsDistribution.jl/stable/manual/eng-data-model.html) and a [**MATHEMATICAL MODEL**](https://lanl-ansi.github.io/PowerModelsDistribution.jl/stable/manual/math-model.html).\n",
    "\n",
    "In short, the engineering model is designed to provide a more 'engineering' modeling perspective, so it is easier to read and modify by the user, while the mathematical model is what is used to create the JuMP mathematical optimization model. We encourage readers to read the [PowerModelsDistribution Documentation](https://lanl-ansi.github.io/PowerModelsDistribution.jl/stable/index.html) to get a better perspective on PMD functionality. \n",
    "\n",
    "For this tutorial, we will only focus on the basics, i.e., how to run an OPF, similar to what we did for PowerModels. In this case, let's put everything together, to avoid repetitions.\n",
    "\n",
    "For more detailed tutorials and guides, check out:\n",
    "\n",
    "- [Quick Start Guide](https://lanl-ansi.github.io/PowerModelsDistribution.jl/stable/manual/quickguide.html)\n",
    "- [Beginners Guide](https://lanl-ansi.github.io/PowerModelsDistribution.jl/stable/tutorials/Beginners%20Guide.html)\n",
    "\n",
    "**PowerModelsDistribution** uses the file format used in OpenDSS, i.e., `OpenDSS (\".dss\")`. You can find the `.dss` file we use in this example [here](https://github.com/lanl-ansi/PowerModelsDistribution.jl/blob/main/test/data/opendss/case3_balanced.dss)."
   ]
  },
  {
   "cell_type": "code",
   "execution_count": 27,
   "id": "4dbd3d7d-07ae-4e63-8d7b-8c27ed5a3465",
   "metadata": {},
   "outputs": [
    {
     "name": "stderr",
     "output_type": "stream",
     "text": [
      "WARNING: using PowerModelsDistribution.parse_file in module Main conflicts with an existing identifier.\n",
      "\u001b[36m\u001b[1m[ \u001b[22m\u001b[39m\u001b[36m\u001b[1mPowerModelsDistribution | Info ] : \u001b[22m\u001b[39mCircuit has been reset with the 'clear' on line 1 in 'case3_balanced.dss'\n",
      "\u001b[36m\u001b[1m[ \u001b[22m\u001b[39m\u001b[36m\u001b[1mPowerModelsDistribution | Info ] : \u001b[22m\u001b[39mCommand 'calcvoltagebases' on line 36 in 'case3_balanced.dss' is not supported, skipping.\n",
      "\u001b[36m\u001b[1m[ \u001b[22m\u001b[39m\u001b[36m\u001b[1mPowerModelsDistribution | Info ] : \u001b[22m\u001b[39mCommand 'solve' on line 38 in 'case3_balanced.dss' is not supported, skipping.\n",
      "\u001b[36m\u001b[1m[ \u001b[22m\u001b[39m\u001b[36m\u001b[1mPowerModelsDistribution | Info ] : \u001b[22m\u001b[39mbasemva=100 is the default value, you may want to adjust sbase_default for better convergence\n"
     ]
    },
    {
     "name": "stdout",
     "output_type": "stream",
     "text": [
      "Total number of variables............................:       63\n",
      "                     variables with only lower bounds:        9\n",
      "                variables with lower and upper bounds:        0\n",
      "                     variables with only upper bounds:        0\n",
      "Total number of equality constraints.................:       63\n",
      "Total number of inequality constraints...............:       30\n",
      "        inequality constraints with only lower bounds:        9\n",
      "   inequality constraints with lower and upper bounds:        0\n",
      "        inequality constraints with only upper bounds:       21\n",
      "\n",
      "\n",
      "Number of Iterations....: 3\n",
      "\n",
      "                                   (scaled)                 (unscaled)\n",
      "Objective...............:   1.8344980704278438e-02    1.8344980704278438e-02\n",
      "Dual infeasibility......:   1.4224867400962002e-08    1.4224867400962002e-08\n",
      "Constraint violation....:   1.5674554394954330e-14    5.0076175844848692e-13\n",
      "Variable bound violation:   0.0000000000000000e+00    0.0000000000000000e+00\n",
      "Complementarity.........:   0.0000000000000000e+00    0.0000000000000000e+00\n",
      "Overall NLP error.......:   8.6864427797129750e-09    1.4224867400962002e-08\n",
      "\n",
      "\n",
      "Number of objective function evaluations             = 4\n",
      "Number of objective gradient evaluations             = 4\n",
      "Number of equality constraint evaluations            = 4\n",
      "Number of inequality constraint evaluations          = 4\n",
      "Number of equality constraint Jacobian evaluations   = 4\n",
      "Number of inequality constraint Jacobian evaluations = 4\n",
      "Number of Lagrangian Hessian evaluations             = 3\n",
      "Total seconds in IPOPT                               = 0.042\n",
      "\n",
      "EXIT: Optimal Solution Found.\n"
     ]
    },
    {
     "name": "stderr",
     "output_type": "stream",
     "text": [
      "\u001b[33m\u001b[1m┌ \u001b[22m\u001b[39m\u001b[33m\u001b[1mPowerModelsDistribution | Warning ] : \u001b[22m\u001b[39mbasefreq=60.0 on line.quad does not match circuit basefreq=50.0\n",
      "\u001b[33m\u001b[1m└ \u001b[22m\u001b[39m\u001b[90m@ PowerModelsDistribution ~/.julia/packages/PowerModelsDistribution/EOTxp/src/data_model/transformations/dss2eng.jl:422\u001b[39m\n",
      "\u001b[33m\u001b[1m┌ \u001b[22m\u001b[39m\u001b[33m\u001b[1mPowerModelsDistribution | Warning ] : \u001b[22m\u001b[39mbasefreq=60.0 on line.ohline does not match circuit basefreq=50.0\n",
      "\u001b[33m\u001b[1m└ \u001b[22m\u001b[39m\u001b[90m@ PowerModelsDistribution ~/.julia/packages/PowerModelsDistribution/EOTxp/src/data_model/transformations/dss2eng.jl:422\u001b[39m\n"
     ]
    },
    {
     "data": {
      "text/plain": [
       "Dict{String, Any} with 8 entries:\n",
       "  \"solve_time\"         => 0.0433922\n",
       "  \"optimizer\"          => \"Ipopt\"\n",
       "  \"termination_status\" => LOCALLY_SOLVED\n",
       "  \"dual_status\"        => FEASIBLE_POINT\n",
       "  \"primal_status\"      => FEASIBLE_POINT\n",
       "  \"objective\"          => 0.018345\n",
       "  \"solution\"           => Dict{String, Any}(\"voltage_source\"=>Dict{String, Any}…\n",
       "  \"objective_lb\"       => -Inf"
      ]
     },
     "execution_count": 27,
     "metadata": {},
     "output_type": "execute_result"
    }
   ],
   "source": [
    "# import package\n",
    "using PowerModelsDistribution\n",
    "\n",
    "# import solver package\n",
    "using Ipopt\n",
    "\n",
    "# solver attributes/options\n",
    "ipopt_solver = optimizer_with_attributes(Ipopt.Optimizer, \"print_level\" => 3)\n",
    "\n",
    "# define the path to be the PowerModelsDistribution path (optional)\n",
    "files_path = joinpath(dirname(pathof(PowerModelsDistribution)), \"..\")\n",
    "pmd_file = joinpath(files_path, \"test/data/opendss/case3_balanced.dss\")\n",
    "\n",
    "# parse the file into dictionary\n",
    "data_pmd = PowerModelsDistribution.parse_file(pmd_file)\n",
    "\n",
    "# solve the multi-conductor (mc) OPF\n",
    "result_pmd = PowerModelsDistribution.solve_mc_opf(data_pmd, ACPUPowerModel, ipopt_solver)\n"
   ]
  },
  {
   "cell_type": "markdown",
   "id": "e1ac885d-a1c4-432d-aded-bc4628d304f1",
   "metadata": {},
   "source": [
    "The result `solution` dictionary has a very similar structure as the one in `PowerModels`, but for a multiphase network. You can access this information through the dictionary keys as follows:"
   ]
  },
  {
   "cell_type": "code",
   "execution_count": 28,
   "id": "93edd612-d10e-45d6-a3ad-552e77947a89",
   "metadata": {},
   "outputs": [
    {
     "data": {
      "text/plain": [
       "Dict{String, Any} with 6 entries:\n",
       "  \"voltage_source\" => Dict{String, Any}(\"source\"=>Dict{String, Any}(\"qg_bus\"=>[…\n",
       "  \"line\"           => Dict{String, Any}(\"quad\"=>Dict{String, Any}(\"qf\"=>[3.0345…\n",
       "  \"settings\"       => Dict{String, Any}(\"sbase\"=>100000.0)\n",
       "  \"load\"           => Dict{String, Any}(\"l2\"=>Dict{String, Any}(\"qd_bus\"=>[3.0]…\n",
       "  \"bus\"            => Dict{String, Any}(\"primary\"=>Dict{String, Any}(\"va\"=>[-0.…\n",
       "  \"per_unit\"       => false"
      ]
     },
     "execution_count": 28,
     "metadata": {},
     "output_type": "execute_result"
    }
   ],
   "source": [
    "result_pmd[\"solution\"]"
   ]
  },
  {
   "cell_type": "code",
   "execution_count": 29,
   "id": "9746057d-4dff-4a0a-abfa-d65dc0ee9ba9",
   "metadata": {},
   "outputs": [
    {
     "data": {
      "text/plain": [
       "Dict{String, Any} with 3 entries:\n",
       "  \"primary\"   => Dict{String, Any}(\"va\"=>[-0.0329191, -120.033, 119.967], \"vm\"=…\n",
       "  \"sourcebus\" => Dict{String, Any}(\"va\"=>[-8.99303e-7, -120.0, 120.0], \"vm\"=>[0…\n",
       "  \"loadbus\"   => Dict{String, Any}(\"va\"=>[-0.0663874, -120.066, 119.934], \"vm\"=…"
      ]
     },
     "execution_count": 29,
     "metadata": {},
     "output_type": "execute_result"
    }
   ],
   "source": [
    "result_pmd[\"solution\"][\"bus\"]"
   ]
  },
  {
   "cell_type": "code",
   "execution_count": 30,
   "id": "8f551ce8-b17c-4086-8307-d9bafc6327f2",
   "metadata": {},
   "outputs": [
    {
     "data": {
      "text/plain": [
       "Dict{String, Any} with 3 entries:\n",
       "  \"l2\" => Dict{String, Any}(\"qd_bus\"=>[3.0], \"pd_bus\"=>[6.0], \"qd\"=>[3.0], \"pd\"…\n",
       "  \"l3\" => Dict{String, Any}(\"qd_bus\"=>[3.0], \"pd_bus\"=>[6.0], \"qd\"=>[3.0], \"pd\"…\n",
       "  \"l1\" => Dict{String, Any}(\"qd_bus\"=>[3.0], \"pd_bus\"=>[6.0], \"qd\"=>[3.0], \"pd\"…"
      ]
     },
     "execution_count": 30,
     "metadata": {},
     "output_type": "execute_result"
    }
   ],
   "source": [
    "result_pmd[\"solution\"][\"load\"]"
   ]
  },
  {
   "cell_type": "code",
   "execution_count": 31,
   "id": "fcc83ad9-114d-46e3-bec7-228c9a4afaf0",
   "metadata": {},
   "outputs": [
    {
     "data": {
      "text/plain": [
       "Dict{String, Any} with 2 entries:\n",
       "  \"quad\"   => Dict{String, Any}(\"qf\"=>[3.03456, 3.03456, 3.03456], \"qt\"=>[-3.0,…\n",
       "  \"ohline\" => Dict{String, Any}(\"qf\"=>[3.06468, 3.06468, 3.06468], \"qt\"=>[-3.03…"
      ]
     },
     "execution_count": 31,
     "metadata": {},
     "output_type": "execute_result"
    }
   ],
   "source": [
    "result_pmd[\"solution\"][\"line\"]"
   ]
  },
  {
   "cell_type": "markdown",
   "id": "964a801e-ad3a-4fbb-a7eb-8b0730e9c1d3",
   "metadata": {},
   "source": [
    "### -----------------------------------------------------------------------------------------------------------\n",
    "### QUIZ #2: let's solve the Optimal Power Flow (OPF)  using different formulations and compute optimality gaps.\n",
    "\n",
    "Let's solve the OPF using other formulations:\n",
    "\n",
    "- `ACRUPowerModel` (NLP) -- AC rectangular coordinates\n",
    "- `LinDist3FlowPowerModel` (APPROXIMATION) -- LindDist3Flow approximation\n",
    "- `NFAUPowerModel` (APPROXIMATION) -- Network flow approximation\n",
    "- `IVRUPowerModel` (NLP) -- Current-Voltage rectangular coordinates\n",
    "\n",
    "**Note**: the optimality gap is normally used to compare NLPs with approximations/relaxations. NLPs vs NLPs should give a value close to 0.0%\n",
    "\n",
    "**Note 2**: Make sure that the solver terminates nominally!, i.e., `result[\"termination_status\"] == OPTIMAL` ||  `result[\"termination_status\"] == LOCALLY_SOLVED`\n",
    "\n",
    "I will provide an example below between **AC Polar Unbalaced vs. AC Rectangular Unbalanced**\n",
    "\n",
    "**Hint**: To compare against other formulations, change the type of formulation in the line `result_relax` to solve for the formulation you want to compare against the `ACPUPowerModel` formulation, and _re-run_ the notebook cells."
   ]
  },
  {
   "cell_type": "code",
   "execution_count": 32,
   "id": "1887c93d-e916-4d08-9092-d833d79e7355",
   "metadata": {},
   "outputs": [
    {
     "name": "stdout",
     "output_type": "stream",
     "text": [
      "Total number of variables............................:       63\n",
      "                     variables with only lower bounds:        9\n",
      "                variables with lower and upper bounds:        0\n",
      "                     variables with only upper bounds:        0\n",
      "Total number of equality constraints.................:       63\n",
      "Total number of inequality constraints...............:       30\n",
      "        inequality constraints with only lower bounds:        9\n",
      "   inequality constraints with lower and upper bounds:        0\n",
      "        inequality constraints with only upper bounds:       21\n",
      "\n",
      "\n",
      "Number of Iterations....: 3\n",
      "\n",
      "                                   (scaled)                 (unscaled)\n",
      "Objective...............:   1.8344980704278438e-02    1.8344980704278438e-02\n",
      "Dual infeasibility......:   1.4224867400962002e-08    1.4224867400962002e-08\n",
      "Constraint violation....:   1.5674554394954330e-14    5.0076175844848692e-13\n",
      "Variable bound violation:   0.0000000000000000e+00    0.0000000000000000e+00\n",
      "Complementarity.........:   0.0000000000000000e+00    0.0000000000000000e+00\n",
      "Overall NLP error.......:   8.6864427797129750e-09    1.4224867400962002e-08\n",
      "\n",
      "\n",
      "Number of objective function evaluations             = 4\n",
      "Number of objective gradient evaluations             = 4\n",
      "Number of equality constraint evaluations            = 4\n",
      "Number of inequality constraint evaluations          = 4\n",
      "Number of equality constraint Jacobian evaluations   = 4\n",
      "Number of inequality constraint Jacobian evaluations = 4\n",
      "Number of Lagrangian Hessian evaluations             = 3\n",
      "Total seconds in IPOPT                               = 0.002\n",
      "\n",
      "EXIT: Optimal Solution Found.\n",
      "----------------------------------------------------------------------------------------\n",
      "----------------------------------------------------------------------------------------\n",
      "Total number of variables............................:       66\n",
      "                     variables with only lower bounds:        0\n",
      "                variables with lower and upper bounds:        6\n",
      "                     variables with only upper bounds:        0\n",
      "Total number of equality constraints.................:       63\n",
      "Total number of inequality constraints...............:       48\n",
      "        inequality constraints with only lower bounds:       14\n",
      "   inequality constraints with lower and upper bounds:        0\n",
      "        inequality constraints with only upper bounds:       34\n",
      "\n",
      "\n",
      "Number of Iterations....: 21\n",
      "\n",
      "                                   (scaled)                 (unscaled)\n",
      "Objective...............:   1.8344980762983396e-02    1.8344980762983396e-02\n",
      "Dual infeasibility......:   8.9164267302673548e-11    8.9164267302673548e-11\n",
      "Constraint violation....:   1.6113129645571360e-14    4.5474735088646412e-13\n",
      "Variable bound violation:   0.0000000000000000e+00    0.0000000000000000e+00\n",
      "Complementarity.........:   3.9772815329178049e-09    3.9772815329178049e-09\n",
      "Overall NLP error.......:   3.9772815329178049e-09    3.9772815329178049e-09\n",
      "\n",
      "\n",
      "Number of objective function evaluations             = 25\n",
      "Number of objective gradient evaluations             = 22\n",
      "Number of equality constraint evaluations            = 25\n",
      "Number of inequality constraint evaluations          = 25\n",
      "Number of equality constraint Jacobian evaluations   = 22\n",
      "Number of inequality constraint Jacobian evaluations = 22\n",
      "Number of Lagrangian Hessian evaluations             = 21\n",
      "Total seconds in IPOPT                               = 0.006\n",
      "\n",
      "EXIT: Optimal Solution Found.\n",
      "----------------------------------------------------------------------------------------\n",
      "----------------------------------------------------------------------------------------\n"
     ]
    },
    {
     "data": {
      "text/plain": [
       "-3.2000555633226365e-7"
      ]
     },
     "execution_count": 32,
     "metadata": {},
     "output_type": "execute_result"
    }
   ],
   "source": [
    "# Base nlp to compare\n",
    "result_nlp = solve_mc_opf(data_pmd, ACPUPowerModel, ipopt_solver)\n",
    "\n",
    "println(\"----------------------------------------------------------------------------------------\")\n",
    "println(\"----------------------------------------------------------------------------------------\")\n",
    "\n",
    "# Approx. or Relax. to compare (in this case is another nlp formulation)\n",
    "result_relax = solve_mc_opf(data_pmd, ACRUPowerModel, ipopt_solver)\n",
    "\n",
    "println(\"----------------------------------------------------------------------------------------\")\n",
    "println(\"----------------------------------------------------------------------------------------\")\n",
    "\n",
    "# Optimality Gap\n",
    "op_gap = optimality_gap(result_nlp, result_relax) # result is in %\n"
   ]
  },
  {
   "cell_type": "code",
   "execution_count": 33,
   "id": "7146b032-b6c3-4abb-a2e8-f577c967ccaf",
   "metadata": {},
   "outputs": [
    {
     "name": "stderr",
     "output_type": "stream",
     "text": [
      "\u001b[36m\u001b[1m[ \u001b[22m\u001b[39m\u001b[36m\u001b[1mMain | Info ] : \u001b[22m\u001b[39mNLP: 0.018344980704278438\n",
      "\u001b[36m\u001b[1m[ \u001b[22m\u001b[39m\u001b[36m\u001b[1mMain | Info ] : \u001b[22m\u001b[39mNLP: LOCALLY_SOLVED\n",
      "\u001b[36m\u001b[1m[ \u001b[22m\u001b[39m\u001b[36m\u001b[1mMain | Info ] : \u001b[22m\u001b[39mRELAX: 0.018344980762983396\n",
      "\u001b[36m\u001b[1m[ \u001b[22m\u001b[39m\u001b[36m\u001b[1mMain | Info ] : \u001b[22m\u001b[39mRELAX: LOCALLY_SOLVED\n",
      "\u001b[36m\u001b[1m[ \u001b[22m\u001b[39m\u001b[36m\u001b[1mMain | Info ] : \u001b[22m\u001b[39mOptimality Gap: -3.2000555633226365e-7 %\n"
     ]
    }
   ],
   "source": [
    "@info \"NLP: $(result_nlp[\"objective\"])\"\n",
    "@info \"NLP: $(result_nlp[\"termination_status\"])\"\n",
    "\n",
    "@info \"RELAX: $(result_relax[\"objective\"])\"\n",
    "@info \"RELAX: $(result_relax[\"termination_status\"])\"\n",
    "\n",
    "@info \"Optimality Gap: $(op_gap) %\""
   ]
  },
  {
   "cell_type": "markdown",
   "id": "49730098-55cb-4479-8053-283488a55441",
   "metadata": {},
   "source": [
    "# Tutorial **PowerModelsITD** (PowerModels Integrated Transmission-Distribution)\n",
    "\n",
    "Now, let's take a look at [`PowerModelsITD`](https://github.com/lanl-ansi/PowerModelsITD.jl). [PMITD](https://github.com/lanl-ansi/PowerModelsITD.jl) is a Julia package that was designed to combine the capabilities of `PowerModels` and `PowerModelsDistribution` to enable modeling and solving large-scale Transmission and Distribution PF and OPF problems.\n",
    "\n",
    "Similar to `PM` and `PMD`, `PMITD` works under the same principles and data formats.\n",
    "\n",
    "- **Transmission**: Matpower \".m\" and PTI \".raw\" files (PSS(R)E v33 specification)\n",
    "- **Distribution**: OpenDSS \".dss\" files\n",
    "- **Boundary**: JSON \".json\" files\n",
    "\n",
    "The transmission system information is passed in using the same data formats used by PowerModels while the distribution system(s) are passed using the same data format PowerModelsDistribution supports, i.e., OpenDSS.\n",
    "\n",
    "The only additional information that is required is the **boundary** information, which is given using a `.json` file, that indicates which transmission bus connects to which distribution system (bus). \n",
    "\n",
    "For example, in the file shown below, the `voltage_source.source` bus of the `3bus_unbal` distribution system is connected to `bus #5` of the transmission system.\n",
    "\n",
    "```\n",
    "[\n",
    "\t{\n",
    "        \"transmission_boundary\": \"5\",\n",
    "        \"distribution_boundary\": \"3bus_unbal.voltage_source.source\"\n",
    "\t},\n",
    "\n",
    "\t{\n",
    "        \"transmission_boundary\": \"6\",\n",
    "        \"distribution_boundary\": \"3bus_bal.voltage_source.source\"\n",
    "        }\n",
    "]\n",
    "\n",
    "```\n",
    "\n",
    "Similarly, the `voltage_source.source` bus of the `3bus_bal` distribution system is connected to the `bus #6` of the transmission system.\n",
    "\n",
    "**Note**: A detailed description of the File Formats supported in `PowerModelsITD` can be found [here](https://lanl-ansi.github.io/PowerModelsITD.jl/stable/manual/fileformat.html).\n",
    "\n"
   ]
  },
  {
   "attachments": {
    "d0777324-6ef4-46cc-a383-1d6d46b05dff.png": {
     "image/png": "[encoded data removed]"
    }
   },
   "cell_type": "markdown",
   "id": "94d106c7-6059-48f9-bf5c-53edd3345de2",
   "metadata": {},
   "source": [
    "### Mathematics at the T&D Boundaries\n",
    "\n",
    "**PowerModelsITD** uses **PowerModels** as the _backend_ that generates the mathematical problem for the transmission system, and it uses **PowerModelsDistribution** as the _backend_ that generates the mathematical problems for the distribution systems. \n",
    "\n",
    "#### But, How **PowerModelsITD** `\"connects\"` or `\"models\"` the T&D boundary mathematically?\n",
    "\n",
    "Each formulation, e.g., ACP-ACPU, ACR-ACRU, has its own set of mathematical constraints defined at the T&D boundary(ies) that allow the mathematical interconnection between the transmission and distribution systems. You can find the mathematical constraints for a list of ITD supported formulations [here](https://lanl-ansi.github.io/PowerModelsITD.jl/stable/manual/formulations.html). \n",
    "\n",
    "Let's us check out the mathematical constraints for the `ACP-ACPU` (AC polar) formulation.\n",
    "\n",
    "##### Sets, Parameters, and (General) Variables\n",
    "\n",
    "\\begin{align}\n",
    "%\n",
    "\\mbox{sets:} & \\nonumber \\\\\n",
    "& N \\mbox{ - Set of buses}\\nonumber \\\\\n",
    "& \\mathcal{T} \\mbox{ - Belongs to transmission network}\\nonumber \\\\\n",
    "& \\mathcal{D} \\mbox{ - Belongs to distribution network}\\nonumber \\\\\n",
    "& \\mathcal{B} \\mbox{ - Set of boundary links}\\nonumber \\\\\n",
    "%\n",
    "\\mbox{parameters:} & \\nonumber \\\\\n",
    "& \\Re \\mbox{ - Real part}\\nonumber \\\\\n",
    "& \\Im \\mbox{ - Imaginary part}\\nonumber \\\\\n",
    "& \\Phi = a, b, c \\mbox{ - Multi-conductor phases}\\nonumber \\\\\n",
    "& \\chi \\rightarrow{\\mathcal{T}},{\\mathcal{D}} \\mbox{ - Belongs to Transmission or Distribution}\\nonumber \\\\\n",
    "& \\beta^{^{\\chi}} \\mbox{ - Boundary bus}\\nonumber \\\\\n",
    "%\n",
    "\\mbox{variables:} & \\nonumber \\\\\n",
    "& P_{\\beta^{^\\mathcal{T}}\\beta^{^\\mathcal{D}}}^{^\\mathcal{T}} \\mbox{ - Active power flow from Transmisison boundary bus to Distribution boundary bus}\\nonumber \\\\\n",
    "& Q_{\\beta^{^\\mathcal{T}}\\beta^{^\\mathcal{D}}}^{^\\mathcal{T}} \\mbox{ - Reactive power flow from Transmisison boundary bus to Distribution boundary bus}\\nonumber \\\\\n",
    "& P_{\\beta^{^\\mathcal{D}}\\beta^{^\\mathcal{T}}}^{{\\mathcal{D},\\varphi}} \\mbox{ - Active power flow from Distribution boundary bus phase $\\varphi$ to Transmission boundary bus}\\nonumber \\\\\n",
    "& Q_{\\beta^{^\\mathcal{D}}\\beta^{^\\mathcal{T}}}^{{\\mathcal{D},\\varphi}} \\mbox{ - Reactive power flow from Distribution boundary bus phase $\\varphi$ to Transmission boundary bus}\\nonumber \\\\\n",
    "& V_i^{^\\mathcal{T}} \\mbox{ - Voltage magnitude at bus $i$}\\nonumber \\\\\n",
    "& \\theta_i^{^\\mathcal{T}} \\mbox{ - Voltage angle at bus $i$}\\nonumber \\\\\n",
    "& v_i^{\\mathcal{D}, \\varphi} \\mbox{ - Voltage magnitude at bus $i$ phase $\\varphi$}\\nonumber \\\\\n",
    "& \\theta_i^{\\mathcal{D}, \\varphi} \\mbox{ - Voltage angle at bus $i$ phase $\\varphi$}\\nonumber \\\\\n",
    "%\n",
    "\\end{align}\n",
    "\n",
    "\n",
    "##### ACP-ACPU Formulation - Mathematical Constraints at the T&D Boundary\n",
    "\n",
    "ACP to ACPU (AC polar to AC polar unbalanced)\n",
    "\n",
    "- **Coordinates**: Polar\n",
    "- **Variables**: Power-Voltage\n",
    "- **Model(s)**: NLP-NLP\n",
    "- **ITD Boundary Math. Formulation**:\n",
    "\n",
    "\\begin{align}\n",
    "%\n",
    "\\mbox{ITD boundaries: } & \\nonumber \\\\\n",
    "& \\sum_{\\varphi \\in \\Phi} P_{\\beta^{^\\mathcal{D}}\\beta^{^\\mathcal{T}}}^{\\mathcal{D},\\varphi} +  P_{\\beta^{^\\mathcal{T}}\\beta^{^\\mathcal{D}}}^{^\\mathcal{T}} = 0, \\ \\forall (\\beta^{^\\mathcal{T}},\\beta^{^\\mathcal{D}}) \\in {\\Lambda} \\mbox{ - Active power flow at boundary} \\\\\n",
    "& \\sum_{\\varphi \\in \\Phi} Q_{\\beta^{^\\mathcal{D}}\\beta^{^\\mathcal{T}}}^{\\mathcal{D},\\varphi} +  Q_{\\beta^{^\\mathcal{T}}\\beta^{^\\mathcal{D}}}^{^\\mathcal{T}} = 0, \\ \\forall (\\beta^{^\\mathcal{T}},\\beta^{^\\mathcal{D}}) \\in {\\Lambda} \\mbox{ - Reactive power flow at boundary} \\\\\n",
    "& V_{\\beta^{^\\mathcal{T}}} = v_{\\beta^{^\\mathcal{D}}}^{^{a}}, \\ \\forall (\\beta^{^\\mathcal{T}},\\beta^{^\\mathcal{D}}) \\in {\\Lambda} \\mbox{ - Voltage mag. equality - phase a} \\\\\n",
    "& V_{\\beta^{^\\mathcal{T}}} = v_{\\beta^{^\\mathcal{D}}}^{^{b}}, \\ \\forall (\\beta^{^\\mathcal{T}},\\beta^{^\\mathcal{D}}) \\in {\\Lambda} \\mbox{ - Voltage mag. equality - phase b} \\\\\n",
    "& V_{\\beta^{^\\mathcal{T}}} = v_{\\beta^{^\\mathcal{D}}}^{^{c}}, \\ \\forall (\\beta^{^\\mathcal{T}},\\beta^{^\\mathcal{D}}) \\in {\\Lambda} \\mbox{ - Voltage mag. equality - phase c} \\\\\n",
    "& \\theta_{\\beta^{^\\mathcal{T}}} = \\theta_{\\beta^{^\\mathcal{D}}}^{^{a}}, \\ \\forall (\\beta^{^\\mathcal{T}},\\beta^{^\\mathcal{D}}) \\in {\\Lambda} \\mbox{ - Voltage ang. equality - phase a} \\\\\n",
    "& \\theta_{\\beta^{^\\mathcal{D}}}^{^{b}} = (\\theta_{\\beta^{^\\mathcal{D}}}^{^{a}} -120^{\\circ}),  \\ \\forall \\beta^{^\\mathcal{D}} \\in N^{^\\mathcal{B}} \\cap  N^{^\\mathcal{D}} \\mbox{ - Voltage ang. equality - phase b} \\\\\n",
    "& \\theta_{\\beta^{^\\mathcal{D}}}^{^{c}} = (\\theta_{\\beta^{^\\mathcal{D}}}^{^{a}} +120^{\\circ}), \\ \\forall \\beta^{^\\mathcal{D}} \\in N^{^\\mathcal{B}} \\cap  N^{^\\mathcal{D}} \\mbox{ - Voltage ang. equality - phase c} \\\\\n",
    "%\n",
    "\\end{align}\n",
    "\n",
    "\n",
    "\n",
    "\n",
    "\n",
    "\n",
    "![image.png](attachment:d0777324-6ef4-46cc-a383-1d6d46b05dff.png)\n",
    "\n",
    "The figure above depicts the ACP-ACPU formulation mapping between the single-phase transmission system buses and the three-phase distribution system nodes at the T&D boundaries. As seen in the figure, the voltage constraints enforce the mathematical mapping of the boundary buses, and the power flow\n",
    "constraints ensure that the power coming from the transmission system boundary bus is equal to the power flowing towards the rest of the distribution system.\n"
   ]
  },
  {
   "cell_type": "markdown",
   "id": "b8f3440a-da17-4e7f-a876-8fbe3c73fad1",
   "metadata": {},
   "source": [
    "### Let's import PowerModelsITD and parse the files we want to solve\n",
    "\n",
    "Here, you can see that it will be very similar to how `PowerModels` and `PowerModelsDistribution` work, with the addition of having to parse the **boundary** information file.\n",
    "\n",
    "In this example, we want to solve the integrated T&D optimal power flow (opfitd) problem for a case where we have the PJM 5-bus system (`case5_withload`) as the transmission system and the IEEE 4 Node Test Feeder (`case3_unbalanced.dss`) as the distribution system. The boundary information that specifies the respective boundary buses for both the transmission and distribution systems can be found in `case5_case3_unbal.json`.\n",
    "\n",
    "The formulation used to solve this optimization problem is the **ACP-ACPU** (i.e., AC polar for transmission and AC polar unbalanced for distribution systems) formulation.\n",
    "\n",
    "**Note**: All files used here can be found in the PowerModelsITD [test/data](https://github.com/lanl-ansi/PowerModelsITD.jl/tree/main/test/data) folder."
   ]
  },
  {
   "cell_type": "code",
   "execution_count": 34,
   "id": "2aa6b4b4-3ed2-46fe-ac5f-6e007a028850",
   "metadata": {},
   "outputs": [
    {
     "name": "stderr",
     "output_type": "stream",
     "text": [
      "\u001b[36m\u001b[1m[ \u001b[22m\u001b[39m\u001b[36m\u001b[1mPowerModelsDistribution | Info ] : \u001b[22m\u001b[39mbasemva=100 is the default value, you may want to adjust sbase_default for better convergence\n"
     ]
    },
    {
     "data": {
      "text/plain": [
       "Dict{String, Any} with 3 entries:\n",
       "  \"multiinfrastructure\" => true\n",
       "  \"it\"                  => Dict{String, Any}(\"pmd\"=>Dict{String, Any}(\"conducto…\n",
       "  \"per_unit\"            => false"
      ]
     },
     "execution_count": 34,
     "metadata": {},
     "output_type": "execute_result"
    }
   ],
   "source": [
    "using PowerModelsITD\n",
    "\n",
    "# Define the path to be the PowerModelsITD path (optional)\n",
    "files_path = joinpath(dirname(pathof(PowerModelsITD)), \"..\")\n",
    "\n",
    "# Transmission system file\n",
    "pm_file = joinpath(files_path, \"test/data/transmission/case5_withload.m\")\n",
    "\n",
    "# Distribution system file\n",
    "pmd_file = joinpath(files_path, \"test/data/distribution/case3_unbalanced.dss\")\n",
    "\n",
    "# Boundary information file\n",
    "boundary_file = joinpath(files_path, \"test/data/json/case5_case3_unbal.json\")\n",
    "\n",
    "# parse the files into dictionary\n",
    "data = PowerModelsITD.parse_files(pm_file, pmd_file, boundary_file)"
   ]
  },
  {
   "cell_type": "markdown",
   "id": "60d60779-a58b-46af-87a5-cb7bfd8751ce",
   "metadata": {},
   "source": [
    "In this case, we need to access the information of the system(s) through the `it` dictionary key, for example:"
   ]
  },
  {
   "cell_type": "code",
   "execution_count": 35,
   "id": "8996d248-114e-453f-8f4f-bd987b0ad1e6",
   "metadata": {},
   "outputs": [
    {
     "data": {
      "text/plain": [
       "Dict{String, Any} with 3 entries:\n",
       "  \"pmd\"   => Dict{String, Any}(\"conductor_ids\"=>[1, 2, 3, 4], \"bus\"=>Dict{Any, …\n",
       "  \"pm\"    => Dict{String, Any}(\"bus\"=>Dict{String, Any}(\"4\"=>Dict{String, Any}(…\n",
       "  \"pmitd\" => Dict{String, Any}(\"100001\"=>Dict{String, Any}(\"distribution_bounda…"
      ]
     },
     "execution_count": 35,
     "metadata": {},
     "output_type": "execute_result"
    }
   ],
   "source": [
    "data[\"it\"]"
   ]
  },
  {
   "cell_type": "markdown",
   "id": "09ef3254-4601-4baf-a91d-8e2460e063f8",
   "metadata": {},
   "source": [
    "Inside the `\"pm\"` key, we find the information related to the **transmission system**."
   ]
  },
  {
   "cell_type": "code",
   "execution_count": 36,
   "id": "495dfa11-76fd-4e68-80e9-253f85f842f1",
   "metadata": {},
   "outputs": [
    {
     "data": {
      "text/plain": [
       "Dict{String, Any} with 13 entries:\n",
       "  \"bus\"            => Dict{String, Any}(\"4\"=>Dict{String, Any}(\"zone\"=>1, \"bus_…\n",
       "  \"source_type\"    => \"matpower\"\n",
       "  \"name\"           => \"case5\"\n",
       "  \"dcline\"         => Dict{String, Any}()\n",
       "  \"source_version\" => \"2\"\n",
       "  \"gen\"            => Dict{String, Any}(\"4\"=>Dict{String, Any}(\"pg\"=>0.0, \"mode…\n",
       "  \"branch\"         => Dict{String, Any}(\"4\"=>Dict{String, Any}(\"br_r\"=>0.00108,…\n",
       "  \"storage\"        => Dict{String, Any}()\n",
       "  \"switch\"         => Dict{String, Any}()\n",
       "  \"baseMVA\"        => 100.0\n",
       "  \"per_unit\"       => true\n",
       "  \"shunt\"          => Dict{String, Any}()\n",
       "  \"load\"           => Dict{String, Any}(\"4\"=>Dict{String, Any}(\"source_id\"=>Any…"
      ]
     },
     "execution_count": 36,
     "metadata": {},
     "output_type": "execute_result"
    }
   ],
   "source": [
    "data[\"it\"][\"pm\"]"
   ]
  },
  {
   "cell_type": "code",
   "execution_count": 37,
   "id": "d19e38b2-ee98-4ba1-b078-1c0c1fb368a4",
   "metadata": {},
   "outputs": [
    {
     "data": {
      "text/plain": [
       "Dict{String, Any} with 6 entries:\n",
       "  \"4\"  => Dict{String, Any}(\"zone\"=>1, \"bus_i\"=>4, \"bus_type\"=>3, \"vmax\"=>1.1, …\n",
       "  \"1\"  => Dict{String, Any}(\"zone\"=>1, \"bus_i\"=>1, \"bus_type\"=>2, \"vmax\"=>1.1, …\n",
       "  \"5\"  => Dict{String, Any}(\"zone\"=>1, \"bus_i\"=>5, \"bus_type\"=>1, \"vmax\"=>1.1, …\n",
       "  \"2\"  => Dict{String, Any}(\"zone\"=>1, \"bus_i\"=>2, \"bus_type\"=>1, \"vmax\"=>1.1, …\n",
       "  \"10\" => Dict{String, Any}(\"zone\"=>1, \"bus_i\"=>10, \"bus_type\"=>2, \"vmax\"=>1.1,…\n",
       "  \"3\"  => Dict{String, Any}(\"zone\"=>1, \"bus_i\"=>3, \"bus_type\"=>2, \"vmax\"=>1.1, …"
      ]
     },
     "execution_count": 37,
     "metadata": {},
     "output_type": "execute_result"
    }
   ],
   "source": [
    "data[\"it\"][\"pm\"][\"bus\"]"
   ]
  },
  {
   "cell_type": "markdown",
   "id": "31ad3655-d7d1-43d0-9fba-40c32c9dc165",
   "metadata": {},
   "source": [
    "Inside the `\"pmd\"` key, we find the  information related to the **distribution systems**. All of the distribution systems. \n",
    "- _Note_: Each element name has the format `name_of_distro_system.element_name`.\n"
   ]
  },
  {
   "cell_type": "code",
   "execution_count": 38,
   "id": "0698da64-3fee-42b7-b949-2fe2bd92ea35",
   "metadata": {},
   "outputs": [
    {
     "data": {
      "text/plain": [
       "Dict{String, Any} with 13 entries:\n",
       "  \"conductor_ids\"  => [1, 2, 3, 4]\n",
       "  \"bus\"            => Dict{Any, Any}(\"3bus_unbal.loadbus\"=>Dict{String, Any}(\"r…\n",
       "  \"name\"           => \"3bus_unbal\"\n",
       "  \"ckt_names\"      => [\"3bus_unbal\"]\n",
       "  \"settings\"       => Dict{String, Any}(\"sbase_default\"=>100000.0, \"vbases_defa…\n",
       "  \"files\"          => [\"/Users/dfobes/.julia/packages/PowerModelsITD/09MN1/src/…\n",
       "  \"generator\"      => Dict{Any, Any}(\"3bus_unbal.gen1\"=>Dict{String, Any}(\"vg\"=…\n",
       "  \"voltage_source\" => Dict{Any, Any}(\"3bus_unbal.source\"=>Dict{String, Any}(\"so…\n",
       "  \"line\"           => Dict{Any, Any}(\"3bus_unbal.quad\"=>Dict{String, Any}(\"leng…\n",
       "  \"data_model\"     => ENGINEERING\n",
       "  \"transformer\"    => Dict{Any, Any}(\"3bus_unbal.subxf\"=>Dict{String, Any}(\"pol…\n",
       "  \"load\"           => Dict{Any, Any}(\"3bus_unbal.l2\"=>Dict{String, Any}(\"model\"…\n",
       "  \"linecode\"       => Dict{Any, Any}(\"3bus_unbal.4/0quad\"=>Dict{String, Any}(\"b…"
      ]
     },
     "execution_count": 38,
     "metadata": {},
     "output_type": "execute_result"
    }
   ],
   "source": [
    "data[\"it\"][\"pmd\"]"
   ]
  },
  {
   "cell_type": "code",
   "execution_count": 39,
   "id": "5c914d3f-a6a4-40a5-a441-aca40df0dc47",
   "metadata": {},
   "outputs": [
    {
     "data": {
      "text/plain": [
       "Dict{Any, Any} with 4 entries:\n",
       "  \"3bus_unbal.loadbus\"    => Dict{String, Any}(\"rg\"=>[0.0], \"grounded\"=>[4], \"s…\n",
       "  \"3bus_unbal.substation\" => Dict{String, Any}(\"rg\"=>[0.0], \"grounded\"=>[4], \"s…\n",
       "  \"3bus_unbal.primary\"    => Dict{String, Any}(\"rg\"=>Float64[], \"grounded\"=>Int…\n",
       "  \"3bus_unbal.sourcebus\"  => Dict{String, Any}(\"rg\"=>[0.0], \"grounded\"=>[4], \"s…"
      ]
     },
     "execution_count": 39,
     "metadata": {},
     "output_type": "execute_result"
    }
   ],
   "source": [
    "data[\"it\"][\"pmd\"][\"bus\"]"
   ]
  },
  {
   "cell_type": "markdown",
   "id": "7085c597-bcbc-4351-94c6-454b499c6eb7",
   "metadata": {},
   "source": [
    "Inside the `\"pmitd\"` key, we find the information related to the **boundary(ies)**\n",
    "- _Note_: Each **boundary** is numbered starting from \"100001\" to ....."
   ]
  },
  {
   "cell_type": "code",
   "execution_count": 40,
   "id": "65b5316e-533b-4cfb-9768-96185a55c1de",
   "metadata": {},
   "outputs": [
    {
     "data": {
      "text/plain": [
       "Dict{String, Any} with 1 entry:\n",
       "  \"100001\" => Dict{String, Any}(\"distribution_boundary\"=>\"3bus_unbal.voltage_so…"
      ]
     },
     "execution_count": 40,
     "metadata": {},
     "output_type": "execute_result"
    }
   ],
   "source": [
    "data[\"it\"][\"pmitd\"]"
   ]
  },
  {
   "cell_type": "code",
   "execution_count": 41,
   "id": "dda761fb-ee02-419c-8ef3-704a581c3669",
   "metadata": {},
   "outputs": [
    {
     "data": {
      "text/plain": [
       "Dict{String, Any} with 2 entries:\n",
       "  \"distribution_boundary\" => \"3bus_unbal.voltage_source.source\"\n",
       "  \"transmission_boundary\" => \"5\""
      ]
     },
     "execution_count": 41,
     "metadata": {},
     "output_type": "execute_result"
    }
   ],
   "source": [
    "data[\"it\"][\"pmitd\"][\"100001\"]"
   ]
  },
  {
   "cell_type": "markdown",
   "id": "3a542ce2-87da-464c-a27c-c978418781cf",
   "metadata": {},
   "source": [
    "### Now, let's solve the T&D Optimal Power Flow (OPFITD) for this problem \n",
    "\n",
    "This will solve the OPFITD, optimal power flow for integrated transmission-distribution system\n",
    "\n",
    "<span style=\"color:red\">**NOTE**: _If you get an error, try reparsing the data. This issue happens because after the problem is solved, the `data` structure is modified and affects re-running the problem again. That is why you need to re-parse the file_.</span>."
   ]
  },
  {
   "cell_type": "code",
   "execution_count": 42,
   "id": "b305e979-377c-4602-9304-7b2c25f4488b",
   "metadata": {},
   "outputs": [
    {
     "name": "stdout",
     "output_type": "stream",
     "text": [
      "Total number of variables............................:      211\n",
      "                     variables with only lower bounds:       27\n",
      "                variables with lower and upper bounds:       71\n",
      "                     variables with only upper bounds:        0\n",
      "Total number of equality constraints.................:      199\n",
      "Total number of inequality constraints...............:       69\n",
      "        inequality constraints with only lower bounds:       18\n",
      "   inequality constraints with lower and upper bounds:        7\n",
      "        inequality constraints with only upper bounds:       44\n",
      "\n",
      "\n",
      "Number of Iterations....: 24\n",
      "\n",
      "                                   (scaled)                 (unscaled)\n",
      "Objective...............:   4.4884366280124215e+02    1.7953746512049685e+04\n",
      "Dual infeasibility......:   7.9856407667097663e-10    3.1942563066839065e-08\n",
      "Constraint violation....:   3.9849375691553443e-14    5.8670117375481112e-12\n",
      "Variable bound violation:   3.0132552453210337e-08    3.0132552453210337e-08\n",
      "Complementarity.........:   2.5059052362800323e-09    1.0023620945120128e-07\n",
      "Overall NLP error.......:   2.5059052362800323e-09    1.0023620945120128e-07\n",
      "\n",
      "\n",
      "Number of objective function evaluations             = 34\n",
      "Number of objective gradient evaluations             = 25\n",
      "Number of equality constraint evaluations            = 34\n",
      "Number of inequality constraint evaluations          = 34\n",
      "Number of equality constraint Jacobian evaluations   = 25\n",
      "Number of inequality constraint Jacobian evaluations = 25\n",
      "Number of Lagrangian Hessian evaluations             = 24\n",
      "Total seconds in IPOPT                               = 0.022\n",
      "\n",
      "EXIT: Optimal Solution Found.\n"
     ]
    },
    {
     "name": "stderr",
     "output_type": "stream",
     "text": [
      "\u001b[36m\u001b[1m[ \u001b[22m\u001b[39m\u001b[36m\u001b[1mPowerModelsDistribution | Info ] : \u001b[22m\u001b[39mbasemva=100 is the default value, you may want to adjust sbase_default for better convergence\n",
      "\u001b[36m\u001b[1m[ \u001b[22m\u001b[39m\u001b[36m\u001b[1mPowerModelsITD | Info ] : \u001b[22m\u001b[39mpmitd model solution time (instantiate + optimization): 5.668787002563477\n"
     ]
    },
    {
     "data": {
      "text/plain": [
       "Dict{String, Any} with 8 entries:\n",
       "  \"solve_time\"         => 0.0237119\n",
       "  \"optimizer\"          => \"Ipopt\"\n",
       "  \"termination_status\" => LOCALLY_SOLVED\n",
       "  \"dual_status\"        => FEASIBLE_POINT\n",
       "  \"primal_status\"      => FEASIBLE_POINT\n",
       "  \"objective\"          => 17953.7\n",
       "  \"solution\"           => Dict{String, Any}(\"multiinfrastructure\"=>true, \"it\"=>…\n",
       "  \"objective_lb\"       => -Inf"
      ]
     },
     "execution_count": 42,
     "metadata": {},
     "output_type": "execute_result"
    }
   ],
   "source": [
    "using Ipopt\n",
    "\n",
    "# Re-parse data to avoid errors\n",
    "data = PowerModelsITD.parse_files(pm_file, pmd_file, boundary_file)\n",
    "\n",
    "# Define T&D formulation to use\n",
    "formulation = PowerModelsITD.NLPowerModelITD{ACPPowerModel, ACPUPowerModel}\n",
    "\n",
    "# solver\n",
    "ipopt_solver = optimizer_with_attributes(Ipopt.Optimizer, \"print_level\" => 3)\n",
    "\n",
    "# solve the opf itd optimization problem\n",
    "result = solve_opfitd(data, formulation, ipopt_solver)"
   ]
  },
  {
   "cell_type": "markdown",
   "id": "b8faae6f-9dac-4d95-8257-155dc8ae79d4",
   "metadata": {},
   "source": [
    "#### Let's check the results"
   ]
  },
  {
   "cell_type": "code",
   "execution_count": 43,
   "id": "b38e3a62-fd48-4b31-9bca-2e2316d284ae",
   "metadata": {},
   "outputs": [
    {
     "name": "stderr",
     "output_type": "stream",
     "text": [
      "\u001b[36m\u001b[1m[ \u001b[22m\u001b[39m\u001b[36m\u001b[1mMain | Info ] : \u001b[22m\u001b[39mObjective: 17953.746512049685 [$/hr]\n"
     ]
    }
   ],
   "source": [
    "@info \"Objective: $(result[\"objective\"]) [\\$/hr]\""
   ]
  },
  {
   "cell_type": "code",
   "execution_count": 44,
   "id": "5946ef90-28db-4c6d-a422-ecff78761162",
   "metadata": {},
   "outputs": [
    {
     "name": "stderr",
     "output_type": "stream",
     "text": [
      "\u001b[36m\u001b[1m[ \u001b[22m\u001b[39m\u001b[36m\u001b[1mMain | Info ] : \u001b[22m\u001b[39mTermination Status of Solver: LOCALLY_SOLVED\n"
     ]
    }
   ],
   "source": [
    "@info \"Termination Status of Solver: $(result[\"termination_status\"])\""
   ]
  },
  {
   "cell_type": "code",
   "execution_count": 45,
   "id": "ababeed2-9ab7-4849-b9f6-1910ea0a8220",
   "metadata": {},
   "outputs": [
    {
     "name": "stderr",
     "output_type": "stream",
     "text": [
      "\u001b[36m\u001b[1m[ \u001b[22m\u001b[39m\u001b[36m\u001b[1mMain | Info ] : \u001b[22m\u001b[39mSolve Time: 0.0237119197845459 [seconds]\n"
     ]
    }
   ],
   "source": [
    "@info \"Solve Time: $(result[\"solve_time\"]) [seconds]\""
   ]
  },
  {
   "cell_type": "markdown",
   "id": "b9c07ce4-7929-4476-8139-33e2676bcff9",
   "metadata": {},
   "source": [
    "##### Solution Values for Transmission system"
   ]
  },
  {
   "cell_type": "code",
   "execution_count": 46,
   "id": "92ff01a0-345e-4b3c-8bde-a2a35831989d",
   "metadata": {},
   "outputs": [
    {
     "data": {
      "text/plain": [
       "Dict{String, Any} with 6 entries:\n",
       "  \"4\"  => Dict{String, Any}(\"va\"=>-9.66631e-28, \"vm\"=>0.9)\n",
       "  \"1\"  => Dict{String, Any}(\"va\"=>3.95571, \"vm\"=>0.917815)\n",
       "  \"5\"  => Dict{String, Any}(\"va\"=>-0.803612, \"vm\"=>0.940088)\n",
       "  \"2\"  => Dict{String, Any}(\"va\"=>-0.656332, \"vm\"=>0.941632)\n",
       "  \"10\" => Dict{String, Any}(\"va\"=>5.01851, \"vm\"=>0.904864)\n",
       "  \"3\"  => Dict{String, Any}(\"va\"=>-0.312228, \"vm\"=>0.967094)"
      ]
     },
     "execution_count": 46,
     "metadata": {},
     "output_type": "execute_result"
    }
   ],
   "source": [
    "# Buses\n",
    "result[\"solution\"][\"it\"][\"pm\"][\"bus\"]"
   ]
  },
  {
   "cell_type": "code",
   "execution_count": 47,
   "id": "28e9d289-430f-47ba-96f2-04b4c4bacd3a",
   "metadata": {},
   "outputs": [
    {
     "data": {
      "text/plain": [
       "Dict{String, Any} with 7 entries:\n",
       "  \"4\" => Dict{String, Any}(\"qf\"=>-215.457, \"qt\"=>220.015, \"pt\"=>72.7277, \"pf\"=>…\n",
       "  \"1\" => Dict{String, Any}(\"qf\"=>-91.9458, \"qt\"=>113.049, \"pt\"=>-235.968, \"pf\"=…\n",
       "  \"5\" => Dict{String, Any}(\"qf\"=>71.3753, \"qt\"=>-69.0087, \"pt\"=>57.0431, \"pf\"=>…\n",
       "  \"2\" => Dict{String, Any}(\"qf\"=>40.8275, \"qt\"=>-27.519, \"pt\"=>-190.173, \"pf\"=>…\n",
       "  \"6\" => Dict{String, Any}(\"qf\"=>19.2895, \"qt\"=>1.0554, \"pt\"=>239.998, \"pf\"=>-2…\n",
       "  \"7\" => Dict{String, Any}(\"qf\"=>3.79799, \"qt\"=>-4.36718, \"pt\"=>-8.06845, \"pf\"=…\n",
       "  \"3\" => Dict{String, Any}(\"qf\"=>208.618, \"qt\"=>-204.199, \"pt\"=>220.4, \"pf\"=>-2…"
      ]
     },
     "execution_count": 47,
     "metadata": {},
     "output_type": "execute_result"
    }
   ],
   "source": [
    "# Branches\n",
    "result[\"solution\"][\"it\"][\"pm\"][\"branch\"]"
   ]
  },
  {
   "cell_type": "code",
   "execution_count": 48,
   "id": "2396f427-a23f-4d94-9609-e44c1cf81a72",
   "metadata": {},
   "outputs": [
    {
     "data": {
      "text/plain": [
       "Dict{String, Any} with 5 entries:\n",
       "  \"4\" => Dict{String, Any}(\"qg\"=>54.2318, \"pg\"=>18.9614)\n",
       "  \"1\" => Dict{String, Any}(\"qg\"=>30.0, \"pg\"=>40.0)\n",
       "  \"5\" => Dict{String, Any}(\"qg\"=>-203.144, \"pg\"=>460.398)\n",
       "  \"2\" => Dict{String, Any}(\"qg\"=>127.5, \"pg\"=>170.0)\n",
       "  \"3\" => Dict{String, Any}(\"qg\"=>390.0, \"pg\"=>315.977)"
      ]
     },
     "execution_count": 48,
     "metadata": {},
     "output_type": "execute_result"
    }
   ],
   "source": [
    "# Generators\n",
    "result[\"solution\"][\"it\"][\"pm\"][\"gen\"]"
   ]
  },
  {
   "cell_type": "markdown",
   "id": "4c227a6b-c8b5-4719-959c-743c755327e6",
   "metadata": {},
   "source": [
    "##### Solution Values for Distribution system(s)"
   ]
  },
  {
   "cell_type": "code",
   "execution_count": 49,
   "id": "de04ffac-4e67-4a54-b6ae-6ac5c2078b0d",
   "metadata": {},
   "outputs": [
    {
     "data": {
      "text/plain": [
       "Dict{String, Any} with 4 entries:\n",
       "  \"3bus_unbal.loadbus\"    => Dict{String, Any}(\"va\"=>[-0.954285, -120.825, 119.…\n",
       "  \"3bus_unbal.substation\" => Dict{String, Any}(\"va\"=>[-0.808934, -120.807, 119.…\n",
       "  \"3bus_unbal.primary\"    => Dict{String, Any}(\"va\"=>[-0.877214, -120.816, 119.…\n",
       "  \"3bus_unbal.sourcebus\"  => Dict{String, Any}(\"va\"=>[-0.80642, -120.806, 119.1…"
      ]
     },
     "execution_count": 49,
     "metadata": {},
     "output_type": "execute_result"
    }
   ],
   "source": [
    "# Buses/Nodes\n",
    "result[\"solution\"][\"it\"][\"pmd\"][\"bus\"]"
   ]
  },
  {
   "cell_type": "code",
   "execution_count": 50,
   "id": "1eb452a6-e368-4077-b057-823603d930cc",
   "metadata": {},
   "outputs": [
    {
     "data": {
      "text/plain": [
       "Dict{String, Any} with 2 entries:\n",
       "  \"3bus_unbal.quad\"   => Dict{String, Any}(\"qf\"=>[1344.78, 1503.94, 1502.44], \"…\n",
       "  \"3bus_unbal.ohline\" => Dict{String, Any}(\"qf\"=>[1354.62, 1507.23, 1504.47], \"…"
      ]
     },
     "execution_count": 50,
     "metadata": {},
     "output_type": "execute_result"
    }
   ],
   "source": [
    "# Lines (i.e., branches)\n",
    "result[\"solution\"][\"it\"][\"pmd\"][\"line\"]"
   ]
  },
  {
   "cell_type": "code",
   "execution_count": 51,
   "id": "14b77a34-2aa0-4c76-8cee-4bf3828dbc7d",
   "metadata": {},
   "outputs": [
    {
     "data": {
      "text/plain": [
       "Dict{String, Any} with 4 entries:\n",
       "  \"qg_bus\" => [-0.0, -0.0, -0.0]\n",
       "  \"qg\"     => [-0.0, -0.0, -0.0]\n",
       "  \"pg\"     => [666.668, 666.668, 666.668]\n",
       "  \"pg_bus\" => [666.668, 666.668, 666.668]"
      ]
     },
     "execution_count": 51,
     "metadata": {},
     "output_type": "execute_result"
    }
   ],
   "source": [
    "# Generators (DG1)\n",
    "result[\"solution\"][\"it\"][\"pmd\"][\"generator\"][\"3bus_unbal.gen1\"]"
   ]
  },
  {
   "cell_type": "code",
   "execution_count": 52,
   "id": "06eb18ff-fef9-40cc-9a51-bc37d4e4acec",
   "metadata": {},
   "outputs": [
    {
     "data": {
      "text/plain": [
       "Dict{String, Any} with 3 entries:\n",
       "  \"3bus_unbal.l2\" => Dict{String, Any}(\"qd_bus\"=>[1500.0], \"pd_bus\"=>[3000.0], …\n",
       "  \"3bus_unbal.l3\" => Dict{String, Any}(\"qd_bus\"=>[1500.0], \"pd_bus\"=>[3000.0], …\n",
       "  \"3bus_unbal.l1\" => Dict{String, Any}(\"qd_bus\"=>[1333.33], \"pd_bus\"=>[4000.0],…"
      ]
     },
     "execution_count": 52,
     "metadata": {},
     "output_type": "execute_result"
    }
   ],
   "source": [
    "# Loads\n",
    "result[\"solution\"][\"it\"][\"pmd\"][\"load\"]"
   ]
  },
  {
   "cell_type": "markdown",
   "id": "09547e6c-3842-4233-8880-7e9e0b3448cc",
   "metadata": {},
   "source": [
    "##### Solution Values for Boundary(ies) (T&D interconnection)"
   ]
  },
  {
   "cell_type": "code",
   "execution_count": 53,
   "id": "c9f27e9f-a18c-408d-b788-9c54db812bfb",
   "metadata": {
    "scrolled": true
   },
   "outputs": [
    {
     "data": {
      "text/plain": [
       "Dict{String, Any} with 2 entries:\n",
       "  \"pbound_fr\" => [8068.45]\n",
       "  \"qbound_fr\" => [4367.18]"
      ]
     },
     "execution_count": 53,
     "metadata": {},
     "output_type": "execute_result"
    }
   ],
   "source": [
    "# Boundary - Transmission (Bus #5) to Distribution (3bus_unbal)\n",
    "result[\"solution\"][\"it\"][\"pmitd\"][\"boundary\"][\"(100001, 5, voltage_source.3bus_unbal.source)\"]"
   ]
  },
  {
   "cell_type": "code",
   "execution_count": 54,
   "id": "beb979ca-fe53-4f3d-a5c7-ed723142d535",
   "metadata": {},
   "outputs": [
    {
     "data": {
      "text/plain": [
       "Dict{String, Any} with 2 entries:\n",
       "  \"pbound_to\" => [-3367.19, -2346.4, -2354.86]\n",
       "  \"qbound_to\" => [-1355.01, -1507.47, -1504.7]"
      ]
     },
     "execution_count": 54,
     "metadata": {},
     "output_type": "execute_result"
    }
   ],
   "source": [
    "# Boundary - Distribution (3bus_unbal) to Transmission (Bus #5)\n",
    "result[\"solution\"][\"it\"][\"pmitd\"][\"boundary\"][\"(100001, voltage_source.3bus_unbal.source, 5)\"]"
   ]
  },
  {
   "cell_type": "markdown",
   "id": "6e932d9d-7147-4687-8f4f-2210dd87cbb1",
   "metadata": {},
   "source": [
    "# --------------------------------\n",
    "<span style=\"color:red\">**IMPORTANT!**</span>\n",
    "\n",
    "The values with a key name ending in `..._fr` represent the powers flowing from the Transmission to the Distribution. The values ending in `...to` represent the powers flowing from the Distribution to the Transmission (that's why they are negative). For the Distribution values, they represent `[phase A, phase B, phase C]`. The summation of all elements in the `to` vectors must be equal to the value in `fr`. The summation must be multiplied by $\\times$ -1 to make it positive.\n",
    "\n",
    "# --------------------------------"
   ]
  },
  {
   "cell_type": "markdown",
   "id": "4ce8b917-2179-4bb8-bcd4-7c481732b7bd",
   "metadata": {},
   "source": [
    "### Let's solve a Multinetwork (Time-series) Multisystem (Multiple Distribution Systems) OPFITD\n",
    "\n",
    "In this example case, we want to solve the integrated T&D optimal power flow (opfitd) problem for a Multinetwork case where we have the PJM 5-bus system (`case5_with2loads.m`) as the transmission system and two copies of the IEEE 4 Node Test Feeder (`case3_unbalanced_withoutgen_mn.dss`) as the distribution systems, where each distribution system has load profiles for their respective loads for **four timesteps**. The boundary information that specifies the respective boundary buses for both the transmission and distribution systems can be found in `case5_case3x2.json`.\n",
    "\n",
    "**Note**: The key `nw` means `network`. The term `multinetwork` is a generalization of `timeseries`, since each timestep in the timeseries can be considered a _different_ network.\n"
   ]
  },
  {
   "cell_type": "code",
   "execution_count": 55,
   "id": "4544aea4-368c-46ef-8337-f24b384f9fba",
   "metadata": {},
   "outputs": [
    {
     "name": "stderr",
     "output_type": "stream",
     "text": [
      "\u001b[33m\u001b[1m┌ \u001b[22m\u001b[39m\u001b[33m\u001b[1mPowerModelsITD | Warning ] : \u001b[22m\u001b[39mSuppressing information and warning messages output by PowerModels and PowerModelsDistribution for the rest of this session.\n",
      "\u001b[33m\u001b[1m└ \u001b[22m\u001b[39m\u001b[90m@ PowerModelsITD ~/.julia/packages/PowerModelsITD/09MN1/src/PowerModelsITD.jl:18\u001b[39m\n",
      "\u001b[33m\u001b[1m┌ \u001b[22m\u001b[39m\u001b[33m\u001b[1mPowerModelsITD | Warning ] : \u001b[22m\u001b[39mauto_rename option is true, so boundary names in 'pmitd=>' will be overwritten sequentially and may not represent the actual wanted boundary connections.\n",
      "\u001b[33m\u001b[1m└ \u001b[22m\u001b[39m\u001b[90m@ PowerModelsITD ~/.julia/packages/PowerModelsITD/09MN1/src/core/helpers.jl:107\u001b[39m\n"
     ]
    },
    {
     "name": "stdout",
     "output_type": "stream",
     "text": [
      "Total number of variables............................:     1488\n",
      "                     variables with only lower bounds:      216\n",
      "                variables with lower and upper bounds:      388\n",
      "                     variables with only upper bounds:        0\n",
      "Total number of equality constraints.................:     1452\n",
      "Total number of inequality constraints...............:      480\n",
      "        inequality constraints with only lower bounds:      144\n",
      "   inequality constraints with lower and upper bounds:       32\n",
      "        inequality constraints with only upper bounds:      304\n",
      "\n",
      "\n",
      "Number of Iterations....: 24\n",
      "\n",
      "                                   (scaled)                 (unscaled)\n",
      "Objective...............:   1.7971067692666493e+03    7.1884270770665971e+04\n",
      "Dual infeasibility......:   8.1648649495225114e-10    3.2659459798090046e-08\n",
      "Constraint violation....:   5.0333644883944543e-14    6.0395854983852360e-12\n",
      "Variable bound violation:   3.0073922019369093e-08    3.0073922019369093e-08\n",
      "Complementarity.........:   2.5059168630961834e-09    1.0023667452384734e-07\n",
      "Overall NLP error.......:   2.5059168630961834e-09    1.0023667452384734e-07\n",
      "\n",
      "\n",
      "Number of objective function evaluations             = 25\n",
      "Number of objective gradient evaluations             = 25\n",
      "Number of equality constraint evaluations            = 25\n",
      "Number of inequality constraint evaluations          = 25\n",
      "Number of equality constraint Jacobian evaluations   = 25\n",
      "Number of inequality constraint Jacobian evaluations = 25\n",
      "Number of Lagrangian Hessian evaluations             = 24\n",
      "Total seconds in IPOPT                               = 0.138\n",
      "\n",
      "EXIT: Optimal Solution Found.\n"
     ]
    },
    {
     "name": "stderr",
     "output_type": "stream",
     "text": [
      "\u001b[36m\u001b[1m[ \u001b[22m\u001b[39m\u001b[36m\u001b[1mPowerModelsITD | Info ] : \u001b[22m\u001b[39mpmitd model solution time (instantiate + optimization): 0.6272449493408203\n"
     ]
    },
    {
     "data": {
      "text/plain": [
       "Dict{String, Any} with 8 entries:\n",
       "  \"solve_time\"         => 0.148122\n",
       "  \"optimizer\"          => \"Ipopt\"\n",
       "  \"termination_status\" => LOCALLY_SOLVED\n",
       "  \"dual_status\"        => FEASIBLE_POINT\n",
       "  \"primal_status\"      => FEASIBLE_POINT\n",
       "  \"objective\"          => 71884.3\n",
       "  \"solution\"           => Dict{String, Any}(\"multiinfrastructure\"=>true, \"it\"=>…\n",
       "  \"objective_lb\"       => -Inf"
      ]
     },
     "execution_count": 55,
     "metadata": {},
     "output_type": "execute_result"
    }
   ],
   "source": [
    "using PowerModelsITD\n",
    "using Ipopt\n",
    "\n",
    "# solver\n",
    "ipopt_solver = optimizer_with_attributes(Ipopt.Optimizer, \"print_level\" => 3)\n",
    "\n",
    "PowerModelsITD.silence!()  # Silences the console, so warning messages or information are not displayed\n",
    "\n",
    "files_path = joinpath(dirname(pathof(PowerModelsITD)), \"..\")                                    # file path for test cases files\n",
    "pm_file = joinpath(files_path, \"test/data/transmission/case5_with2loads.m\")                     # transmission system file\n",
    "pmd_file1 = joinpath(files_path, \"test/data/distribution/case3_unbalanced_withoutgen_mn.dss\")    # distribution system file 1\n",
    "pmd_file2 = joinpath(files_path, \"test/data/distribution/case3_unbalanced_withoutgen_mn_diff.dss\")    # distribution system file 2\n",
    "boundary_file = joinpath(files_path, \"test/data/json/case5_case3x2.json\")                       # boundary file with info. about boundary buses\n",
    "pmd_files = [pmd_file1, pmd_file2]                                                                # vector of distrib. systems (in this case a copy of the same)\n",
    "\n",
    "# type of formulation to be used\n",
    "formulation = PowerModelsITD.NLPowerModelITD{ACPPowerModel, ACPUPowerModel}\n",
    "\n",
    "# solve the multinetwork opfitd\n",
    "result = PowerModelsITD.solve_mn_opfitd(pm_file, pmd_files, boundary_file, formulation, ipopt_solver; auto_rename=true)"
   ]
  },
  {
   "cell_type": "code",
   "execution_count": 56,
   "id": "582cba5d-b420-4e65-8950-c0d5b4f3271a",
   "metadata": {},
   "outputs": [
    {
     "name": "stderr",
     "output_type": "stream",
     "text": [
      "\u001b[36m\u001b[1m[ \u001b[22m\u001b[39m\u001b[36m\u001b[1mMain | Info ] : \u001b[22m\u001b[39mObjective: 71884.27077066597 [$/hr]\n"
     ]
    }
   ],
   "source": [
    "@info \"Objective: $(result[\"objective\"]) [\\$/hr]\""
   ]
  },
  {
   "cell_type": "code",
   "execution_count": 57,
   "id": "df496be5-c9c3-44b8-8fb8-ead4a0fe1524",
   "metadata": {},
   "outputs": [
    {
     "name": "stderr",
     "output_type": "stream",
     "text": [
      "\u001b[36m\u001b[1m[ \u001b[22m\u001b[39m\u001b[36m\u001b[1mMain | Info ] : \u001b[22m\u001b[39mTermination Status of Solver: LOCALLY_SOLVED\n"
     ]
    }
   ],
   "source": [
    "@info \"Termination Status of Solver: $(result[\"termination_status\"])\""
   ]
  },
  {
   "cell_type": "code",
   "execution_count": 58,
   "id": "b96efabf-33a6-42f3-adc0-498538d02166",
   "metadata": {},
   "outputs": [
    {
     "name": "stderr",
     "output_type": "stream",
     "text": [
      "\u001b[36m\u001b[1m[ \u001b[22m\u001b[39m\u001b[36m\u001b[1mMain | Info ] : \u001b[22m\u001b[39mSolve Time: 0.14812207221984863 [seconds]\n"
     ]
    }
   ],
   "source": [
    "@info \"Solve Time: $(result[\"solve_time\"]) [seconds]\""
   ]
  },
  {
   "cell_type": "markdown",
   "id": "6aebfe82-3844-4a4f-9ddb-fc7e922f5663",
   "metadata": {},
   "source": [
    "##### Solution Values for Transmission system"
   ]
  },
  {
   "cell_type": "code",
   "execution_count": 59,
   "id": "ad05748e-4891-4dff-a917-d84966807bba",
   "metadata": {},
   "outputs": [
    {
     "data": {
      "text/plain": [
       "Dict{String, Any} with 7 entries:\n",
       "  \"4\"  => Dict{String, Any}(\"va\"=>1.77189e-30, \"vm\"=>0.9)\n",
       "  \"1\"  => Dict{String, Any}(\"va\"=>3.95511, \"vm\"=>0.91789)\n",
       "  \"5\"  => Dict{String, Any}(\"va\"=>-0.769599, \"vm\"=>0.94138)\n",
       "  \"2\"  => Dict{String, Any}(\"va\"=>-0.65741, \"vm\"=>0.94211)\n",
       "  \"6\"  => Dict{String, Any}(\"va\"=>-0.825474, \"vm\"=>0.940969)\n",
       "  \"10\" => Dict{String, Any}(\"va\"=>5.01852, \"vm\"=>0.904864)\n",
       "  \"3\"  => Dict{String, Any}(\"va\"=>-0.327076, \"vm\"=>0.967421)"
      ]
     },
     "execution_count": 59,
     "metadata": {},
     "output_type": "execute_result"
    }
   ],
   "source": [
    "# Buses of timestep 1 in the timeseries\n",
    "result[\"solution\"][\"it\"][\"pm\"][\"nw\"][\"1\"][\"bus\"]"
   ]
  },
  {
   "cell_type": "code",
   "execution_count": 60,
   "id": "199c080f-8d93-4423-8c28-d0d1f1238dac",
   "metadata": {},
   "outputs": [
    {
     "data": {
      "text/plain": [
       "Dict{String, Any} with 7 entries:\n",
       "  \"4\"  => Dict{String, Any}(\"va\"=>-2.34906e-30, \"vm\"=>0.9)\n",
       "  \"1\"  => Dict{String, Any}(\"va\"=>3.95596, \"vm\"=>0.91792)\n",
       "  \"5\"  => Dict{String, Any}(\"va\"=>-0.72648, \"vm\"=>0.941916)\n",
       "  \"2\"  => Dict{String, Any}(\"va\"=>-0.651197, \"vm\"=>0.942305)\n",
       "  \"6\"  => Dict{String, Any}(\"va\"=>-0.745434, \"vm\"=>0.941844)\n",
       "  \"10\" => Dict{String, Any}(\"va\"=>5.01854, \"vm\"=>0.904862)\n",
       "  \"3\"  => Dict{String, Any}(\"va\"=>-0.332464, \"vm\"=>0.967549)"
      ]
     },
     "execution_count": 60,
     "metadata": {},
     "output_type": "execute_result"
    }
   ],
   "source": [
    "# Buses of timestep 2 in the timeseries\n",
    "result[\"solution\"][\"it\"][\"pm\"][\"nw\"][\"2\"][\"bus\"]"
   ]
  },
  {
   "cell_type": "code",
   "execution_count": 61,
   "id": "e1c1080b-21d9-4064-bd16-1a19432c3d97",
   "metadata": {},
   "outputs": [
    {
     "data": {
      "text/plain": [
       "Dict{String, Any} with 7 entries:\n",
       "  \"4\"  => Dict{String, Any}(\"va\"=>2.90557e-31, \"vm\"=>0.9)\n",
       "  \"1\"  => Dict{String, Any}(\"va\"=>3.95345, \"vm\"=>0.917828)\n",
       "  \"5\"  => Dict{String, Any}(\"va\"=>-0.856195, \"vm\"=>0.940291)\n",
       "  \"2\"  => Dict{String, Any}(\"va\"=>-0.669593, \"vm\"=>0.941712)\n",
       "  \"6\"  => Dict{String, Any}(\"va\"=>-0.986678, \"vm\"=>0.939193)\n",
       "  \"10\" => Dict{String, Any}(\"va\"=>5.01847, \"vm\"=>0.904867)\n",
       "  \"3\"  => Dict{String, Any}(\"va\"=>-0.315789, \"vm\"=>0.967162)"
      ]
     },
     "execution_count": 61,
     "metadata": {},
     "output_type": "execute_result"
    }
   ],
   "source": [
    "# Buses of timestep 3 in the timeseries\n",
    "result[\"solution\"][\"it\"][\"pm\"][\"nw\"][\"3\"][\"bus\"]"
   ]
  },
  {
   "cell_type": "code",
   "execution_count": 62,
   "id": "1cba98e3-75a1-4160-b22b-ee43911d6b4c",
   "metadata": {},
   "outputs": [
    {
     "data": {
      "text/plain": [
       "Dict{String, Any} with 7 entries:\n",
       "  \"4\"  => Dict{String, Any}(\"va\"=>1.0386e-28, \"vm\"=>0.9)\n",
       "  \"1\"  => Dict{String, Any}(\"va\"=>3.95146, \"vm\"=>0.917749)\n",
       "  \"5\"  => Dict{String, Any}(\"va\"=>-0.965128, \"vm\"=>0.938896)\n",
       "  \"2\"  => Dict{String, Any}(\"va\"=>-0.684337, \"vm\"=>0.941203)\n",
       "  \"6\"  => Dict{String, Any}(\"va\"=>-1.19036, \"vm\"=>0.936924)\n",
       "  \"10\" => Dict{String, Any}(\"va\"=>5.01842, \"vm\"=>0.904872)\n",
       "  \"3\"  => Dict{String, Any}(\"va\"=>-0.300677, \"vm\"=>0.96683)"
      ]
     },
     "execution_count": 62,
     "metadata": {},
     "output_type": "execute_result"
    }
   ],
   "source": [
    "# Buses of timestep 4 in the timeseries\n",
    "result[\"solution\"][\"it\"][\"pm\"][\"nw\"][\"4\"][\"bus\"]"
   ]
  },
  {
   "cell_type": "code",
   "execution_count": 63,
   "id": "259e8562-026d-4871-9060-43b72ce8984f",
   "metadata": {},
   "outputs": [
    {
     "data": {
      "text/plain": [
       "Dict{String, Any} with 5 entries:\n",
       "  \"4\" => Dict{String, Any}(\"qg\"=>53.0206, \"pg\"=>19.5984)\n",
       "  \"1\" => Dict{String, Any}(\"qg\"=>30.0, \"pg\"=>40.0)\n",
       "  \"5\" => Dict{String, Any}(\"qg\"=>-204.204, \"pg\"=>460.449)\n",
       "  \"2\" => Dict{String, Any}(\"qg\"=>127.5, \"pg\"=>170.0)\n",
       "  \"3\" => Dict{String, Any}(\"qg\"=>390.0, \"pg\"=>313.247)"
      ]
     },
     "execution_count": 63,
     "metadata": {},
     "output_type": "execute_result"
    }
   ],
   "source": [
    "# Generators of timestep 1 in the timeseries\n",
    "result[\"solution\"][\"it\"][\"pm\"][\"nw\"][\"1\"][\"gen\"]"
   ]
  },
  {
   "cell_type": "code",
   "execution_count": 64,
   "id": "6375fc55-da1d-49d1-b36c-ad4ac206c6c9",
   "metadata": {},
   "outputs": [
    {
     "data": {
      "text/plain": [
       "Dict{String, Any} with 5 entries:\n",
       "  \"4\" => Dict{String, Any}(\"qg\"=>52.5589, \"pg\"=>19.7762)\n",
       "  \"1\" => Dict{String, Any}(\"qg\"=>30.0, \"pg\"=>40.0)\n",
       "  \"5\" => Dict{String, Any}(\"qg\"=>-204.645, \"pg\"=>460.225)\n",
       "  \"2\" => Dict{String, Any}(\"qg\"=>127.5, \"pg\"=>170.0)\n",
       "  \"3\" => Dict{String, Any}(\"qg\"=>390.0, \"pg\"=>311.283)"
      ]
     },
     "execution_count": 64,
     "metadata": {},
     "output_type": "execute_result"
    }
   ],
   "source": [
    "# Generators of timestep 2 in the timeseries\n",
    "result[\"solution\"][\"it\"][\"pm\"][\"nw\"][\"2\"][\"gen\"]"
   ]
  },
  {
   "cell_type": "markdown",
   "id": "d1bf98b5-b2ec-46e7-8d31-90a6e61a9eac",
   "metadata": {},
   "source": [
    "##### Solution Values for Distribution system(s)"
   ]
  },
  {
   "cell_type": "code",
   "execution_count": 65,
   "id": "f7b784e3-7ee6-4acb-ba03-d924557fb948",
   "metadata": {},
   "outputs": [
    {
     "data": {
      "text/plain": [
       "Dict{String, Any} with 8 entries:\n",
       "  \"3bus_unbal_nogen_mn_diff.substation\" => Dict{String, Any}(\"va\"=>[-0.827403, …\n",
       "  \"3bus_unbal_nogen_mn_diff.sourcebus\"  => Dict{String, Any}(\"va\"=>[-0.826499, …\n",
       "  \"3bus_unbal_nogen_mn.primary\"         => Dict{String, Any}(\"va\"=>[-0.799141, …\n",
       "  \"3bus_unbal_nogen_mn.sourcebus\"       => Dict{String, Any}(\"va\"=>[-0.770623, …\n",
       "  \"3bus_unbal_nogen_mn.loadbus\"         => Dict{String, Any}(\"va\"=>[-0.83023, -…\n",
       "  \"3bus_unbal_nogen_mn_diff.primary\"    => Dict{String, Any}(\"va\"=>[-0.855042, …\n",
       "  \"3bus_unbal_nogen_mn.substation\"      => Dict{String, Any}(\"va\"=>[-0.771526, …\n",
       "  \"3bus_unbal_nogen_mn_diff.loadbus\"    => Dict{String, Any}(\"va\"=>[-0.886158, …"
      ]
     },
     "execution_count": 65,
     "metadata": {},
     "output_type": "execute_result"
    }
   ],
   "source": [
    "# Buses of timestep 1 in the timeseries\n",
    "result[\"solution\"][\"it\"][\"pmd\"][\"nw\"][\"1\"][\"bus\"]"
   ]
  },
  {
   "cell_type": "code",
   "execution_count": 66,
   "id": "fa90f494-401b-49ba-9bf1-d32700d59a04",
   "metadata": {},
   "outputs": [
    {
     "data": {
      "text/plain": [
       "Dict{String, Any} with 8 entries:\n",
       "  \"3bus_unbal_nogen_mn_diff.substation\" => Dict{String, Any}(\"va\"=>[-0.746074, …\n",
       "  \"3bus_unbal_nogen_mn_diff.sourcebus\"  => Dict{String, Any}(\"va\"=>[-0.745774, …\n",
       "  \"3bus_unbal_nogen_mn.primary\"         => Dict{String, Any}(\"va\"=>[-0.755989, …\n",
       "  \"3bus_unbal_nogen_mn.sourcebus\"       => Dict{String, Any}(\"va\"=>[-0.727503, …\n",
       "  \"3bus_unbal_nogen_mn.loadbus\"         => Dict{String, Any}(\"va\"=>[-0.787042, …\n",
       "  \"3bus_unbal_nogen_mn_diff.primary\"    => Dict{String, Any}(\"va\"=>[-0.75533, -…\n",
       "  \"3bus_unbal_nogen_mn.substation\"      => Dict{String, Any}(\"va\"=>[-0.728405, …\n",
       "  \"3bus_unbal_nogen_mn_diff.loadbus\"    => Dict{String, Any}(\"va\"=>[-0.765676, …"
      ]
     },
     "execution_count": 66,
     "metadata": {},
     "output_type": "execute_result"
    }
   ],
   "source": [
    "# Buses of timestep 2 in the timeseries\n",
    "result[\"solution\"][\"it\"][\"pmd\"][\"nw\"][\"2\"][\"bus\"]"
   ]
  },
  {
   "cell_type": "code",
   "execution_count": 67,
   "id": "b9a95137-d1b6-4116-9337-73bcdfc0a252",
   "metadata": {},
   "outputs": [
    {
     "data": {
      "text/plain": [
       "Dict{String, Any} with 8 entries:\n",
       "  \"3bus_unbal_nogen_mn_diff.substation\" => Dict{String, Any}(\"va\"=>[-0.991215, …\n",
       "  \"3bus_unbal_nogen_mn_diff.sourcebus\"  => Dict{String, Any}(\"va\"=>[-0.989088, …\n",
       "  \"3bus_unbal_nogen_mn.primary\"         => Dict{String, Any}(\"va\"=>[-0.885806, …\n",
       "  \"3bus_unbal_nogen_mn.sourcebus\"       => Dict{String, Any}(\"va\"=>[-0.857221, …\n",
       "  \"3bus_unbal_nogen_mn.loadbus\"         => Dict{String, Any}(\"va\"=>[-0.916966, …\n",
       "  \"3bus_unbal_nogen_mn_diff.primary\"    => Dict{String, Any}(\"va\"=>[-1.05591, -…\n",
       "  \"3bus_unbal_nogen_mn.substation\"      => Dict{String, Any}(\"va\"=>[-0.858127, …\n",
       "  \"3bus_unbal_nogen_mn_diff.loadbus\"    => Dict{String, Any}(\"va\"=>[-1.1292, -1…"
      ]
     },
     "execution_count": 67,
     "metadata": {},
     "output_type": "execute_result"
    }
   ],
   "source": [
    "# Buses of timestep 3 in the timeseries\n",
    "result[\"solution\"][\"it\"][\"pmd\"][\"nw\"][\"3\"][\"bus\"]"
   ]
  },
  {
   "cell_type": "code",
   "execution_count": 68,
   "id": "f8fc02c0-3466-44f9-9cba-5fabce3fa67c",
   "metadata": {},
   "outputs": [
    {
     "data": {
      "text/plain": [
       "Dict{String, Any} with 8 entries:\n",
       "  \"3bus_unbal_nogen_mn_diff.substation\" => Dict{String, Any}(\"va\"=>[-1.19822, -…\n",
       "  \"3bus_unbal_nogen_mn_diff.sourcebus\"  => Dict{String, Any}(\"va\"=>[-1.19454, -…\n",
       "  \"3bus_unbal_nogen_mn.primary\"         => Dict{String, Any}(\"va\"=>[-0.994826, …\n",
       "  \"3bus_unbal_nogen_mn.sourcebus\"       => Dict{String, Any}(\"va\"=>[-0.966157, …\n",
       "  \"3bus_unbal_nogen_mn.loadbus\"         => Dict{String, Any}(\"va\"=>[-1.02608, -…\n",
       "  \"3bus_unbal_nogen_mn_diff.primary\"    => Dict{String, Any}(\"va\"=>[-1.30979, -…\n",
       "  \"3bus_unbal_nogen_mn.substation\"      => Dict{String, Any}(\"va\"=>[-0.967065, …\n",
       "  \"3bus_unbal_nogen_mn_diff.loadbus\"    => Dict{String, Any}(\"va\"=>[-1.43704, -…"
      ]
     },
     "execution_count": 68,
     "metadata": {},
     "output_type": "execute_result"
    }
   ],
   "source": [
    "# Buses of timestep 4 in the timeseries\n",
    "result[\"solution\"][\"it\"][\"pmd\"][\"nw\"][\"4\"][\"bus\"]"
   ]
  },
  {
   "cell_type": "markdown",
   "id": "ea0a56f6-e399-48fa-89bf-587548ab32da",
   "metadata": {},
   "source": [
    "##### Solution Values for Boundary(ies) (T&D interconnection)"
   ]
  },
  {
   "cell_type": "markdown",
   "id": "cb211325-9518-48ff-9435-ade6aba7a4e3",
   "metadata": {},
   "source": [
    "###### ------ Boundary #1 ------"
   ]
  },
  {
   "cell_type": "code",
   "execution_count": 69,
   "id": "763cfc0e-d8cc-46de-9fbb-55d6a40d166f",
   "metadata": {},
   "outputs": [
    {
     "data": {
      "text/plain": [
       "Dict{String, Any} with 2 entries:\n",
       "  \"pbound_fr\" => [3008.59]\n",
       "  \"qbound_fr\" => [1298.59]"
      ]
     },
     "execution_count": 69,
     "metadata": {},
     "output_type": "execute_result"
    }
   ],
   "source": [
    "# Boundary #1 flows from Transmission (Bus #5) to Distribution (3bus_unbal_nogen_mn) for timestep 1 of the timeseries\n",
    "result[\"solution\"][\"it\"][\"pmitd\"][\"nw\"][\"1\"][\"boundary\"][\"(100001, 5, voltage_source.3bus_unbal_nogen_mn.source)\"]"
   ]
  },
  {
   "cell_type": "code",
   "execution_count": 70,
   "id": "f3a87094-d485-4019-ab97-4cd283fac950",
   "metadata": {},
   "outputs": [
    {
     "data": {
      "text/plain": [
       "Dict{String, Any} with 2 entries:\n",
       "  \"pbound_to\" => [-1204.1, -901.808, -902.676]\n",
       "  \"qbound_to\" => [-400.626, -449.175, -448.787]"
      ]
     },
     "execution_count": 70,
     "metadata": {},
     "output_type": "execute_result"
    }
   ],
   "source": [
    "# Boundary #1 flows from Distribution (3bus_unbal_nogen_mn) to Transmission (Bus #5) for timestep 1 of the timeseries\n",
    "result[\"solution\"][\"it\"][\"pmitd\"][\"nw\"][\"1\"][\"boundary\"][\"(100001, voltage_source.3bus_unbal_nogen_mn.source, 5)\"]"
   ]
  },
  {
   "cell_type": "code",
   "execution_count": 71,
   "id": "80e4d3d2-a216-4499-bd79-ae95285b5fa0",
   "metadata": {},
   "outputs": [
    {
     "data": {
      "text/plain": [
       "Dict{String, Any} with 2 entries:\n",
       "  \"pbound_fr\" => [3008.58]\n",
       "  \"qbound_fr\" => [1298.57]"
      ]
     },
     "execution_count": 71,
     "metadata": {},
     "output_type": "execute_result"
    }
   ],
   "source": [
    "# Boundary #1 flows from Transmission (Bus #5) to Distribution (3bus_unbal_nogen_mn) for timestep 2 of the timeseries\n",
    "result[\"solution\"][\"it\"][\"pmitd\"][\"nw\"][\"2\"][\"boundary\"][\"(100001, 5, voltage_source.3bus_unbal_nogen_mn.source)\"]"
   ]
  },
  {
   "cell_type": "code",
   "execution_count": 72,
   "id": "7e4e6a1e-7788-4e1e-b122-bc33a6a5139f",
   "metadata": {},
   "outputs": [
    {
     "data": {
      "text/plain": [
       "Dict{String, Any} with 2 entries:\n",
       "  \"pbound_to\" => [-1204.1, -901.806, -902.673]\n",
       "  \"qbound_to\" => [-400.62, -449.171, -448.784]"
      ]
     },
     "execution_count": 72,
     "metadata": {},
     "output_type": "execute_result"
    }
   ],
   "source": [
    "# Boundary #1 flows from Distribution (3bus_unbal_nogen_mn) to Transmission (Bus #5) for timestep 2 of the timeseries\n",
    "result[\"solution\"][\"it\"][\"pmitd\"][\"nw\"][\"2\"][\"boundary\"][\"(100001, voltage_source.3bus_unbal_nogen_mn.source, 5)\"]"
   ]
  },
  {
   "cell_type": "markdown",
   "id": "44431acb-fe4b-475f-9bbf-cca8c8b31452",
   "metadata": {},
   "source": [
    "###### ------ Boundary #2 ------"
   ]
  },
  {
   "cell_type": "code",
   "execution_count": 73,
   "id": "6bcb8959-17ce-4a9b-b270-a9cac4e5dfde",
   "metadata": {},
   "outputs": [
    {
     "data": {
      "text/plain": [
       "Dict{String, Any} with 2 entries:\n",
       "  \"pbound_fr\" => [3008.59]\n",
       "  \"qbound_fr\" => [1298.6]"
      ]
     },
     "execution_count": 73,
     "metadata": {},
     "output_type": "execute_result"
    }
   ],
   "source": [
    "# Boundary #2 flows from Transmission (Bus #6) to Distribution (3bus_unbal_nogen_mn_diff) for timestep 1 of the timeseries\n",
    "result[\"solution\"][\"it\"][\"pmitd\"][\"nw\"][\"1\"][\"boundary\"][\"(100002, 6, voltage_source.3bus_unbal_nogen_mn_diff.source)\"]"
   ]
  },
  {
   "cell_type": "code",
   "execution_count": 74,
   "id": "e21e6be6-24ef-4a92-a2ca-ea51bc0b60ec",
   "metadata": {},
   "outputs": [
    {
     "data": {
      "text/plain": [
       "Dict{String, Any} with 2 entries:\n",
       "  \"pbound_to\" => [-1204.1, -901.81, -902.678]\n",
       "  \"qbound_to\" => [-400.63, -449.178, -448.79]"
      ]
     },
     "execution_count": 74,
     "metadata": {},
     "output_type": "execute_result"
    }
   ],
   "source": [
    "# Boundary #2 flows from Distribution (3bus_unbal_nogen_mn_diff) to Transmission (Bus #6) for timestep 1 of the timeseries\n",
    "result[\"solution\"][\"it\"][\"pmitd\"][\"nw\"][\"1\"][\"boundary\"][\"(100002, voltage_source.3bus_unbal_nogen_mn_diff.source, 6)\"]"
   ]
  },
  {
   "cell_type": "code",
   "execution_count": 75,
   "id": "33b27f7f-cd35-41ce-8c95-822e28335cc2",
   "metadata": {},
   "outputs": [
    {
     "data": {
      "text/plain": [
       "Dict{String, Any} with 2 entries:\n",
       "  \"pbound_fr\" => [1000.95]\n",
       "  \"qbound_fr\" => [427.41]"
      ]
     },
     "execution_count": 75,
     "metadata": {},
     "output_type": "execute_result"
    }
   ],
   "source": [
    "# Boundary #2 flows from Transmission (Bus #6) to Distribution (3bus_unbal_nogen_mn_diff) for timestep 2 of the timeseries\n",
    "result[\"solution\"][\"it\"][\"pmitd\"][\"nw\"][\"2\"][\"boundary\"][\"(100002, 6, voltage_source.3bus_unbal_nogen_mn_diff.source)\"]"
   ]
  },
  {
   "cell_type": "code",
   "execution_count": 76,
   "id": "a21245b7-fb19-45d7-94f3-d3a6a25aa5ee",
   "metadata": {},
   "outputs": [
    {
     "data": {
      "text/plain": [
       "Dict{String, Any} with 2 entries:\n",
       "  \"pbound_to\" => [-400.452, -300.2, -300.295]\n",
       "  \"qbound_to\" => [-131.48, -147.986, -147.944]"
      ]
     },
     "execution_count": 76,
     "metadata": {},
     "output_type": "execute_result"
    }
   ],
   "source": [
    "# Boundary #2 flows from Distribution (3bus_unbal_nogen_mn_diff) to Transmission (Bus #6) for timestep 2 of the timeseries\n",
    "result[\"solution\"][\"it\"][\"pmitd\"][\"nw\"][\"2\"][\"boundary\"][\"(100002, voltage_source.3bus_unbal_nogen_mn_diff.source, 6)\"]"
   ]
  },
  {
   "cell_type": "code",
   "execution_count": 77,
   "id": "ea8a1872-5842-4d4c-b86e-a8538cbdda0d",
   "metadata": {},
   "outputs": [
    {
     "data": {
      "text/plain": [
       "Dict{String, Any} with 2 entries:\n",
       "  \"pbound_fr\" => [7047.38]\n",
       "  \"qbound_fr\" => [3054.79]"
      ]
     },
     "execution_count": 77,
     "metadata": {},
     "output_type": "execute_result"
    }
   ],
   "source": [
    "# Boundary #2 flows from Transmission (Bus #6) to Distribution (3bus_unbal_nogen_mn_diff) for timestep 3 of the timeseries\n",
    "result[\"solution\"][\"it\"][\"pmitd\"][\"nw\"][\"3\"][\"boundary\"][\"(100002, 6, voltage_source.3bus_unbal_nogen_mn_diff.source)\"]"
   ]
  },
  {
   "cell_type": "code",
   "execution_count": 78,
   "id": "473f2a8d-f412-4fe0-8174-6203abe307fe",
   "metadata": {},
   "outputs": [
    {
     "data": {
      "text/plain": [
       "Dict{String, Any} with 2 entries:\n",
       "  \"pbound_to\" => [-2822.68, -2109.95, -2114.75]\n",
       "  \"qbound_to\" => [-946.558, -1055.2, -1053.04]"
      ]
     },
     "execution_count": 78,
     "metadata": {},
     "output_type": "execute_result"
    }
   ],
   "source": [
    "# Boundary #2 flows from Distribution (3bus_unbal_nogen_mn_diff) to Transmission (Bus #6) for timestep 3 of the timeseries\n",
    "result[\"solution\"][\"it\"][\"pmitd\"][\"nw\"][\"3\"][\"boundary\"][\"(100002, voltage_source.3bus_unbal_nogen_mn_diff.source, 6)\"]"
   ]
  },
  {
   "cell_type": "code",
   "execution_count": 79,
   "id": "5dd9631a-1ac1-4385-b88a-5e0c0c40dccd",
   "metadata": {},
   "outputs": [
    {
     "data": {
      "text/plain": [
       "Dict{String, Any} with 2 entries:\n",
       "  \"pbound_fr\" => [12141.4]\n",
       "  \"qbound_fr\" => [5276.86]"
      ]
     },
     "execution_count": 79,
     "metadata": {},
     "output_type": "execute_result"
    }
   ],
   "source": [
    "# Boundary #2 flows from Transmission (Bus #6) to Distribution (3bus_unbal_nogen_mn_diff) for timestep 4 of the timeseries\n",
    "result[\"solution\"][\"it\"][\"pmitd\"][\"nw\"][\"4\"][\"boundary\"][\"(100002, 6, voltage_source.3bus_unbal_nogen_mn_diff.source)\"]"
   ]
  },
  {
   "cell_type": "code",
   "execution_count": 80,
   "id": "bb210edb-1125-4d2a-8fd0-2654de73aa4a",
   "metadata": {},
   "outputs": [
    {
     "data": {
      "text/plain": [
       "Dict{String, Any} with 2 entries:\n",
       "  \"pbound_to\" => [-4867.93, -3629.56, -3643.95]\n",
       "  \"qbound_to\" => [-1643.84, -1819.75, -1813.27]"
      ]
     },
     "execution_count": 80,
     "metadata": {},
     "output_type": "execute_result"
    }
   ],
   "source": [
    "# Boundary #2 flows from Distribution (3bus_unbal_nogen_mn_diff) to Transmission (Bus #6) for timestep 4 of the timeseries\n",
    "result[\"solution\"][\"it\"][\"pmitd\"][\"nw\"][\"4\"][\"boundary\"][\"(100002, voltage_source.3bus_unbal_nogen_mn_diff.source, 6)\"]"
   ]
  },
  {
   "cell_type": "markdown",
   "id": "148985b2-f2fb-4de0-8713-41e415da04d2",
   "metadata": {},
   "source": [
    "### -----------------------------------------------------------------------------------------------------------\n",
    "### QUIZ #3: let's solve the Optimal Power Flow ITD (OPFITD) using different formulations and compute optimality gaps.\n",
    "\n",
    "Let's solve the OPF using other formulations:\n",
    "\n",
    "- `ACRPowerModel-ACRUPowerModel` (NLP) -- AC rectangular coordinates --> `NLPowerModelITD{ACRPowerModel, ACRUPowerModel}`\n",
    "- `BFAPowerModel-LinDist3FlowPowerModel` (APPROXIMATION) -- Branch flow - LindDist3Flow approximation --> `BFPowerModelITD{BFAPowerModel, LinDist3FlowPowerModel}`\n",
    "- `NFAPowerModel-NFAUPowerModel` (APPROXIMATION) -- Network flow approximation -->  `LPowerModelITD{NFAPowerModel, NFAUPowerModel}`\n",
    "- `IVRPowerModel-IVRUPowerModel` (NLP) -- Current-Voltage rectangular coordinates --> `IVRPowerModelITD{IVRPowerModel, IVRUPowerModel}`\n",
    "\n",
    "**Note**: the optimality gap is normally used to compare NLPs with approximations/relaxations. NLPs vs NLPs should give a value close to 0.0%\n",
    "\n",
    "**Note 2**: Make sure that the solver terminates nominally!, i.e., `result[\"termination_status\"] == OPTIMAL` ||  `result[\"termination_status\"] == LOCALLY_SOLVED`)\n",
    "\n",
    "I will provide an example below between **ACP-ACPU vs. ACR-ACRU**\n",
    "\n",
    "See all currently supported formulations [here](https://lanl-ansi.github.io/PowerModelsITD.jl/stable/manual/quickguide.html#Accessing-Different-Formulations) or [here](https://lanl-ansi.github.io/PowerModelsITD.jl/stable/manual/formulations.html)"
   ]
  },
  {
   "cell_type": "code",
   "execution_count": 81,
   "id": "b24f6d0f-354b-47a9-9d4e-cd649cc9fb35",
   "metadata": {},
   "outputs": [
    {
     "name": "stderr",
     "output_type": "stream",
     "text": [
      "\u001b[36m\u001b[1m[ \u001b[22m\u001b[39m\u001b[36m\u001b[1mPowerModelsITD | Info ] : \u001b[22m\u001b[39mpmitd model solution time (instantiate + optimization): 0.03621315956115723\n",
      "\u001b[36m\u001b[1m[ \u001b[22m\u001b[39m\u001b[36m\u001b[1mMain | Info ] : \u001b[22m\u001b[39mNLP: 17953.746512049685\n",
      "\u001b[36m\u001b[1m[ \u001b[22m\u001b[39m\u001b[36m\u001b[1mMain | Info ] : \u001b[22m\u001b[39mNLP: LOCALLY_SOLVED\n",
      "\u001b[36m\u001b[1m[ \u001b[22m\u001b[39m\u001b[36m\u001b[1mPowerModelsITD | Info ] : \u001b[22m\u001b[39mpmitd model solution time (instantiate + optimization): 1.876512050628662\n",
      "\u001b[36m\u001b[1m[ \u001b[22m\u001b[39m\u001b[36m\u001b[1mMain | Info ] : \u001b[22m\u001b[39mRELAX: 17953.746516911073\n",
      "\u001b[36m\u001b[1m[ \u001b[22m\u001b[39m\u001b[36m\u001b[1mMain | Info ] : \u001b[22m\u001b[39mRELAX: LOCALLY_SOLVED\n",
      "\u001b[36m\u001b[1m[ \u001b[22m\u001b[39m\u001b[36m\u001b[1mMain | Info ] : \u001b[22m\u001b[39mOptimality Gap: -2.7077286742954975e-8 %\n"
     ]
    }
   ],
   "source": [
    "# solver\n",
    "ipopt_solver = optimizer_with_attributes(Ipopt.Optimizer, \"print_level\" => 0)\n",
    "\n",
    "# Define the path to be the PowerModels path (optional)\n",
    "files_path = joinpath(dirname(pathof(PowerModelsITD)), \"..\")\n",
    "pm_file = joinpath(files_path, \"test/data/transmission/case5_withload.m\")\n",
    "pmd_file = joinpath(files_path, \"test/data/distribution/case3_unbalanced.dss\")\n",
    "boundary_file = joinpath(files_path, \"test/data/json/case5_case3_unbal.json\")\n",
    "\n",
    "# Base nlp to compare\n",
    "formulation = PowerModelsITD.NLPowerModelITD{ACPPowerModel, ACPUPowerModel} ## Formulation!!!\n",
    "data_nlp = PowerModelsITD.parse_files(pm_file, pmd_file, boundary_file)\n",
    "result_nlp = solve_opfitd(data_nlp, formulation, ipopt_solver)\n",
    "@info \"NLP: $(result_nlp[\"objective\"])\"\n",
    "@info \"NLP: $(result_nlp[\"termination_status\"])\"\n",
    "\n",
    "# Approx. or Relax. to compare (in this case is another nlp formulation)\n",
    "formulation = PowerModelsITD.NLPowerModelITD{ACRPowerModel, ACRUPowerModel} ## Formulation!!!\n",
    "data_relax = PowerModelsITD.parse_files(pm_file, pmd_file, boundary_file)\n",
    "result_relax = solve_opfitd(data_relax, formulation, ipopt_solver)\n",
    "@info \"RELAX: $(result_relax[\"objective\"])\"\n",
    "@info \"RELAX: $(result_relax[\"termination_status\"])\"\n",
    "\n",
    "op_gap = optimality_gap(result_nlp, result_relax) # result is in %\n",
    "\n",
    "@info \"Optimality Gap: $(op_gap) %\""
   ]
  },
  {
   "cell_type": "markdown",
   "id": "986304ad-ea42-44f0-9b28-1864fceac26d",
   "metadata": {},
   "source": [
    "## Other Test Cases\n",
    "\n",
    "You can find other test cases to run and experiment in the [Beginners Guide of PowerModelsITD](https://lanl-ansi.github.io/PowerModelsITD.jl/stable/tutorials/BeginnersGuide.html)"
   ]
  },
  {
   "cell_type": "code",
   "execution_count": null,
   "id": "64e60ab3-1144-4efe-8270-da5151e5b11e",
   "metadata": {},
   "outputs": [],
   "source": []
  }
 ],
 "metadata": {
  "kernelspec": {
   "display_name": "Julia 1.11.2",
   "language": "julia",
   "name": "julia-1.11"
  },
  "language_info": {
   "file_extension": ".jl",
   "mimetype": "application/julia",
   "name": "julia",
   "version": "1.11.2"
  }
 },
 "nbformat": 4,
 "nbformat_minor": 5
}
