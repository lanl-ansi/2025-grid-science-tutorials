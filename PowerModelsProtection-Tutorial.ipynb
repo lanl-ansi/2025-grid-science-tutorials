{
 "cells": [
  {
   "cell_type": "markdown",
   "metadata": {},
   "source": [
    "# Background \n",
    "PowerModelsProtection is based on PowerModels for the transmission system and PowerModelsDistribution for distribution system. The focus has been on the distribution system because of its use in Smart-Gird applications so the distribution formulation is more developed than the transmission formulation. Currently, the distribution solve is being rewritten to focus more on matrix formulations rather than on individual constraints (discussion later). \n",
    "\n",
    "jtabarez@lanl.gov\n",
    "\n",
    "LA-UR-25-20118\n",
    "# Installing PowerModelsProtection.jl\n",
    "Using the Julia terminal and the command \"add PowerModelProtection\"\n",
    "\n",
    "The formulation is described in *Optimization-Based Formulations for Short-Circuit Studies with Inverter-Interfaced Generation in PowerModelsProtection.jl*\n",
    "The focus of PMP is on faults with inverters. \n",
    "\n",
    "# Short-Circuit Constraints\n",
    "The base equation for faults is based on the current injection into the fault\n",
    "$$I^{\\phi}_{si_ff} = {\\bm G}_fV^{\\phi}_{i_f}$$\n",
    "To develop the constraint the $${\\bm G}_f$$ matrix needs to be defined for each type of fault. \n",
    "\n",
    "The faults that PMP can perform:\n",
    "- Single line to ground (most common of faults in distribution system)\n",
    "- Line to Line \n",
    "- Line to Line to ground \n",
    "- 3 Phase \n",
    "- 3 Phase to ground \n",
    "\n",
    "# Math Models \n",
    "Single line to ground\n",
    "$${\\bm G}_f = \n",
    "\\begin{bmatrix}\n",
    "\\mathbf{g}_f & 0 & 0\\\\\n",
    "0 & 0 & 0 \\\\\n",
    "0 & 0 & 0\\\\\n",
    "\\end{bmatrix}$$\n",
    "\n",
    "Line to line is seen as a connected load between phases. \n",
    "$${\\bm G}_f = \n",
    "\\begin{bmatrix}\n",
    "\\mathbf{g}_f & -\\mathbf{g}_f & 0\\\\\n",
    "-\\mathbf{g}_f & \\mathbf{g}_f & 0 \\\\\n",
    "0 & 0 & 0\\\\\n",
    "\\end{bmatrix}$$\n",
    "\n",
    "For three phase to ground faults, the connection is seen as fault connections to a common point which will be used when the fault includes a connection to ground. This avoids having the neutral being explicitly modeled throughout the problem or could be modeled as a simple delta impedance load because that is what the math model becomes. The star-mesh transformation in required for the ground fault and is used here to model the unground three phase fault. \n",
    "\n",
    "![title](img/3_phase.png) \n",
    " \n",
    "The matrix equation is:\n",
    "$${\\bm G}_f =3\n",
    "\\begin{bmatrix}\n",
    "2\\mathbf{g}_f & -\\mathbf{g}_f & -\\mathbf{g}_f\\\\\n",
    "-\\mathbf{g}_f & 2\\mathbf{g}_f & -\\mathbf{g}_f \\\\\n",
    "-\\mathbf{g}_f & -\\mathbf{g}_f & 2\\mathbf{g}_f\\\\\n",
    "\\end{bmatrix}$$\n",
    "\n",
    "For line to line to ground faults the star-mesh transformation is used to avoid the issue of neutral discussed above. \n",
    "\n",
    "![title](img/llg.png) \n",
    "\n",
    "Following the transformation: \n",
    "$$\\mathbf{g}_{total} = 2\\mathbf{g}_{p}+\\mathbf{g}_{g}$$\n",
    "\n",
    "$$\\mathbf{g}_{pp} = \\frac{\\mathbf{g}_{p}^2}{\\mathbf{g}_{total}}$$\n",
    "\n",
    "$$\\mathbf{g}_{pg} = \\frac{\\mathbf{g}_{p}\\mathbf{g}_{g}}{\\mathbf{g}_{total}}$$\n",
    "\n",
    "The matrix is then: \n",
    "$${\\bm G}_f = \n",
    "\\begin{bmatrix}\n",
    "\\mathbf{g}_{pp}\\mathbf{g}_{pg} & -\\mathbf{g}_{pp} & 0\\\\\n",
    "-\\mathbf{g}_{pp} & \\mathbf{g}_{pp}\\mathbf{g}_{pg} & 0 \\\\\n",
    "0 & 0 & 0\\\\\n",
    "\\end{bmatrix}$$\n",
    "\n",
    "For the three phase to ground fault\n",
    "\n",
    "![title](img/3_phase_g.png)\n",
    "\n",
    "Following the transformation:\n",
    "\n",
    "$$\\mathbf{g}_{total} = 3\\mathbf{g}_{p}+\\mathbf{g}_{g}$$\n",
    "\n",
    "$$\\mathbf{g}_{pp} = \\frac{\\mathbf{g}_{p}^2}{\\mathbf{g}_{total}}$$\n",
    "\n",
    "$$\\mathbf{g}_{pg} = \\frac{\\mathbf{g}_{p}\\mathbf{g}_{g}}{\\mathbf{g}_{total}}$$\n",
    "\n",
    "The matrix is then:\n",
    "$${\\bm G}_f = \n",
    "\\begin{bmatrix}\n",
    "2\\mathbf{g}_{pp}\\mathbf{g}_{pg} & -\\mathbf{g}_{pp} & -\\mathbf{g}_{pp}\\\\\n",
    "-\\mathbf{g}_{pp} & 2\\mathbf{g}_{pp}\\mathbf{g}_{pg} & -\\mathbf{g}_{pp} \\\\\n",
    "-\\mathbf{g}_{pp} & -\\mathbf{g}_{pp} & 2\\mathbf{g}_{pp}\\mathbf{g}_{pg}\\\\\n",
    "\\end{bmatrix}$$\n",
    "\n",
    "In the end, any fault can be modeled just as long it is defined as current injection, because the coupling constraint of the problem is KCL. KCL couples the nodes by the branch injections. \n",
    "\n",
    "For non-faulted nodes: \n",
    "$$\\sum_{(i,j,k) \\in {\\cal E}_i^+}I^{\\phi}_{ijkf} - \\sum_{(j,i,k) \\in {\\cal E}_i^-}I^{\\phi}_{ijkf} = \\sum_{g \\in \\mathrm{G}(i)}I^{\\phi}_{gf} - \\sum_{l \\in \\mathrm{L}(i)}I^{\\phi}_{lf}$$\n",
    "\n",
    "For faulted nodes:\n",
    "$$\\sum_{(i,j,k) \\in {\\cal E}_{i_f}^+}I^{\\phi}_{ijkf} - \\sum_{(j,i,k) \\in {\\cal E}_{i_f}^-}I^{\\phi}_{ijkf} = \\sum_{g \\in \\mathrm{G}(i_f)}I^{\\phi}_{gf} - \\sum_{l \\in \\mathrm{L}(i)}I^{\\phi}_{lf} - I^\\phi_{i_ff}$$\n",
    "\n",
    "Then it is just power flow. \n"
   ]
  },
  {
   "cell_type": "markdown",
   "metadata": {},
   "source": [
    "## Running PMP\n",
    "What is shown in this section is based on v0.5.3 but the current version of PMP is at v0.7.1 (will talk about later).\n",
    "\n",
    "Like most faults solvers PMP will perform a fault study, meaning it will perform all faults on all nodes. It is important to realize that there can be infeasible solutions or numerical errors because the formulation is non-convex and non-linear. Most will argue that short-circuits problems are linear which is true when power defined loads and shunts, and any other non-linear components like inverters or induction motors are not modeled. To reduce model complexity loads and shunts can be dropped, which most commercial solvers have an option to include or exclude them but even without loads transformer connections can cause the admittance to be singular (or close to) causing solvers to crash or reach their max iterations.  \n"
   ]
  },
  {
   "cell_type": "code",
   "execution_count": 13,
   "metadata": {},
   "outputs": [
    {
     "data": {
      "text/plain": [
       "MathOptInterface.OptimizerWithAttributes(Ipopt.Optimizer, Pair{MathOptInterface.AbstractOptimizerAttribute, Any}[MathOptInterface.RawOptimizerAttribute(\"tol\") => 1.0e-6, MathOptInterface.RawOptimizerAttribute(\"print_level\") => 0])"
      ]
     },
     "metadata": {},
     "output_type": "display_data"
    }
   ],
   "source": [
    "using PowerModelsProtection\n",
    "\n",
    "import Ipopt\n",
    "import PowerModelsDistribution\n",
    "\n",
    "const PMD = PowerModelsDistribution\n",
    "\n",
    "PowerModelsDistribution.silence!()\n",
    "\n",
    "ipopt_solver = optimizer_with_attributes(Ipopt.Optimizer, \"tol\"=>1e-6, \"print_level\"=>0)"
   ]
  },
  {
   "cell_type": "markdown",
   "metadata": {},
   "source": [
    "OpenDSS format for distribution systems is currently the only format supported. To load case: "
   ]
  },
  {
   "cell_type": "code",
   "execution_count": 14,
   "metadata": {},
   "outputs": [
    {
     "data": {
      "text/plain": [
       "Dict{String, Any} with 12 entries:\n",
       "  \"conductor_ids\"  => [1, 2, 3, 4]\n",
       "  \"method\"         => \"PMD\"\n",
       "  \"bus\"            => Dict{String, Any}(\"primary\"=>Dict{String, Any}(\"rg\"=>Floa…\n",
       "  \"name\"           => \"3bus_example\"\n",
       "  \"settings\"       => Dict{String, Any}(\"sbase_default\"=>500.0, \"vbases_default…\n",
       "  \"files\"          => [\"C:\\\\Users\\\\338983\\\\Documents\\\\GitHub\\\\Winter_School\\\\ds…\n",
       "  \"dss_options\"    => Dict{String, Any}(\"voltagebases\"=>[0.4], \"defaultbasefreq…\n",
       "  \"voltage_source\" => Dict{String, Any}(\"source\"=>Dict{String, Any}(\"connection…\n",
       "  \"line\"           => Dict{String, Any}(\"quad\"=>Dict{String, Any}(\"length\"=>1.0…\n",
       "  \"data_model\"     => ENGINEERING\n",
       "  \"load\"           => Dict{String, Any}(\"l2\"=>Dict{String, Any}(\"model\"=>POWER,…\n",
       "  \"linecode\"       => Dict{String, Any}(\"556mcm\"=>Dict{String, Any}(\"b_fr\"=>[25…"
      ]
     },
     "metadata": {},
     "output_type": "display_data"
    }
   ],
   "source": [
    "case =  parse_file(\"C:\\\\Users\\\\338983\\\\Documents\\\\GitHub\\\\Winter_School\\\\dss\\\\3bus_example.dss\")"
   ]
  },
  {
   "cell_type": "markdown",
   "metadata": {},
   "source": [
    "To perform a fault study: "
   ]
  },
  {
   "cell_type": "code",
   "execution_count": 15,
   "metadata": {},
   "outputs": [
    {
     "data": {
      "text/plain": [
       "Dict{String, Any} with 3 entries:\n",
       "  \"primary\"  => Dict{String, Any}(\"3p\"=>Dict{String, Any}(\"1\"=>Dict{String, Any…\n",
       "  \"primary2\" => Dict{String, Any}(\"3p\"=>Dict{String, Any}(\"1\"=>Dict{String, Any…\n",
       "  \"loadbus\"  => Dict{String, Any}(\"3p\"=>Dict{String, Any}(\"1\"=>Dict{String, Any…"
      ]
     },
     "metadata": {},
     "output_type": "display_data"
    }
   ],
   "source": [
    "fault_studies = build_mc_fault_study(case)\n",
    "sol = solve_mc_fault_study(case, fault_studies, ipopt_solver)"
   ]
  },
  {
   "cell_type": "markdown",
   "metadata": {},
   "source": [
    "The layout of the results will be:\n",
    "\n",
    "___Node (string int)\n",
    "\n",
    "________Fault type (\"3p\", \"3pg\", \"ll\", \"llg\", \"lg\")\n",
    "\n",
    "_________________Fault number (\"1\", \"2\", \"3\") these are based on the number of phases or fault (ll -- \"1\" = a to b)\n",
    "\n",
    "_____________________________\"Solution\" (Contains the normal solution information including whether the problem was feasible, solution time, etc.. )\n",
    "\n",
    "\n"
   ]
  },
  {
   "cell_type": "code",
   "execution_count": 16,
   "metadata": {},
   "outputs": [
    {
     "data": {
      "text/plain": [
       "Dict{String, Any} with 3 entries:\n",
       "  \"primary\"  => Dict{String, Any}(\"3p\"=>Dict{String, Any}(\"1\"=>Dict{String, Any…\n",
       "  \"primary2\" => Dict{String, Any}(\"3p\"=>Dict{String, Any}(\"1\"=>Dict{String, Any…\n",
       "  \"loadbus\"  => Dict{String, Any}(\"3p\"=>Dict{String, Any}(\"1\"=>Dict{String, Any…"
      ]
     },
     "metadata": {},
     "output_type": "display_data"
    }
   ],
   "source": [
    "sol"
   ]
  },
  {
   "cell_type": "code",
   "execution_count": 17,
   "metadata": {},
   "outputs": [
    {
     "data": {
      "text/plain": [
       "Dict{String, Any} with 5 entries:\n",
       "  \"3p\"  => Dict{String, Any}(\"1\"=>Dict{String, Any}(\"solve_time\"=>0.0170002, \"o…\n",
       "  \"ll\"  => Dict{String, Any}(\"1\"=>Dict{String, Any}(\"solve_time\"=>0.016, \"optim…\n",
       "  \"lg\"  => Dict{String, Any}(\"1\"=>Dict{String, Any}(\"solve_time\"=>0.00699997, \"…\n",
       "  \"3pg\" => Dict{String, Any}(\"1\"=>Dict{String, Any}(\"solve_time\"=>0.00999999, \"…\n",
       "  \"llg\" => Dict{String, Any}(\"1\"=>Dict{String, Any}(\"solve_time\"=>0.013, \"optim…"
      ]
     },
     "metadata": {},
     "output_type": "display_data"
    }
   ],
   "source": [
    "sol[\"primary\"]\n",
    "\n",
    "\n",
    "\n",
    "\n"
   ]
  },
  {
   "cell_type": "code",
   "execution_count": 18,
   "metadata": {},
   "outputs": [
    {
     "data": {
      "text/plain": [
       "Dict{String, Any} with 3 entries:\n",
       "  \"1\" => Dict{String, Any}(\"solve_time\"=>0.016, \"optimizer\"=>\"Ipopt\", \"terminat…\n",
       "  \"2\" => Dict{String, Any}(\"solve_time\"=>0.013, \"optimizer\"=>\"Ipopt\", \"terminat…\n",
       "  \"3\" => Dict{String, Any}(\"solve_time\"=>0.00999999, \"optimizer\"=>\"Ipopt\", \"ter…"
      ]
     },
     "metadata": {},
     "output_type": "display_data"
    }
   ],
   "source": [
    "sol[\"primary\"][\"ll\"]"
   ]
  },
  {
   "cell_type": "code",
   "execution_count": 19,
   "metadata": {},
   "outputs": [
    {
     "data": {
      "text/plain": [
       "Dict{String, Any} with 8 entries:\n",
       "  \"solve_time\"         => 0.016\n",
       "  \"optimizer\"          => \"Ipopt\"\n",
       "  \"termination_status\" => LOCALLY_SOLVED\n",
       "  \"dual_status\"        => FEASIBLE_POINT\n",
       "  \"primal_status\"      => FEASIBLE_POINT\n",
       "  \"objective\"          => 0.0\n",
       "  \"solution\"           => Dict{String, Any}(\"voltage_source\"=>Dict{String, Any}…\n",
       "  \"objective_lb\"       => -Inf"
      ]
     },
     "metadata": {},
     "output_type": "display_data"
    }
   ],
   "source": [
    "sol[\"primary\"][\"ll\"][\"1\"]"
   ]
  },
  {
   "cell_type": "markdown",
   "metadata": {},
   "source": [
    "To perform a single fault, a fault is added to the case data: "
   ]
  },
  {
   "cell_type": "code",
   "execution_count": 20,
   "metadata": {},
   "outputs": [
    {
     "name": "stdout",
     "output_type": "stream",
     "text": [
      "1040.7458422515847\n"
     ]
    }
   ],
   "source": [
    "add_fault!(case, \"1\", \"3p\", \"loadbus\", [1,2,3], 0.005)\n",
    "sol = solve_mc_fault_study(case, ipopt_solver)\n",
    "println(sol[\"solution\"][\"fault\"][\"1\"][\"cf\"][1])"
   ]
  },
  {
   "cell_type": "markdown",
   "metadata": {},
   "source": [
    "Issues with PMP:\n",
    "- Slow \n",
    "- Inverters require binaries\n",
    "\n",
    "\n",
    "## Inverter Modeling \n",
    "Inverter's current saturates:\n",
    "\n",
    "![title](img/inverter_model_curve.png)\n",
    "\n",
    "To model this non-linear behavior, a binary would have to be used to indicate that the current injection is constant when voltage on the node collapses. Work has been carried out to relax the model, but there are cases that are not feasible. \n",
    "\n",
    "The follwoing is the grid-following results for line to line: \n",
    "\n",
    "![title](img/Relaxed_following.png)\n",
    "\n",
    "The grid-forming relaxations have some issues: \n",
    "![title](img/grid_forming.png)\n"
   ]
  },
  {
   "cell_type": "markdown",
   "metadata": {},
   "source": [
    "# New Formulations in v0.7.1 (Currently under development)\n",
    "Back to $$I=YV$$\n",
    "\n",
    "This will follow the new format of JuMP of taking in matrices based problems. \n",
    "\n",
    "The admittance matrix is explicitly defined (me being a power engineer), and non-linear components are linearized into the matrix with non-linear adjustments made in the vector of the current. This allows access for individual primitive matrices for each component to be adjusted or viewed by the user. I think this is helpful when dealing with transformer configurations. \n",
    "\n",
    "Currently the only solver is an iterative based solver, but work has started to convert back to the optimization-based solver in which the main linear constraint will be I=YV and all non-linear constraints will be applied to I vector. \n",
    "\n",
    "Inverter fault standards (positive and negative sequence currents) are being incorporated into the solver. \n",
    "\n",
    "Show IEEE123 if there is time. "
   ]
  },
  {
   "cell_type": "code",
   "execution_count": 21,
   "metadata": {},
   "outputs": [
    {
     "data": {
      "text/plain": [
       "AdmittanceModel(Dict{String, Any}(\"is_kron_reduced\" => false, \"conductor_ids\" => [1, 2, 3, 4], \"time_elapsed\" => 1.0, \"bus\" => Dict{String, Any}(\"32\" => Dict{String, Any}(\"vm_pair_lb\" => Tuple{Any, Any, Real}[], \"grounded\" => Bool[0, 0], \"vm_pair_ub\" => Tuple{Any, Any, Real}[], \"bus_i\" => 32, \"name\" => \"26\", \"bus_type\" => 1, \"terminals\" => [1, 3], \"vmax\" => [Inf, Inf], \"vbase\" => 2.402, \"source_id\" => \"bus.26\"…), \"29\" => Dict{String, Any}(\"vm_pair_lb\" => Tuple{Any, Any, Real}[], \"grounded\" => Bool[0, 1], \"vm_pair_ub\" => Tuple{Any, Any, Real}[], \"bus_i\" => 29, \"name\" => \"92\", \"bus_type\" => 1, \"terminals\" => [3, 4], \"vmax\" => [Inf, Inf], \"vbase\" => 2.401777119828844, \"source_id\" => \"bus.92\"…), \"1\" => Dict{String, Any}(\"vm_pair_lb\" => Tuple{Any, Any, Real}[], \"grounded\" => Bool[0, 1], \"vm_pair_ub\" => Tuple{Any, Any, Real}[], \"bus_i\" => 1, \"name\" => \"32\", \"bus_type\" => 1, \"terminals\" => [3, 4], \"vmax\" => [Inf, Inf], \"vbase\" => 2.402, \"source_id\" => \"bus.32\"…), \"54\" => Dict{String, Any}(\"vm_pair_lb\" => Tuple{Any, Any, Real}[], \"grounded\" => Bool[0, 0, 0, 1], \"vm_pair_ub\" => Tuple{Any, Any, Real}[], \"bus_i\" => 54, \"name\" => \"62\", \"bus_type\" => 1, \"terminals\" => [1, 2, 3, 4], \"vmax\" => [Inf, Inf, Inf, Inf], \"vbase\" => 2.402, \"source_id\" => \"bus.62\"…), \"78\" => Dict{String, Any}(\"vm_pair_lb\" => Tuple{Any, Any, Real}[], \"grounded\" => Bool[0, 0, 0, 1], \"vm_pair_ub\" => Tuple{Any, Any, Real}[], \"bus_i\" => 78, \"name\" => \"79\", \"bus_type\" => 1, \"terminals\" => [1, 2, 3, 4], \"vmax\" => [Inf, Inf, Inf, Inf], \"vbase\" => 2.401777119828844, \"source_id\" => \"bus.79\"…), \"81\" => Dict{String, Any}(\"vm_pair_lb\" => Tuple{Any, Any, Real}[], \"grounded\" => Bool[0, 1], \"vm_pair_ub\" => Tuple{Any, Any, Real}[], \"bus_i\" => 81, \"name\" => \"6\", \"bus_type\" => 1, \"terminals\" => [3, 4], \"vmax\" => [Inf, Inf], \"vbase\" => 2.401777119828844, \"source_id\" => \"bus.6\"…), \"101\" => Dict{String, Any}(\"vm_pair_lb\" => Tuple{Any, Any, Real}[], \"grounded\" => Bool[0, 1], \"vm_pair_ub\" => Tuple{Any, Any, Real}[], \"bus_i\" => 101, \"name\" => \"102\", \"bus_type\" => 1, \"terminals\" => [3, 4], \"vmax\" => [Inf, Inf], \"vbase\" => 2.401777119828844, \"source_id\" => \"bus.102\"…), \"2\" => Dict{String, Any}(\"vm_pair_lb\" => Tuple{Any, Any, Real}[], \"grounded\" => Bool[0, 0, 0, 1], \"vm_pair_ub\" => Tuple{Any, Any, Real}[], \"bus_i\" => 2, \"name\" => \"29\", \"bus_type\" => 1, \"terminals\" => [1, 2, 3, 4], \"vmax\" => [Inf, Inf, Inf, Inf], \"vbase\" => 2.401777119828844, \"source_id\" => \"bus.29\"…), \"105\" => Dict{String, Any}(\"vm_pair_lb\" => Tuple{Any, Any, Real}[], \"grounded\" => Bool[0, 0, 0], \"vm_pair_ub\" => Tuple{Any, Any, Real}[], \"bus_i\" => 105, \"name\" => \"100_pv\", \"bus_type\" => 1, \"terminals\" => [1, 2, 3], \"vmax\" => [Inf, Inf, Inf], \"vbase\" => 0.23094010767585035, \"source_id\" => \"bus.100_pv\"…), \"109\" => Dict{String, Any}(\"vm_pair_lb\" => Tuple{Any, Any, Real}[], \"grounded\" => Bool[0, 1], \"vm_pair_ub\" => Tuple{Any, Any, Real}[], \"bus_i\" => 109, \"name\" => \"22\", \"bus_type\" => 1, \"terminals\" => [2, 4], \"vmax\" => [Inf, Inf], \"vbase\" => 2.402, \"source_id\" => \"bus.22\"…)…), \"name\" => \"ieee123\", \"map\" => Dict{String, Any}[Dict(\"unmap_function\" => \"_map_math2eng_root!\"), Dict(\"to\" => \"bus.1\", \"from\" => \"32\", \"unmap_function\" => \"_map_math2eng_bus!\"), Dict(\"to\" => \"bus.2\", \"from\" => \"29\", \"unmap_function\" => \"_map_math2eng_bus!\"), Dict(\"to\" => \"bus.3\", \"from\" => \"1\", \"unmap_function\" => \"_map_math2eng_bus!\"), Dict(\"to\" => \"bus.4\", \"from\" => \"109\", \"unmap_function\" => \"_map_math2eng_bus!\"), Dict(\"to\" => \"bus.5\", \"from\" => \"81\", \"unmap_function\" => \"_map_math2eng_bus!\"), Dict(\"to\" => \"bus.6\", \"from\" => \"101\", \"unmap_function\" => \"_map_math2eng_bus!\"), Dict(\"to\" => \"bus.7\", \"from\" => \"54\", \"unmap_function\" => \"_map_math2eng_bus!\"), Dict(\"to\" => \"bus.8\", \"from\" => \"2\", \"unmap_function\" => \"_map_math2eng_bus!\"), Dict(\"to\" => \"bus.9\", \"from\" => \"78\", \"unmap_function\" => \"_map_math2eng_bus!\")  …  Dict(\"to\" => \"switch.1\", \"from\" => \"swrtl1\", \"unmap_function\" => \"_map_math2eng_switch!\"), Dict(\"to\" => \"switch.2\", \"from\" => \"swrtl2\", \"unmap_function\" => \"_map_math2eng_switch!\"), Dict(\"to\" => \"switch.3\", \"from\" => \"swrtl3\", \"unmap_function\" => \"_map_math2eng_switch!\"), Dict(\"to\" => \"switch.4\", \"from\" => \"swr6\", \"unmap_function\" => \"_map_math2eng_switch!\"), Dict(\"to\" => \"switch.5\", \"from\" => \"swr3\", \"unmap_function\" => \"_map_math2eng_switch!\"), Dict(\"to\" => \"switch.6\", \"from\" => \"swr4\", \"unmap_function\" => \"_map_math2eng_switch!\"), Dict(\"to\" => \"switch.7\", \"from\" => \"swrtl4\", \"unmap_function\" => \"_map_math2eng_switch!\"), Dict(\"to\" => \"switch.8\", \"from\" => \"swr2\", \"unmap_function\" => \"_map_math2eng_switch!\"), Dict(\"to\" => \"switch.9\", \"from\" => \"swr1\", \"unmap_function\" => \"_map_math2eng_switch!\"), Dict(\"to\" => \"switch.10\", \"from\" => \"swr5\", \"unmap_function\" => \"_map_math2eng_switch!\")], \"settings\" => Dict{String, Any}(\"sbase_default\" => 100000.0, \"loading\" => true, \"vbases_default\" => Dict{String, Real}(\"61\" => 2.4017771198288433), \"voltage_scale_factor\" => 1000.0, \"power_scale_factor\" => 1000.0, \"base_frequency\" => 60.0), \"controls\" => Dict{String, Any}(), \"gen\" => Dict{String, Any}(\"1\" => Dict{String, Any}(\"pg\" => [0.0, 0.0, 0.0], \"model\" => 2, \"connections\" => [1, 2, 3, 4], \"shutdown\" => 0.0, \"startup\" => 0.0, \"xs\" => [0.010666666666666668 0.004666666666666667 0.004666666666666667; 0.004666666666666665 0.010666666666666668 0.004666666666666666; 0.004666666666666663 0.00466666666666667 0.010666666666666668], \"configuration\" => PowerModelsDistribution.WYE, \"name\" => \"source\", \"element\" => VoltageSourceElement, \"qg\" => [0.0, 0.0, 0.0]…)), \"branch\" => Dict{String, Any}(\"32\" => Dict{String, Any}(\"br_r\" => [0.08181628780000001;;], \"rate_a\" => [Inf], \"f_connections\" => [1], \"rate_b\" => [Inf], \"name\" => \"l113\", \"br_x\" => [0.08294270822500001;;], \"rate_c\" => [Inf], \"g_to\" => [0.0;;], \"dss\" => Dict{String, Any}(\"length\" => 0.325, \"name\" => \"l113\", \"phases\" => 1, \"bus1\" => \"113.1\", \"linecode\" => \"9\", \"bus2\" => \"114.1\"), \"c_rating_a\" => [600.0]…), \"29\" => Dict{String, Any}(\"br_r\" => [0.0176742424 0.005984848000000001 0.005909091000000001; 0.005984848000000001 0.0174810606 0.0058143940000000005; 0.005909091000000001 0.0058143940000000005 0.0173333334], \"rate_a\" => [Inf, Inf, Inf], \"f_connections\" => [1, 2, 3], \"rate_b\" => [Inf, Inf, Inf], \"name\" => \"l26\", \"br_x\" => [0.039704545400000006 0.0160454546 0.0190037878; 0.0160454546 0.040344697000000006 0.0145795454; 0.0190037878 0.0145795454 0.040833333400000005], \"rate_c\" => [Inf, Inf, Inf], \"g_to\" => [0.0 0.0 0.0; 0.0 0.0 0.0; 0.0 0.0 0.0], \"dss\" => Dict{String, Any}(\"length\" => 0.2, \"name\" => \"l26\", \"phases\" => 3, \"bus1\" => \"25.1.2.3\", \"linecode\" => \"2\", \"bus2\" => \"28.1.2.3\"), \"c_rating_a\" => [600.0, 600.0, 600.0]…), \"1\" => Dict{String, Any}(\"br_r\" => [0.048072916650000005 0.0159895835 0.0164583331; 0.0159895835 0.047666666850000004 0.016250000250000004; 0.0164583331 0.016250000250000004 0.048604166600000005], \"rate_a\" => [Inf, Inf, Inf], \"f_connections\" => [1, 2, 3], \"rate_b\" => [Inf, Inf, Inf], \"name\" => \"l97\", \"br_x\" => [0.11094791675000001 0.04009374985 0.04412500015; 0.04009374985 0.11229166685000001 0.05226041645; 0.04412500015 0.05226041645 0.10918749985000001], \"rate_c\" => [Inf, Inf, Inf], \"g_to\" => [0.0 0.0 0.0; 0.0 0.0 0.0; 0.0 0.0 0.0], \"dss\" => Dict{String, Any}(\"length\" => 0.55, \"name\" => \"l97\", \"phases\" => 3, \"bus1\" => \"98.1.2.3\", \"linecode\" => \"3\", \"bus2\" => \"99.1.2.3\"), \"c_rating_a\" => [600.0, 600.0, 600.0]…), \"54\" => Dict{String, Any}(\"br_r\" => [0.0440549242;;], \"rate_a\" => [Inf], \"f_connections\" => [2], \"rate_b\" => [Inf], \"name\" => \"l1\", \"br_x\" => [0.044661458274999996;;], \"rate_c\" => [Inf], \"g_to\" => [0.0;;], \"dss\" => Dict{String, Any}(\"length\" => 0.175, \"name\" => \"l1\", \"phases\" => 1, \"bus1\" => \"1.2\", \"linecode\" => \"10\", \"bus2\" => \"2.2\"), \"c_rating_a\" => [600.0]…), \"78\" => Dict{String, Any}(\"br_r\" => [0.05034848480000001;;], \"rate_a\" => [Inf], \"f_connections\" => [1], \"rate_b\" => [Inf], \"name\" => \"l44\", \"br_x\" => [0.05104166660000001;;], \"rate_c\" => [Inf], \"g_to\" => [0.0;;], \"dss\" => Dict{String, Any}(\"length\" => 0.2, \"name\" => \"l44\", \"phases\" => 1, \"bus1\" => \"44.1\", \"linecode\" => \"9\", \"bus2\" => \"45.1\"), \"c_rating_a\" => [600.0]…), \"81\" => Dict{String, Any}(\"br_r\" => [0.024036458325000003 0.00799479175 0.00822916655; 0.00799479175 0.023833333425000002 0.008125000125000002; 0.00822916655 0.008125000125000002 0.024302083300000003], \"rate_a\" => [Inf, Inf, Inf], \"f_connections\" => [1, 2, 3], \"rate_b\" => [Inf, Inf, Inf], \"name\" => \"l96\", \"br_x\" => [0.05547395837500001 0.020046874925 0.022062500075; 0.020046874925 0.05614583342500001 0.026130208225; 0.022062500075 0.026130208225 0.054593749925000004], \"rate_c\" => [Inf, Inf, Inf], \"g_to\" => [0.0 0.0 0.0; 0.0 0.0 0.0; 0.0 0.0 0.0], \"dss\" => Dict{String, Any}(\"length\" => 0.275, \"name\" => \"l96\", \"phases\" => 3, \"bus1\" => \"97.1.2.3\", \"linecode\" => \"3\", \"bus2\" => \"98.1.2.3\"), \"c_rating_a\" => [600.0, 600.0, 600.0]…), \"101\" => Dict{String, Any}(\"br_r\" => [0.1447518938;;], \"rate_a\" => [Inf], \"f_connections\" => [2], \"rate_b\" => [Inf], \"name\" => \"l106\", \"br_x\" => [0.146744791475;;], \"rate_c\" => [Inf], \"g_to\" => [0.0;;], \"dss\" => Dict{String, Any}(\"length\" => 0.575, \"name\" => \"l106\", \"phases\" => 1, \"bus1\" => \"106.2\", \"linecode\" => \"10\", \"bus2\" => \"107.2\"), \"c_rating_a\" => [600.0]…), \"2\" => Dict{String, Any}(\"br_r\" => [0.087405303 0.02907197 0.029924242; 0.02907197 0.086666667 0.029545455; 0.029924242 0.029545455 0.088371212], \"rate_a\" => [Inf, Inf, Inf], \"f_connections\" => [1, 2, 3], \"rate_b\" => [Inf, Inf, Inf], \"name\" => \"l108\", \"br_x\" => [0.201723485 0.072897727 0.080227273; 0.072897727 0.204166667 0.095018939; 0.080227273 0.095018939 0.198522727], \"rate_c\" => [Inf, Inf, Inf], \"g_to\" => [0.0 0.0 0.0; 0.0 0.0 0.0; 0.0 0.0 0.0], \"dss\" => Dict{String, Any}(\"length\" => 1.0, \"name\" => \"l108\", \"phases\" => 3, \"bus1\" => \"108.1.2.3\", \"linecode\" => \"3\", \"bus2\" => \"300.1.2.3\"), \"c_rating_a\" => [600.0, 600.0, 600.0]…), \"105\" => Dict{String, Any}(\"br_r\" => [0.062935606;;], \"rate_a\" => [Inf], \"f_connections\" => [1], \"rate_b\" => [Inf], \"name\" => \"l15\", \"br_x\" => [0.06380208325;;], \"rate_c\" => [Inf], \"g_to\" => [0.0;;], \"dss\" => Dict{String, Any}(\"length\" => 0.25, \"name\" => \"l15\", \"phases\" => 1, \"bus1\" => \"14.1\", \"linecode\" => \"9\", \"bus2\" => \"10.1\"), \"c_rating_a\" => [600.0]…), \"109\" => Dict{String, Any}(\"br_r\" => [0.02166666675 0.00738636375 0.0072679925; 0.00738636375 0.022092803 0.0074810605; 0.0072679925 0.0074810605 0.02185132575], \"rate_a\" => [Inf, Inf, Inf], \"f_connections\" => [1, 2, 3], \"rate_b\" => [Inf, Inf, Inf], \"name\" => \"l41\", \"br_x\" => [0.05104166675 0.02375473475 0.01822443175; 0.02375473475 0.04963068175 0.02005681825; 0.01822443175 0.02005681825 0.05043087125], \"rate_c\" => [Inf, Inf, Inf], \"g_to\" => [0.0 0.0 0.0; 0.0 0.0 0.0; 0.0 0.0 0.0], \"dss\" => Dict{String, Any}(\"length\" => 0.25, \"name\" => \"l41\", \"phases\" => 3, \"bus1\" => \"40.1.2.3\", \"linecode\" => \"1\", \"bus2\" => \"42.1.2.3\"), \"c_rating_a\" => [600.0, 600.0, 600.0]…)…)…), ComplexF64[13.319055915106802 - 30.740389812613355im -5.075171005542948 + 10.829273985550298im … 0.0 + 0.0im 0.0 + 0.0im; -5.075171005542948 + 10.829273985550298im 22.374338687483757 - 39.73942166690841im … 0.0 + 0.0im 0.0 + 0.0im; … ; 0.0 + 0.0im 0.0 + 0.0im … 27.953090462768728 - 43.55111800713411im -4.459157448825576 + 8.45711187016067im; 0.0 + 0.0im 0.0 + 0.0im … -4.459157448825576 + 8.457111870160668im 21.30045382588073 - 37.93489212615552im], ComplexF64[2402.0 - 0.0im; -1201.0000000000011 + 2080.1930198902214im; … ; -1200.8885599144214 - 2080.0000000000005im; -1200.888559914423 + 2080.0im;;], ComplexF64[0.0 + 0.0im; 0.0 + 0.0im; … ; 0.0 + 0.0im; 0.0 + 0.0im;;], ComplexF64[0.0 + 0.0im; 0.0 + 0.0im; … ; 0.0 + 0.0im; 0.0 + 0.0im;;], ComplexF64[0.0 + 0.0im; 0.0 + 0.0im; … ; 0.0 + 0.0im; 0.0 + 0.0im;;])"
      ]
     },
     "metadata": {},
     "output_type": "display_data"
    }
   ],
   "source": [
    "data = parse_file(\"C:\\\\Users\\\\338983\\\\Documents\\\\GitHub\\\\Winter_School\\\\dss\\\\Modified IEEE123 DSS files\\\\IEEE123MasterV2_Relays_RONM_no_pv.dss\")\n",
    "\n",
    "model = PowerModelsProtection.instantiate_mc_admittance_model(data;loading=true) \n",
    "\n"
   ]
  },
  {
   "cell_type": "code",
   "execution_count": 22,
   "metadata": {},
   "outputs": [
    {
     "data": {
      "text/plain": [
       "Dict{String, Any} with 21 entries:\n",
       "  \"is_kron_reduced\" => false\n",
       "  \"conductor_ids\"   => [1, 2, 3, 4]\n",
       "  \"time_elapsed\"    => 1.0\n",
       "  \"bus\"             => Dict{String, Any}(\"32\"=>Dict{String, Any}(\"vm_pair_lb\"=>…\n",
       "  \"name\"            => \"ieee123\"\n",
       "  \"map\"             => Dict{String, Any}[Dict(\"unmap_function\"=>\"_map_math2eng_…\n",
       "  \"settings\"        => Dict{String, Any}(\"sbase_default\"=>100000.0, \"loading\"=>…\n",
       "  \"controls\"        => Dict{String, Any}()\n",
       "  \"gen\"             => Dict{String, Any}(\"1\"=>Dict{String, Any}(\"pg\"=>[0.0, 0.0…\n",
       "  \"branch\"          => Dict{String, Any}(\"32\"=>Dict{String, Any}(\"br_r\"=>[0.081…\n",
       "  \"storage\"         => Dict{String, Any}()\n",
       "  \"switch\"          => Dict{String, Any}(\"8\"=>Dict{String, Any}(\"f_connections\"…\n",
       "  \"admittance_type\" => Dict{Int64, Any}(56=>1, 35=>1, 60=>1, 220=>1, 308=>1, 67…\n",
       "  \"is_projected\"    => false\n",
       "  \"per_unit\"        => false\n",
       "  \"data_model\"      => MATHEMATICAL\n",
       "  \"admittance_map\"  => Dict{Tuple, Int64}((111, 2)=>50, (141, 3)=>59, (125, 2)=…\n",
       "  \"shunt\"           => Dict{String, Any}(\"4\"=>Dict{String, Any}(\"connections\"=>…\n",
       "  \"transformer\"     => Dict{String, Any}(\"4\"=>Dict{String, Any}(\"polarity\"=>[1,…\n",
       "  ⋮                 => ⋮"
      ]
     },
     "metadata": {},
     "output_type": "display_data"
    }
   ],
   "source": [
    "model.data"
   ]
  },
  {
   "cell_type": "code",
   "execution_count": 23,
   "metadata": {},
   "outputs": [
    {
     "data": {
      "text/plain": [
       "Dict{String, Any} with 30 entries:\n",
       "  \"polarity\"      => [1, 1]\n",
       "  \"cm_ub\"         => Inf\n",
       "  \"sm_nom\"        => [5000.0, 5000.0]\n",
       "  \"tm_lb\"         => [[0.9, 0.9, 0.9], [0.9, 0.9, 0.9]]\n",
       "  \"tm_set\"        => [[1.0, 1.0, 1.0], [1.0, 1.0, 1.0]]\n",
       "  \"tm_step\"       => [[0.03125, 0.03125, 0.03125], [0.03125, 0.03125, 0.03125]]\n",
       "  \"f_connections\" => [1, 2, 3, 4]\n",
       "  \"configuration\" => ConnConfig[WYE, WYE]\n",
       "  \"name\"          => \"reg1a\"\n",
       "  \"b_sh\"          => -0.0\n",
       "  \"element\"       => Transformer2WElement\n",
       "  \"tm_nom\"        => [4.16, 4.16]\n",
       "  \"status\"        => 1\n",
       "  \"g_sh\"          => 0.0\n",
       "  \"dss\"           => Dict{String, Any}(\"windings\"=>2, \"name\"=>\"reg1a\", \"phases\"…\n",
       "  \"xsc\"           => [1.0e-5]\n",
       "  \"source_id\"     => \"transformer.reg1a\"\n",
       "  \"t_connections\" => [1, 2, 3, 4]\n",
       "  \"f_bus\"         => 61\n",
       "  ⋮               => ⋮"
      ]
     },
     "metadata": {},
     "output_type": "display_data"
    }
   ],
   "source": [
    "model.data[\"transformer\"][\"1\"]"
   ]
  },
  {
   "cell_type": "code",
   "execution_count": 24,
   "metadata": {},
   "outputs": [
    {
     "data": {
      "text/plain": [
       "8×8 Matrix{ComplexF64}:\n",
       "  288.895-28889.5im       0.0+0.0im      …   288.895-28889.5im\n",
       "      0.0+0.0im       288.895-28889.5im      288.895-28889.5im\n",
       "      0.0+0.0im           0.0+0.0im          288.895-28889.5im\n",
       " -288.895+28889.5im  -288.895+28889.5im     -866.685+86668.5im\n",
       " -288.895+28889.5im       0.0+0.0im         -288.895+28889.5im\n",
       "      0.0+0.0im      -288.895+28889.5im  …  -288.895+28889.5im\n",
       "      0.0+0.0im           0.0+0.0im         -288.895+28889.5im\n",
       "  288.895-28889.5im   288.895-28889.5im      866.685-86668.5im"
      ]
     },
     "metadata": {},
     "output_type": "display_data"
    }
   ],
   "source": [
    "model.data[\"transformer\"][\"1\"][\"p_matrix\"]"
   ]
  }
 ],
 "metadata": {
  "kernelspec": {
   "display_name": "Julia 1.11.2",
   "language": "julia",
   "name": "julia-1.11"
  },
  "language_info": {
   "file_extension": ".jl",
   "mimetype": "application/julia",
   "name": "julia",
   "version": "1.11.2"
  }
 },
 "nbformat": 4,
 "nbformat_minor": 2
}
